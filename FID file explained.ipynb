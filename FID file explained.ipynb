{
 "cells": [
  {
   "cell_type": "code",
   "execution_count": 28,
   "metadata": {},
   "outputs": [],
   "source": [
    "import numpy as np\n",
    "from scipy.special import ndtr\n",
    "from scipy.stats import norm, ncx2\n",
    "from scipy.optimize import minimize\n",
    "from numpy.polynomial.hermite import hermfit, hermval, hermder\n",
    "import copy\n",
    "import fixed_income_derivatives as fid\n",
    "import matplotlib.pyplot as plt\n"
   ]
  },
  {
   "cell_type": "markdown",
   "metadata": {},
   "source": [
    "#### Spot rates to ZCB\n"
   ]
  },
  {
   "cell_type": "code",
   "execution_count": 14,
   "metadata": {},
   "outputs": [
    {
     "name": "stdout",
     "output_type": "stream",
     "text": [
      "[0.7 0.8 0.9 1. ]\n"
     ]
    }
   ],
   "source": [
    "def spot_rates_to_zcb(T,spot_rate):\n",
    "    M = len(T)\n",
    "    p = np.zeros([M])\n",
    "    for i in range(0,M):\n",
    "        if T[i] < 1e-8:\n",
    "            p[i] = 1\n",
    "        else:\n",
    "            p[i] = np.exp(-spot_rate[i]*T[i])\n",
    "    return p\n",
    "\n",
    "#Example:\n",
    "T = [1/4, 2/4, 3/4, 4/4]\n",
    "spot_rate = [ 1.42669978,  0.4462871 ,  0.14048069, -0.        ]\n",
    "\n",
    "print(spot_rates_to_zcb(T,spot_rate))"
   ]
  },
  {
   "cell_type": "markdown",
   "metadata": {},
   "source": [
    "Input:\n",
    "\\begin{equation*}\n",
    "\\begin{aligned}\n",
    "T &= \\text{time to maturity} \\\\\n",
    "\\text{spot\\_rate}&=\\text{Spot rate}\n",
    "\\end{aligned}\n",
    "\\end{equation*}\n",
    "\n",
    "Output:\n",
    "\\begin{equation*}\n",
    "\\begin{aligned}\n",
    "p &= \\text{ZCB price} \n",
    "\\end{aligned}\n",
    "\\end{equation*}\n",
    "\n",
    "Formula:\n",
    "\\begin{equation*}\n",
    "\\begin{aligned}\n",
    "p(t,T)=\\exp(-R(t,T)\\cdot(T-t))\n",
    "\\end{aligned}\n",
    "\\end{equation*}\n"
   ]
  },
  {
   "cell_type": "markdown",
   "metadata": {},
   "source": [
    "#### ZCB to spot rates"
   ]
  },
  {
   "cell_type": "code",
   "execution_count": 13,
   "metadata": {},
   "outputs": [
    {
     "name": "stdout",
     "output_type": "stream",
     "text": [
      "[ 1.42669978  0.4462871   0.14048069 -0.        ]\n"
     ]
    }
   ],
   "source": [
    "def zcb_to_spot_rates(T,p):\n",
    "    M = len(T)\n",
    "    R = np.zeros([M])\n",
    "    for i in range(0,M):\n",
    "        if T[i] < 1e-8:\n",
    "            R[i] = 0\n",
    "        else:\n",
    "            R[i] = -np.log(p[i])/T[i]\n",
    "    return R\n",
    "\n",
    "#Example:\n",
    "T = [1/4, 2/4, 3/4, 4/4]\n",
    "p = [0.7, 0.8, 0.9, 1]\n",
    "\n",
    "print(zcb_to_spot_rates(T,p))"
   ]
  },
  {
   "cell_type": "markdown",
   "metadata": {},
   "source": [
    "Input:\n",
    "\\begin{equation*}\n",
    "\\begin{aligned}\n",
    "T &= \\text{time to maturity} \\\\\n",
    "p &= \\text{ZCB price} \n",
    "\\end{aligned}\n",
    "\\end{equation*}\n",
    "\n",
    "Output:\n",
    "\\begin{equation*}\n",
    "\\begin{aligned}\n",
    "R &= \\text{spot rate} \n",
    "\\end{aligned}\n",
    "\\end{equation*}\n",
    "\n",
    "Formula:\n",
    "\\begin{equation*}\n",
    "\\begin{aligned}\n",
    "R(t,T) &= -\\frac{\\log p(t,T)}{(T-t)}\n",
    "\\end{aligned}\n",
    "\\end{equation*}\n"
   ]
  },
  {
   "cell_type": "markdown",
   "metadata": {},
   "source": [
    "#### ZCB to forward rates"
   ]
  },
  {
   "cell_type": "code",
   "execution_count": 22,
   "metadata": {},
   "outputs": [
    {
     "name": "stdout",
     "output_type": "stream",
     "text": [
      "[ 0.         -0.53412557 -0.47113214 -0.42144206]\n",
      "[-0.53412557 -0.50262886 -0.4462871  -0.42144206]\n"
     ]
    }
   ],
   "source": [
    "def zcb_to_forward_rates(T,p,horizon = 1):\n",
    "    # horizon = 0 corresponds to instantaneous forward rates\n",
    "    M = len(T)\n",
    "    f = np.zeros([M])\n",
    "    if horizon == 0:\n",
    "        f[0] = (np.log(p[0])-np.log(p[1]))/(T[1]-T[0])\n",
    "        f[-1] = (np.log(p[-2])-np.log(p[-1]))/(T[-1]-T[-2])\n",
    "        m = 1\n",
    "        while m < M - 1.5: #1.5 is abritrary and might as well be 1.0001, as far as I understand...\n",
    "            f[m] = (np.log(p[m-1])-np.log(p[m+1]))/(T[m+1]-T[m-1])\n",
    "            m += 1\n",
    "    elif 0 < horizon:\n",
    "        m = horizon\n",
    "        while m < M - 0.5:\n",
    "            f[m] = (np.log(p[m-horizon])-np.log(p[m]))/(T[m]-T[m-horizon])\n",
    "            m += 1\n",
    "    return f\n",
    "\n",
    "#Example:\n",
    "T = [1/4, 2/4, 3/4, 4/4]\n",
    "p = [0.7, 0.8, 0.9, 1]\n",
    "\n",
    "print(zcb_to_forward_rates(T,p, horizon=1))\n",
    "print(zcb_to_forward_rates(T,p, horizon=0))"
   ]
  },
  {
   "cell_type": "markdown",
   "metadata": {},
   "source": [
    "Input:\n",
    "\\begin{equation*}\n",
    "\\begin{aligned}\n",
    "T &= \\text{time to maturity} \\\\\n",
    "p &= \\text{ZCB price} \\\\\n",
    "horizon&=\\text{start date of loan}\n",
    "\\end{aligned}\n",
    "\\end{equation*}\n",
    "\n",
    "Output:\n",
    "\\begin{equation*}\n",
    "\\begin{aligned}\n",
    "f=\\text{forward rates of return}\n",
    "\\end{aligned}\n",
    "\\end{equation*}\n",
    "\n",
    "Formula:\n",
    "\\begin{equation*}\n",
    "\\begin{aligned}\n",
    "R(t;S,T)=-\\frac{\\log p(t,T)-\\log p(t,S)}{(T-S)}\n",
    "\\end{aligned}\n",
    "\\end{equation*}\n"
   ]
  },
  {
   "cell_type": "markdown",
   "metadata": {},
   "source": [
    "#### ZCB to forward LIBOR rates"
   ]
  },
  {
   "cell_type": "code",
   "execution_count": 24,
   "metadata": {},
   "outputs": [
    {
     "name": "stdout",
     "output_type": "stream",
     "text": [
      "[ 0.         -0.5        -0.44444444 -0.4       ]\n"
     ]
    }
   ],
   "source": [
    "def zcb_to_forward_LIBOR_rates(T,p,horizon = 1):\n",
    "    M = len(T)\n",
    "    f = np.zeros([M])\n",
    "    i = horizon\n",
    "    #ERROR: Need to include what happens when horizon = 0\n",
    "    while i < M - 0.5:\n",
    "        f[i] = (p[i-horizon]-p[i])/(p[i]*(T[i]-T[i-horizon]))\n",
    "        i += 1\n",
    "    return f\n",
    "\n",
    "#Example:\n",
    "T = [1/4, 2/4, 3/4, 4/4]\n",
    "p = [0.7, 0.8, 0.9, 1]\n",
    "\n",
    "print(zcb_to_forward_LIBOR_rates(T,p, horizon=1))\n"
   ]
  },
  {
   "cell_type": "markdown",
   "metadata": {},
   "source": [
    "Input:\n",
    "\\begin{equation*}\n",
    "\\begin{aligned}\n",
    "T &= \\text{time to maturity} \\\\\n",
    "p &= \\text{ZCB price} \\\\\n",
    "horizon&=\\text{start date of loan}\n",
    "\\end{aligned}\n",
    "\\end{equation*}\n",
    "\n",
    "Output:\n",
    "\\begin{equation*}\n",
    "\\begin{aligned}\n",
    "f=\\text{forward rates of return}\n",
    "\\end{aligned}\n",
    "\\end{equation*}\n",
    "\n",
    "Formula (unsure):\n",
    "\\begin{equation*}\n",
    "\\begin{aligned}\n",
    "\\text{Forward LIBOR Rate} = \\frac{p(t, S) - p(t, T)}{p(t, T) \\cdot (T - S)}\n",
    "\\end{aligned}\n",
    "\\end{equation*}\n"
   ]
  },
  {
   "cell_type": "markdown",
   "metadata": {},
   "source": [
    "#### Utility function used in many of the following functions:"
   ]
  },
  {
   "cell_type": "code",
   "execution_count": 85,
   "metadata": {},
   "outputs": [
    {
     "name": "stdout",
     "output_type": "stream",
     "text": [
      "0.25\n",
      "0.5\n",
      "0.75\n",
      "1.0\n"
     ]
    }
   ],
   "source": [
    "def value_in_list_returns_I_idx(value,list):\n",
    "    output = False, None\n",
    "    for i, item in enumerate(list):\n",
    "        if abs(value-item) < 1e-6:\n",
    "            output = True, i\n",
    "            break\n",
    "    return output\n",
    "\n",
    "#Example:\n",
    "example_list = [1/8, 2/8, 3/8, 4/8, 5/8, 6/8, 7/8, 8/8]\n",
    "example_value = [2/8, 4/8, 6/8, 8/8]\n",
    "\n",
    "for i in range(0,len(example_value)):\n",
    "    I_fix, idx_fix = value_in_list_returns_I_idx(example_value[i], example_list)\n",
    "    if I_fix is True:\n",
    "        print(example_list[idx_fix])"
   ]
  },
  {
   "cell_type": "markdown",
   "metadata": {},
   "source": [
    "In essence, the function only returns values that are in both lists."
   ]
  },
  {
   "cell_type": "markdown",
   "metadata": {},
   "source": [
    "#### ZCB to accrual factor (also known as present value of a basis point)"
   ]
  },
  {
   "cell_type": "code",
   "execution_count": 127,
   "metadata": {},
   "outputs": [
    {
     "name": "stdout",
     "output_type": "stream",
     "text": [
      "0.85\n"
     ]
    }
   ],
   "source": [
    "def zcb_to_accrual_factor(T_n,T_N,fixed_freq,T,p):\n",
    "    if fixed_freq == \"quarterly\":\n",
    "        p_fix = np.zeros([int(T_N-T_n)*4])\n",
    "        T_fix = np.array([T_n + i*0.25 for i in range(1,int(T_N-T_n)*4 + 1)])\n",
    "    elif fixed_freq == \"semiannual\":\n",
    "        p_fix = np.zeros([int(T_N-T_n)*2])\n",
    "        T_fix = np.array([T_n + i*0.5 for i in range(1,int(T_N-T_n)*2 + 1)])\n",
    "    elif fixed_freq == \"annual\":\n",
    "        p_fix = np.zeros([int(T_N-T_n)])\n",
    "        T_fix = np.array([T_n + i*0.25 for i in range(1,int(T_N-T_n) + 1)])\n",
    "    S = 0\n",
    "    for i in range(0,len(T_fix)):\n",
    "        I_fix, idx_fix = value_in_list_returns_I_idx(T_fix[i],T)\n",
    "        if I_fix is True:\n",
    "            T_fix[i] = T[idx_fix]\n",
    "            p_fix[i] = p[idx_fix]\n",
    "            if i == 0:\n",
    "                S += T_fix[i]*p_fix[i]\n",
    "            else:\n",
    "                S += (T_fix[i]-T_fix[i-1])*p_fix[i]\n",
    "\n",
    "\n",
    "    return S\n",
    "\n",
    "#Example:\n",
    "T = [1/4, 2/4, 3/4, 4/4]\n",
    "p = [0.7, 0.8, 0.9, 1]\n",
    "\n",
    "S = zcb_to_accrual_factor(0,1,\"quarterly\",T,p)\n",
    "\n",
    "print(S)\n"
   ]
  },
  {
   "cell_type": "markdown",
   "metadata": {},
   "source": [
    "Input:\n",
    "\\begin{equation*}\n",
    "\\begin{aligned}\n",
    "T_n &= \\text{Start time of the accrual period} \\\\\n",
    "T_N &= \\text{End time of the accrual period} \\\\\n",
    "\\text{fixed\\_freq} &= \\text{Frequency of accrual} \\\\\n",
    "T &= \\text{time to maturity} \\\\\n",
    "p &= \\text{ZCB price}\n",
    "\\end{aligned}\n",
    "\\end{equation*}\n",
    "\n",
    "Output:\n",
    "\\begin{equation*}\n",
    "\\begin{aligned}\n",
    "S=\\text{Accrual factor}\n",
    "\\end{aligned}\n",
    "\\end{equation*}\n",
    "\n",
    "Formula:\n",
    "\\begin{equation*}\n",
    "\\begin{aligned}\n",
    "S_{n}^{k}(t) &=\\sum_{i=n+1}^{k}\\alpha_{i}p(t,T_{i}) \\\\\n",
    "\\alpha_{i} &=T_{i}-T_{i-1}\n",
    "\\end{aligned}\n",
    "\\end{equation*}\n",
    "\n",
    "where $n$ is the start period and $k$ is the end period.\n"
   ]
  },
  {
   "cell_type": "markdown",
   "metadata": {},
   "source": [
    "#### ZCB to par swap rate"
   ]
  },
  {
   "cell_type": "code",
   "execution_count": 129,
   "metadata": {},
   "outputs": [
    {
     "data": {
      "text/plain": [
       "-0.5882352941176471"
      ]
     },
     "execution_count": 129,
     "metadata": {},
     "output_type": "execute_result"
    }
   ],
   "source": [
    "def zcb_to_par_swap_rate(T_n,T_N,fixed_freq,T,p):\n",
    "    I_n, idx_n = value_in_list_returns_I_idx(T_n,T)\n",
    "    I_N, idx_N = value_in_list_returns_I_idx(T_N,T)\n",
    "    D = p[idx_n]-p[idx_N]\n",
    "    S = zcb_to_accrual_factor(T_n,T_N,fixed_freq,T,p)\n",
    "    R = D/S\n",
    "    return R\n",
    "\n",
    "#Example:\n",
    "T = [0, 1/4, 2/4, 3/4, 4/4]\n",
    "p = [0.5, 0.7, 0.8, 0.9, 1]\n",
    "\n",
    "zcb_to_par_swap_rate(0,1,\"quarterly\",T,p)"
   ]
  },
  {
   "cell_type": "markdown",
   "metadata": {},
   "source": [
    "Input:\n",
    "\\begin{equation*}\n",
    "\\begin{aligned}\n",
    "T_n &= \\text{Start time of the accrual period} \\\\\n",
    "T_N &= \\text{End time of the accrual period} \\\\\n",
    "\\text{fixed\\_freq} &= \\text{Frequency of accrual} \\\\\n",
    "T &= \\text{time to maturity} \\\\\n",
    "p &= \\text{ZCB price}\n",
    "\\end{aligned}\n",
    "\\end{equation*}\n",
    "\n",
    "Output:\n",
    "\\begin{equation*}\n",
    "\\begin{aligned}\n",
    "R=\\text{Par swap rate}\n",
    "\\end{aligned}\n",
    "\\end{equation*}\n",
    "\n",
    "Formula:\n",
    "\\begin{equation*}\n",
    "\\begin{aligned}\n",
    "R_{n}^{N}(t)=\\frac{p_{n}(t)-p_{N}(t)}{\\sum_{i=n+1}^{N}\\alpha_{i}p_{i}(t)}\n",
    "\\end{aligned}\n",
    "\\end{equation*}\n",
    "\n",
    "where $n$ is the start period and $N$ is the end period. Note that the denominator is the accrual rate.\n"
   ]
  },
  {
   "cell_type": "markdown",
   "metadata": {},
   "source": [
    "#### ZCB price for vasicek"
   ]
  },
  {
   "cell_type": "code",
   "execution_count": 144,
   "metadata": {},
   "outputs": [
    {
     "name": "stdout",
     "output_type": "stream",
     "text": [
      "[1.         0.99336228 0.98611486 0.97834796 0.97014137 0.96156554\n",
      " 0.9526825  0.94354674 0.93420609 0.9247024  0.91507227 0.90534762\n",
      " 0.89555625 0.88572234 0.87586689 0.86600808 0.85616164 0.84634112\n",
      " 0.83655822 0.82682295 0.81714389 0.80752836 0.79798256 0.78851175\n",
      " 0.77912033 0.76981198 0.76058975 0.75145611 0.74241308 0.73346224\n",
      " 0.72460482 0.71584171 0.70717356 0.69860077 0.69012352 0.68174184\n",
      " 0.67345559 0.6652645  0.6571682  0.64916622 0.64125799]\n"
     ]
    }
   ],
   "source": [
    "def zcb_price_vasicek(r0,a,b,sigma,tau):\n",
    "    if type(tau) == int or type(tau) == float:\n",
    "        B = (1/a)*(1-np.exp(-a*tau))\n",
    "        A = (B-tau)*(a*b-0.5*sigma**2)/(a**2)-(sigma**2*B)/(4*a)\n",
    "        p = np.exp(A-r0*B)\n",
    "    elif type(tau) == tuple or type(tau) == list or type(tau) == np.ndarray:\n",
    "        M = len(tau)\n",
    "        p = np.zeros([M])\n",
    "        for i in range(0,M):\n",
    "            B = (1/a)*(1-np.exp(-a*tau[i]))\n",
    "            A = (B-tau[i])*(a*b-0.5*sigma**2)/(a**2)-(sigma**2*B)/(4*a)\n",
    "            #ERROR: Why is it not B**2????\n",
    "            p[i] = np.exp(A-r0*B)\n",
    "    else:\n",
    "        print(f\"tau not a recognized type\")\n",
    "        p = False\n",
    "    return p\n",
    "\n",
    "#Example:\n",
    "r0, a, b, sigma_vasicek = 0.025, 0.5, 0.025, 0.02\n",
    "alpha = 0.25\n",
    "T_max = 10\n",
    "\n",
    "M = int(round(T_max/alpha))\n",
    "\n",
    "T = np.array([i*alpha for i in range(0,M+1)])\n",
    "\n",
    "print(zcb_price_vasicek(r0, a, b, sigma_vasicek, T))"
   ]
  },
  {
   "cell_type": "markdown",
   "metadata": {},
   "source": [
    "Input:\n",
    "\\begin{equation*}\n",
    "\\begin{aligned}\n",
    "r_0 &= \\text{Initial short rate} \\\\\n",
    "a &= \\text{Speed of reversion} \\\\\n",
    "b &= \\text{Long-term mean level} \\\\\n",
    "\\sigma &= \\text{Volatility} \\\\\n",
    "\\tau &= \\text{Time to maturity}\n",
    "\\end{aligned}\n",
    "\\end{equation*}\n",
    "\n",
    "Output:\n",
    "\\begin{equation*}\n",
    "p = \\text{Price of the ZCB}\n",
    "\\end{equation*}\n",
    "\n",
    "Formula:\n",
    "\\begin{equation*}\n",
    "p(t, T) = e^{A(t,T)-B(t,T)r(t)}\n",
    "\\end{equation*}\n",
    "where\n",
    "\\begin{equation*}\n",
    "\\begin{aligned}\n",
    "A(t,T)&=\\frac{\\left[B(t,T)-(T-t)\\right]\\left(ab-\\frac{1}{2}\\sigma^{2}\\right)}{a^{2}}-\\frac{\\sigma^{2}B^{2}(t,T)}{4a}\\\\\n",
    "B(t, T) &= \\frac{1}{a}\\left[1 - e^{-a(T-t)}\\right]\n",
    "\\end{aligned}\n",
    "\\end{equation*}"
   ]
  },
  {
   "cell_type": "markdown",
   "metadata": {},
   "source": [
    "#### Spot rate for vasicek"
   ]
  },
  {
   "cell_type": "code",
   "execution_count": 142,
   "metadata": {},
   "outputs": [
    {
     "name": "stdout",
     "output_type": "stream",
     "text": [
      "[0.         0.02663941 0.02796488 0.02918651 0.03031347 0.03135404\n",
      " 0.03231573 0.03320536 0.03402911 0.03479259 0.03550089 0.03615865\n",
      " 0.03677008 0.037339   0.0378689  0.03836294 0.03882402 0.03925477\n",
      " 0.03965759 0.04003467 0.04038802 0.04071945 0.04103064 0.04132313\n",
      " 0.0415983  0.04185744 0.04210172 0.04233222 0.04254992 0.04275575\n",
      " 0.04295051 0.04313499 0.04330989 0.04347586 0.04363349 0.04378334\n",
      " 0.04392591 0.04406168 0.04419108 0.04431451 0.04443234]\n"
     ]
    }
   ],
   "source": [
    "def spot_rate_vasicek(r0,a,b,sigma,tau):\n",
    "    if type(tau) == int or type(tau) == float:\n",
    "        B = (1/a)*(1-np.exp(-a*tau))\n",
    "        A = (B-tau)*(a*b-0.5*sigma**2)/(a**2)-(sigma**2*B)/(4*a)\n",
    "        if tau < 1e-6:\n",
    "            r = 0\n",
    "        elif tau >= 1e-6:\n",
    "            r = (-A+r0*B)/tau\n",
    "    elif type(tau) == tuple or type(tau) == list or type(tau) == np.ndarray:\n",
    "        M = len(tau)\n",
    "        r = np.zeros([M])\n",
    "        for i in range(0,M):\n",
    "            B = (1/a)*(1-np.exp(-a*tau[i]))\n",
    "            A = (B-tau[i])*(a*b-0.5*sigma**2)/(a**2)-(sigma**2*B)/(4*a)\n",
    "            if tau[i] < 1e-6:\n",
    "                r[i] = 0\n",
    "            else:\n",
    "                r[i] = (-A+r0*B)/tau[i]\n",
    "    else:\n",
    "        print(f\"tau not a recognized type\")\n",
    "        r = False\n",
    "    return r\n",
    "\n",
    "#Example:\n",
    "r0, a, b, sigma_vasicek = 0.025, 0.5, 0.025, 0.02\n",
    "alpha = 0.25\n",
    "T_max = 10\n",
    "\n",
    "M = int(round(T_max/alpha))\n",
    "\n",
    "T = np.array([i*alpha for i in range(0,M+1)])\n",
    "\n",
    "print(spot_rate_vasicek(r0, a, b, sigma_vasicek, T))"
   ]
  },
  {
   "cell_type": "markdown",
   "metadata": {},
   "source": [
    "Input: Same as above\n",
    "\n",
    "Output: Spot rate\n",
    "\n",
    "Formula:\n",
    "\n",
    "\\begin{equation*}\n",
    "R(t,T)=\\frac{-A(t,T)+rB(t,T)}{T-t}\n",
    "\\end{equation*}\n",
    "\n",
    "where $A$ and $B$ are the same as above."
   ]
  },
  {
   "cell_type": "markdown",
   "metadata": {},
   "source": [
    "#### Forward rate vasicek"
   ]
  },
  {
   "cell_type": "code",
   "execution_count": 145,
   "metadata": {},
   "outputs": [
    {
     "name": "stdout",
     "output_type": "stream",
     "text": [
      "[0.         0.02792653 0.03049084 0.03273954 0.03471288 0.03644568\n",
      " 0.03796812 0.03930641 0.04048335 0.04151881 0.04243012 0.04323241\n",
      " 0.04393892 0.04456125 0.04510953 0.04559268 0.0460185  0.04639386\n",
      " 0.04672477 0.04701654 0.04727382 0.04750071 0.04770082 0.04787732\n",
      " 0.048033   0.04817033 0.04829148 0.04839836 0.04849265 0.04857584\n",
      " 0.04864924 0.048714   0.04877115 0.04882157 0.04886605 0.04890531\n",
      " 0.04893995 0.04897052 0.04899749 0.04902129 0.0490423 ]\n"
     ]
    }
   ],
   "source": [
    "def forward_rate_vasicek(r0,a,b,sigma,tau):\n",
    "    if type(tau) == int or type(tau) == float:\n",
    "        B = (1/a)*(1-np.exp(-a*tau))\n",
    "        B_T = np.exp(-a*tau)\n",
    "        if tau < 1e-6:\n",
    "            f = 0\n",
    "        elif tau >= 1e-6:\n",
    "            f = (1-B_T)*(a*b-0.5*sigma**2)/(a**2) + (sigma**2*B*B_T)/(2*a) + r0*B_T\n",
    "    elif type(tau) == tuple or type(tau) == list or type(tau) == np.ndarray:\n",
    "        M = len(tau)\n",
    "        f = np.zeros([M])\n",
    "        for i in range(0,M):\n",
    "            B = (1/a)*(1-np.exp(-a*tau[i]))\n",
    "            B_T = np.exp(-a*tau[i])\n",
    "            if tau[i] < 1e-6:\n",
    "                f[i] = 0\n",
    "            else:\n",
    "                f[i] = (1-B_T)*(a*b-0.5*sigma**2)/(a**2) + (sigma**2*B*B_T)/(2*a) + r0*B_T\n",
    "    else:\n",
    "        print(f\"tau not a recognized type\")\n",
    "        f = False\n",
    "    return f\n",
    "\n",
    "#Example:\n",
    "r0, a, b, sigma_vasicek = 0.025, 0.5, 0.025, 0.02\n",
    "alpha = 0.25\n",
    "T_max = 10\n",
    "\n",
    "M = int(round(T_max/alpha))\n",
    "\n",
    "T = np.array([i*alpha for i in range(0,M+1)])\n",
    "\n",
    "print(forward_rate_vasicek(r0, a, b, sigma_vasicek, T))"
   ]
  },
  {
   "cell_type": "markdown",
   "metadata": {},
   "source": [
    "Input: Same as above\n",
    "\n",
    "Output: Forward rate\n",
    "\n",
    "Formula:\n",
    "\n",
    "\\begin{equation*}\n",
    "f(t,T)=\\frac{(1-B_{T})(ab-\\frac{1}{2}\\sigma^{2})}{a^{2}}+\\frac{\\sigma^{2}BB_{T}}{2a}+rB_{t}\n",
    "\\end{equation*}\n",
    "\n",
    "where $A$ and $B$ are the same as above and $B_{t}=\\exp(-a\\cdot(T-t))$\n",
    "\n"
   ]
  },
  {
   "cell_type": "markdown",
   "metadata": {},
   "source": [
    "#### Confidence intervals for vasicek"
   ]
  },
  {
   "cell_type": "code",
   "execution_count": 35,
   "metadata": {},
   "outputs": [
    {
     "name": "stdout",
     "output_type": "stream",
     "text": [
      "[       nan 0.00950144 0.0059414  0.00434405 0.00367095 0.00350736\n",
      " 0.0036405  0.00394749 0.00435264 0.0048077  0.00528138 0.00575339\n",
      " 0.00621073 0.0066454  0.00705277 0.00743053 0.00777798 0.00809547\n",
      " 0.00838408 0.0086453  0.00888088 0.00909271 0.00928271 0.00945275\n",
      " 0.00960466 0.00974015 0.00986084 0.00996822 0.01006366 0.01014841\n",
      " 0.01022362 0.01029031 0.0103494  0.01040175 0.0104481  0.01048912\n",
      " 0.01052541 0.01055751 0.0105859  0.01061099 0.01063316]\n",
      "[       nan 0.04637371 0.05511857 0.06129149 0.06600252 0.06972956\n",
      " 0.07274117 0.07520941 0.07725339 0.07895968 0.08039338 0.08160464\n",
      " 0.08263276 0.08350901 0.08425854 0.08490172 0.08545526 0.08593288\n",
      " 0.08634596 0.08670398 0.08701487 0.0872853  0.0875209  0.08772645\n",
      " 0.08790599 0.088063   0.08820045 0.08832087 0.08842647 0.08851913\n",
      " 0.08860049 0.08867198 0.08873481 0.08879007 0.08883869 0.08888147\n",
      " 0.08891914 0.0889523  0.08898152 0.08900726 0.08902994]\n"
     ]
    }
   ],
   "source": [
    "def ci_vasicek(r0,a,b,sigma,T,size_ci,method = \"two_sided\"):\n",
    "    if type(T) == int or type(T) == float:\n",
    "        if method == \"lower\":\n",
    "            z = norm.ppf(size_ci,0,1)\n",
    "            if T < 1e-6:\n",
    "                lb, ub = np.nan, np.nan\n",
    "            else:\n",
    "                mean = r0*np.exp(-a*T) + b/a*(1-np.exp(-a*T))\n",
    "                std = np.sqrt(sigma**2/(2*a)*(1-np.exp(-2*a*T)))\n",
    "                lb, ub = mean - z*std, np.inf\n",
    "        elif method == \"upper\":\n",
    "            z = norm.ppf(size_ci,0,1)\n",
    "            if T < 1e-6:\n",
    "                lb, ub = np.nan, np.nan\n",
    "            else:\n",
    "                mean = r0*np.exp(-a*T) + b/a*(1-np.exp(-a*T))\n",
    "                std = np.sqrt(sigma**2/(2*a)*(1-np.exp(-2*a*T)))\n",
    "                lb, ub = -np.inf, mean + z*std\n",
    "        elif method == \"two_sided\":\n",
    "            z = norm.ppf(size_ci + 0.5*(1-size_ci),0,1)\n",
    "            if T < 1e-6:\n",
    "                lb, ub = np.nan, np.nan\n",
    "            else:\n",
    "                mean = r0*np.exp(-a*T) + b/a*(1-np.exp(-a*T))\n",
    "                std = np.sqrt(sigma**2/(2*a)*(1-np.exp(-2*a*T)))\n",
    "                lb, ub = mean - z*std, mean + z*std\n",
    "        print(f\"method: {method}, z: {z}\")\n",
    "    elif type(T) == tuple or type(T) == list or type(T) == np.ndarray:\n",
    "        N = len(T)\n",
    "        lb, ub = np.zeros([N]), np.zeros([N])\n",
    "        if method == \"lower\":\n",
    "            z = norm.ppf(size_ci,0,1)\n",
    "            for i in range(0,N):\n",
    "                if T[i] < 1e-6:\n",
    "                    lb[i], ub[i] = np.nan, np.nan\n",
    "                else:\n",
    "                    mean = r0*np.exp(-a*T[i]) + b/a*(1-np.exp(-a*T[i]))\n",
    "                    std = np.sqrt(sigma**2/(2*a)*(1-np.exp(-2*a*T[i])))\n",
    "                    lb[i], ub[i] = mean - z*std, np.inf\n",
    "        elif method == \"upper\":\n",
    "            z = norm.ppf(size_ci,0,1)\n",
    "            for i in range(0,N):\n",
    "                if T[i] < 1e-6:\n",
    "                    lb[i], ub[i] = np.nan, np.nan\n",
    "                else:\n",
    "                    mean = r0*np.exp(-a*T[i]) + b/a*(1-np.exp(-a*T[i]))\n",
    "                    std = np.sqrt(sigma**2/(2*a)*(1-np.exp(-2*a*T[i])))\n",
    "                    lb[i], ub[i] = -np.inf, mean + z*std\n",
    "        elif method == \"two_sided\":\n",
    "            z = norm.ppf(size_ci + 0.5*(1-size_ci),0,1)\n",
    "            for i in range(0,N):\n",
    "                if T[i] < 1e-6:\n",
    "                    lb[i], ub[i] = np.nan, np.nan\n",
    "                else:\n",
    "                    mean = r0*np.exp(-a*T[i]) + b/a*(1-np.exp(-a*T[i]))\n",
    "                    std = np.sqrt(sigma**2/(2*a)*(1-np.exp(-2*a*T[i])))\n",
    "                    lb[i], ub[i] = mean - z*std, mean + z*std\n",
    "    else:\n",
    "        print(f\"tau not a recognized type\")\n",
    "        lb,ub = False, False\n",
    "    return lb, ub, \n",
    "\n",
    "\n",
    "#Example:\n",
    "r0, a, b, sigma_vasicek = 0.025, 0.5, 0.025, 0.02\n",
    "alpha = 0.25\n",
    "T_max = 10\n",
    "\n",
    "M = int(round(T_max/alpha))\n",
    "\n",
    "T = np.array([i*alpha for i in range(0,M+1)])\n",
    "\n",
    "lb, ub = ci_vasicek(r0, a, b, sigma_vasicek, T, 0.95, method = \"two_sided\")\n",
    "\n",
    "print(lb)\n",
    "print(ub)\n"
   ]
  },
  {
   "cell_type": "markdown",
   "metadata": {},
   "source": [
    "Input: Same as above, except with the following included:\n",
    "\n",
    "\\begin{equation*}\n",
    "\\begin{aligned}\n",
    "\\text{size\\_ci}&=\\text{size of confidenceinterval, i.e. 0.95 as 95\\% confidence interval} \\\\\n",
    "\\text{method}&=\\text{for either one or two-sided confidence interval}\n",
    "\\end{aligned}\n",
    "\\end{equation*}\n",
    "\n",
    "Output: Upper and lower confidence interval of the short rate\n",
    "\n",
    "Formula:\n",
    "\n",
    "\\begin{equation*}\n",
    "\\begin{aligned}\n",
    "\\text{mean}&=r_{0}\\cdot\\exp\\left(-a\\cdot(T-t)\\right)+\\frac{b}{a}\\cdot\\left(1-\\exp\\left[-a\\cdot(T-t)\\right]\\right) \\\\\n",
    "\\text{std.}&=\\sqrt{\\frac{\\sigma^{2}}{2\\cdot a}\\cdot\\left(1-\\exp\\left[-a\\cdot(T-t)\\right]\\right)}\n",
    "\\end{aligned}\n",
    "\\end{equation*}\n",
    "\n",
    "Of course, the confidence intervals are drawn from a normal distribution and calculated as $\\text{mean}=\\text{std.}\\cdot\\text{quantile}(0.95,\\mathcal{N}(0,1))$\n",
    "\n",
    "The code is horrible written and basically repeats itself six times"
   ]
  },
  {
   "cell_type": "markdown",
   "metadata": {},
   "source": [
    "#### Euro option price for vasicek"
   ]
  },
  {
   "cell_type": "code",
   "execution_count": null,
   "metadata": {},
   "outputs": [],
   "source": [
    "def euro_option_price_vasicek(K,T,U,p_T,p_U,a,sigma,type = \"call\"):\n",
    "    sigma_p = (sigma/a)*(1-np.exp(-a*(U-T)))*np.sqrt((1-np.exp(-2*a*T))/(2*a))\n",
    "    d1 = (np.log(p_U/(p_T*K)))/sigma_p + 0.5*sigma_p\n",
    "    d2 = d1 - sigma_p\n",
    "    if type == \"call\":\n",
    "        price = p_U*ndtr(d1) - p_T*K*ndtr(d2)\n",
    "    elif type == \"put\":\n",
    "        price = p_T*K*ndtr(-d2) - p_U*ndtr(-d1)\n",
    "    return price\n",
    "\n",
    "#Example: Not right now"
   ]
  },
  {
   "cell_type": "markdown",
   "metadata": {},
   "source": [
    "Calculate the following (from slides):\n",
    "\"We would like to price a European call optioon with strike $K$ and maturity $T_1$ on an underlying zero coupon bond with maturity $T_2$.\n",
    "\n",
    "In the notation of the previous discussion, we have that $T=T_1$, $S(t)=p(t,T_2)$ and must use $p(t,T_1)$ as numeraire\" \n",
    "\n",
    "Input:\n",
    "\n",
    "\\begin{equation*}\n",
    "\\begin{aligned}\n",
    "K&=\\text{strike price} \\\\\n",
    "U&=T_{1} \\\\\n",
    "T&=T_{2} \\\\\n",
    "p_{T}&=p(0,T_{2}) \\\\\n",
    "p_{U}&=p(0,T_{1})\n",
    "\\end{aligned}\n",
    "\\end{equation*}\n",
    "\n",
    "Output: The price of the European call option\n",
    "\n",
    "Formula: Using the notation from slides and rewriting, we get:\n",
    "\n",
    "\\begin{equation*}\n",
    "\\begin{aligned}\n",
    "\\text{Call: }\\Pi(0;\\chi)&=p(0,T_{2})\\Phi(d_{1})-Kp(0,T_{1})\\Phi(d_{2}) \\\\\n",
    "\n",
    "\\text{Put: }\\Pi(0;\\chi)&=p(0,T_{1})K\\Phi(-d_{2})-p(0,T_{2})\\Phi(-d_{1}) \\\\\n",
    "\n",
    "d_{1} &=\\frac{\\ln\\left(\\frac{p(0,T_{2})}{Kp(0,T_{1})}\\right)+\\frac{1}{2}\\Sigma^{2}}{\\sqrt{\\Sigma^{2}}}=\\frac{\\ln\\left(\\frac{p(0,T_{2})}{Kp(0,T_{1})}\\right)}{\\Sigma}+\\frac{1}{2}\\Sigma\\quad\\text{and}\\quad d_{2}=d_{1}-\\sqrt{\\Sigma^{2}}=d_{1}-\\Sigma \\\\\n",
    "\n",
    "\\Sigma^{2}&=\\frac{\\sigma^{2}}{2a^{3}}\\left[1-e^{2aT_{1}}\\right]\\cdot\\left[1-e^{-a(T_{2}-T_{1})}\\right]^{2}\\Leftrightarrow \\\\\n",
    "\n",
    "\\Sigma &=\\frac{\\sigma}{a}\\cdot\\left[1-e^{-a(T_{2}-T_{1})}\\right]\\sqrt{\\frac{1}{2a}\\left[1-e^{2aT_{1}}\\right]}\n",
    "\\end{aligned}\n",
    "\\end{equation*}\n",
    "\n",
    "Here, $\\Phi$ is the cumulative distribution of the standard normal distribution, and we use the scipy Python function 'ndtr' to calculate this."
   ]
  },
  {
   "cell_type": "markdown",
   "metadata": {},
   "source": [
    "#### Fit vasicek object (calculate squared errors)"
   ]
  },
  {
   "cell_type": "code",
   "execution_count": null,
   "metadata": {},
   "outputs": [],
   "source": [
    "def fit_vasicek_obj(param,R_star,T,scaling = 1):\n",
    "    r0, a, b, sigma = param\n",
    "    M = len(T)\n",
    "    R_fit = spot_rate_vasicek(r0,a,b,sigma,T)\n",
    "    y = 0\n",
    "    for m in range(0,M):\n",
    "        y += scaling*(R_fit[m] - R_star[m])**2\n",
    "    return y"
   ]
  },
  {
   "cell_type": "markdown",
   "metadata": {},
   "source": [
    "The functions simply returns the squared errors of between a fitted model and actual data. It is used to optimize the parameters of our vasicek model so it fits to real data.\n",
    "\n",
    "Input:\n",
    "\n",
    "\\begin{equation*}\n",
    "\\begin{aligned}\n",
    "\\text{param}&=\\text{Parameters that we want to optimize over} \\\\\n",
    "\n",
    "\\text{R\\_star}&=\\text{Actual data we need to fit our model over} \\\\\n",
    "\n",
    "T&=\\text{Time to maturity} \\\\\n",
    "\n",
    "\\text{scaling}&=\\text{We might want to scale our data if errors are too small or too large for the optimizer}\n",
    "\\end{aligned}\n",
    "\\end{equation*}\n",
    "\n",
    "Output: Squared errors (scaled if needed)"
   ]
  },
  {
   "cell_type": "code",
   "execution_count": null,
   "metadata": {},
   "outputs": [],
   "source": [
    "def fit_vasicek_no_sigma_obj(param,sigma,R_star,T,scaling = 1):\n",
    "    r0, a, b = param\n",
    "    M = len(T)\n",
    "    R_fit = spot_rate_vasicek(r0,a,b,sigma,T)\n",
    "    y = 0\n",
    "    for m in range(0,M):\n",
    "        y += scaling*(R_fit[m] - R_star[m])**2\n",
    "    return y"
   ]
  },
  {
   "cell_type": "markdown",
   "metadata": {},
   "source": [
    "Same as above, just without $\\sigma$"
   ]
  },
  {
   "cell_type": "markdown",
   "metadata": {},
   "source": [
    "#### ZCB for Cox-Ingersoll-Ross model\n",
    "The following models are essentially the same as above, and I will therefore only provide the formulas. Remember that the CIR model has the following dynamics:\n",
    "\n",
    "\\begin{equation*}\n",
    "dr_{t}=(b-ar_{t})dt+\\sigma\\sqrt{r_{t}}dB_{t}\n",
    "\\end{equation*}"
   ]
  },
  {
   "cell_type": "code",
   "execution_count": null,
   "metadata": {},
   "outputs": [],
   "source": [
    "def zcb_price_cir(r0,a,b,sigma,tau):\n",
    "    if type(tau) == int or type(tau) == float or type(tau) == np.float64:\n",
    "        gamma = np.sqrt(a**2+2*sigma**2)\n",
    "        D = (gamma+a)*(np.exp(gamma*tau)-1)+2*gamma\n",
    "        A = ((2*gamma*np.exp(0.5*tau*(a+gamma)))/D)**((2*a*b)/(sigma**2))\n",
    "        B = 2*(np.exp(gamma*tau)-1)/D\n",
    "        p = A*np.exp(-r0*B)\n",
    "    elif type(tau) == tuple or type(tau) == list or type(tau) == np.ndarray:\n",
    "        M = len(tau)\n",
    "        p = np.zeros([M])\n",
    "        for i in range(0,M):\n",
    "            gamma = np.sqrt(a**2+2*sigma**2)\n",
    "            D = (gamma+a)*(np.exp(gamma*tau[i])-1)+2*gamma\n",
    "            A = ((2*gamma*np.exp(0.5*tau[i]*(a+gamma)))/D)**((2*a*b)/(sigma**2))\n",
    "            B = 2*(np.exp(gamma*tau[i])-1)/D\n",
    "            p[i] = A*np.exp(-r0*B)\n",
    "    else:\n",
    "        print(f\"tau not a recognized type\")\n",
    "        p = False\n",
    "    return p"
   ]
  },
  {
   "cell_type": "markdown",
   "metadata": {},
   "source": [
    "Formula:\n",
    "\n",
    "\\begin{equation*}\n",
    "\\begin{aligned}\n",
    "p(t,T)&=A_{0}(T-t)e^{-B(T-t)r} \\\\\n",
    "\\end{aligned}\n",
    "\\end{equation*}\n",
    "\n",
    "where\n",
    "\n",
    "\\begin{equation*}\n",
    "\\begin{aligned}\n",
    "A_{0}(T-t)&=\\left[\\frac{2\\gamma\\exp\\left(\\frac{(T-t)(a+\\gamma)}{2}\\right)}{D}\\right]^{\\frac{2ab}{\\sigma^{2}}} \\\\\n",
    "\n",
    "B(T-t)&=\\frac{2\\left(\\exp[\\gamma(T-t)]-1\\right)}{D} \\\\\n",
    "\n",
    "D&=(\\gamma+a)\\left(\\exp[\\gamma(T-t)]-1\\right)+2\\gamma \\\\\n",
    "\\gamma&=\\sqrt{a^{2}+2\\sigma^{2}}\n",
    "\\end{aligned}\n",
    "\\end{equation*}\n"
   ]
  },
  {
   "cell_type": "markdown",
   "metadata": {},
   "source": [
    "#### Spot rate for Cox-Ingersoll-Ross model"
   ]
  },
  {
   "cell_type": "code",
   "execution_count": null,
   "metadata": {},
   "outputs": [],
   "source": [
    "def spot_rate_cir(r0,a,b,sigma,tau):\n",
    "    if type(tau) == int or type(tau) == float:\n",
    "        if tau < 1e-6:\n",
    "            r = 0\n",
    "        else:\n",
    "            gamma = np.sqrt(a**2+2*sigma**2)\n",
    "            D = (gamma+a)*(np.exp(gamma*tau)-1)+2*gamma\n",
    "            A = ((2*gamma*np.exp(0.5*tau*(a+gamma)))/D)**((2*a*b)/(sigma**2))\n",
    "            B = 2*(np.exp(gamma*tau)-1)/D\n",
    "            r = (-np.log(A)+r0*B)/(tau)\n",
    "    elif type(tau) == tuple or type(tau) == list or type(tau) == np.ndarray:\n",
    "        M = len(tau)\n",
    "        r = np.zeros([M])\n",
    "        for i in range(0,M):\n",
    "            if tau[i] < 1e-6:\n",
    "                r[i] = 0\n",
    "            else:\n",
    "                gamma = np.sqrt(a**2+2*sigma**2)\n",
    "                D = (gamma+a)*(np.exp(gamma*tau[i])-1)+2*gamma\n",
    "                A = ((2*gamma*np.exp(0.5*tau[i]*(a+gamma)))/D)**((2*a*b)/(sigma**2))\n",
    "                B = 2*(np.exp(gamma*tau[i])-1)/D\n",
    "                r[i] = (-np.log(A)+r0*B)/(tau[i])\n",
    "    else:\n",
    "        print(f\"tau not a recognized type\")\n",
    "        r = False\n",
    "    return r"
   ]
  },
  {
   "cell_type": "markdown",
   "metadata": {},
   "source": [
    "Formula:\n",
    "\n",
    "\\begin{equation*}\n",
    "R(t,T)=\\frac{-\\log A_{0}+rB}{T-t}\n",
    "\\end{equation*}\n",
    "\n",
    "where $A_{0}$ and $B$ are the same as above."
   ]
  },
  {
   "cell_type": "markdown",
   "metadata": {},
   "source": [
    "#### Forward rate for Cox-Ingersoll-Ross model"
   ]
  },
  {
   "cell_type": "code",
   "execution_count": null,
   "metadata": {},
   "outputs": [],
   "source": [
    "def forward_rate_cir(r0,a,b,sigma,tau):\n",
    "    if type(tau) == int or type(tau) == float:\n",
    "        if tau < 1e-6:\n",
    "            f = 0\n",
    "        else:\n",
    "            c = (2*a*b)/(sigma**2)\n",
    "            gamma = np.sqrt(a**2+2*sigma**2)\n",
    "            N = 2*gamma*np.exp(0.5*tau*(a+gamma))\n",
    "            N_T = gamma*(gamma+a)*np.exp(0.5*tau*(a+gamma))\n",
    "            D = (gamma+a)*(np.exp(gamma*tau)-1)+2*gamma\n",
    "            D_T = gamma*(a+gamma)*np.exp(gamma*tau)\n",
    "            M = 2*(np.exp(gamma*tau)-1)\n",
    "            M_T = 2*gamma*np.exp(gamma*tau)\n",
    "            f = c*(-N_T/N+D_T/D)+r0*(M_T*D-M*D_T)/D**2\n",
    "    elif type(tau) == tuple or type(tau) == list or type(tau) == np.ndarray:\n",
    "        N = len(tau)\n",
    "        f = np.zeros([N])\n",
    "        for i in range(0,N):\n",
    "            if tau[i] < 1e-6:\n",
    "                f[i] = 0\n",
    "            else:\n",
    "                c = (2*a*b)/(sigma**2)\n",
    "                gamma = np.sqrt(a**2+2*sigma**2)\n",
    "                N = 2*gamma*np.exp(0.5*tau[i]*(a+gamma))\n",
    "                N_T = gamma*(gamma+a)*np.exp(0.5*tau[i]*(a+gamma))\n",
    "                D = (gamma+a)*(np.exp(gamma*tau[i])-1)+2*gamma\n",
    "                D_T = gamma*(a+gamma)*np.exp(gamma*tau[i])\n",
    "                M = 2*(np.exp(gamma*tau[i])-1)\n",
    "                M_T = 2*gamma*np.exp(gamma*tau[i])\n",
    "                f[i] = c*(-N_T/N+D_T/D)+r0*(M_T*D-M*D_T)/D**2\n",
    "    else:\n",
    "        print(f\"tau not a recognized type\")\n",
    "        f = False\n",
    "    return f"
   ]
  },
  {
   "cell_type": "markdown",
   "metadata": {},
   "source": [
    "Formula:\n",
    "\n",
    "\\begin{equation*}\n",
    "\\begin{aligned}\n",
    "f(t,T)=c\\left(-\\frac{N_{t}}{N}+\\frac{D_{t}}{D}\\right)+rB_{t}\n",
    "\\end{aligned}\n",
    "\\end{equation*}\n",
    "\n",
    "where\n",
    "\n",
    "\\begin{equation*}\n",
    "\\begin{aligned}\n",
    "N_{t}&=\\gamma(a+\\gamma)\\cdot\\exp\\left(\\frac{(T-t)(a+\\gamma)}{2}\\right) \\\\\n",
    "\n",
    "N&=2\\gamma\\cdot\\exp\\left(\\frac{(T-t)(a+\\gamma)}{2}\\right) \\\\\n",
    "\n",
    "D_{t}&=\\gamma(\\gamma+a)\\cdot\\exp(\\gamma(T-t)) \\\\\n",
    "\n",
    "D&=(\\gamma+a)\\left(\\exp[\\gamma(T-t)]-1\\right)+2\\gamma \\\\\n",
    "\n",
    "B_{T}&=\\frac{M_{T}D-MD_{T}}{D^{2}} \\\\\n",
    "\n",
    "c&=\\frac{2ab}{\\sigma^{2}} \\\\\n",
    "\\end{aligned}\n",
    "\\end{equation*}\n",
    "\n",
    "Niether $c$ or $N$ are defined in the slides."
   ]
  },
  {
   "cell_type": "markdown",
   "metadata": {},
   "source": [
    "#### Confidence intervals for Cox-Ingersoll-Ross"
   ]
  },
  {
   "cell_type": "code",
   "execution_count": null,
   "metadata": {},
   "outputs": [],
   "source": [
    "def ci_cir(r0,a,b,sigma,tau,size_ci,method = \"two_sided\"):\n",
    "    if type(tau) == int or type(tau) == float:\n",
    "        if method == \"lower\":\n",
    "            if tau < 1e-6:\n",
    "                lb, ub = np.nan, np.nan\n",
    "            else:\n",
    "                df = (4*a*b)/sigma**2\n",
    "                nc = (4*a*np.exp(-a*tau)*r0)/(sigma**2*(1-np.exp(-a*tau)))\n",
    "                scaling = (4*a)/(sigma**2*(1-np.exp(-a*tau)))\n",
    "                lb, ub = ncx2.ppf(1-size_ci,df,nc)/scaling, np.inf\n",
    "        elif method == \"upper\":\n",
    "            if tau < 1e-6:\n",
    "                lb, ub = np.nan, np.nan\n",
    "            else:\n",
    "                df = (4*a*b)/sigma**2\n",
    "                nc = (4*a*np.exp(-a*tau)*r0)/(sigma**2*(1-np.exp(-a*tau)))\n",
    "                scaling = (4*a)/(sigma**2*(1-np.exp(-a*tau)))\n",
    "                lb, ub = 0, ncx2.ppf(size_ci,df,nc)/scaling\n",
    "        elif method == \"two_sided\":\n",
    "            if tau < 1e-6:\n",
    "                lb, ub = np.nan, np.nan\n",
    "            else:\n",
    "                df = (4*a*b)/sigma**2\n",
    "                nc = (4*a*np.exp(-a*tau)*r0)/(sigma**2*(1-np.exp(-a*tau)))\n",
    "                scaling = (4*a)/(sigma**2*(1-np.exp(-a*tau)))\n",
    "                lb, ub = ncx2.ppf((1-size_ci)/2,df,nc)/scaling, ncx2.ppf(size_ci+(1-size_ci)/2,df,nc)/scaling\n",
    "    elif type(tau) == tuple or type(tau) == list or type(tau) == np.ndarray:\n",
    "        N = len(tau)\n",
    "        lb, ub = np.zeros([N]), np.zeros([N])\n",
    "        if method == \"lower\":\n",
    "            for i in range(0,N):\n",
    "                if tau[i] < 1e-6:\n",
    "                    lb[i], ub[i] = np.nan, np.nan\n",
    "                else:\n",
    "                    df = (4*a*b)/sigma**2\n",
    "                    nc = (4*a*np.exp(-a*tau[i])*r0)/(sigma**2*(1-np.exp(-a*tau[i])))\n",
    "                    scaling = (4*a)/(sigma**2*(1-np.exp(-a*tau[i])))\n",
    "                    lb[i], ub[i] = ncx2.ppf(1-size_ci,df,nc)/scaling, np.inf\n",
    "        elif method == \"upper\":\n",
    "            for i in range(0,N):\n",
    "                if tau[i] < 1e-6:\n",
    "                    lb[i], ub[i] = np.nan, np.nan\n",
    "                else:\n",
    "                    df = (4*a*b)/sigma**2\n",
    "                    nc = (4*a*np.exp(-a*tau[i])*r0)/(sigma**2*(1-np.exp(-a*tau[i])))\n",
    "                    scaling = (4*a)/(sigma**2*(1-np.exp(-a*tau[i])))\n",
    "                    lb[i], ub[i] = 0, ncx2.ppf(size_ci,df,nc)/scaling\n",
    "        elif method == \"two_sided\":\n",
    "            for i in range(0,N):\n",
    "                if tau[i] < 1e-6:\n",
    "                    lb[i], ub[i] = np.nan, np.nan\n",
    "                else:\n",
    "                    df = (4*a*b)/sigma**2\n",
    "                    nc = (4*a*np.exp(-a*tau[i])*r0)/(sigma**2*(1-np.exp(-a*tau[i])))\n",
    "                    scaling = (4*a)/(sigma**2*(1-np.exp(-a*tau[i])))\n",
    "                    lb[i], ub[i] = ncx2.ppf((1-size_ci)/2,df,nc)/scaling, ncx2.ppf(size_ci+(1-size_ci)/2,df,nc)/scaling\n",
    "                    # (4*b)/(sigma**2*(1-np.exp(-b*tau[i])))*\n",
    "    else:\n",
    "        print(f\"tau not a recognized type\")\n",
    "        lb,ub = False, False\n",
    "    return lb, ub"
   ]
  },
  {
   "cell_type": "markdown",
   "metadata": {},
   "source": [
    "To calculate the confidence intervals for the CIR model, we use a noncentral chi-squared distribution (it's easy to see...). \n",
    "\n",
    "\\begin{equation*}\n",
    "\\begin{aligned}\n",
    "\\text{df}&=\\frac{4ab}{\\sigma^{2}} \\\\\n",
    "\n",
    "\\text{nc}&=\\frac{4a\\exp(-a(T-t)r)}{\\sigma^{2}(1-\\exp[-a(T-t)])} \\\\\n",
    "\n",
    "\\text{scaling}&=\\frac{4a}{\\sigma^{2}(1-\\exp[-a(T-t)])}\n",
    "\\end{aligned}\n",
    "\\end{equation*}\n",
    "\n",
    "Now we can calculate the upper and lower bounds using the Percent point function (inverse of cdf — percentiles):\n",
    "\n",
    "\\begin{equation*}\n",
    "lb=\\frac{Q(\\frac{1-0.95}{2},\\text{df},\\text{nc})}{\\text{scaling}},ub=\\frac{Q(0.95+\\frac{1-0.95}{2},\\text{df},\\text{nc})}{\\text{scaling}}\n",
    "\\end{equation*}"
   ]
  },
  {
   "cell_type": "markdown",
   "metadata": {},
   "source": [
    "#### Fit Cox-Ingersoll-Ross object (calculate squared errors)\n",
    "See the fit for vasicek. The procedure is exactly the same."
   ]
  },
  {
   "cell_type": "code",
   "execution_count": null,
   "metadata": {},
   "outputs": [],
   "source": [
    "def fit_cir_obj(param,R_star,T,scaling = 1):\n",
    "    r0, a, b, sigma = param\n",
    "    M = len(T)\n",
    "    R_fit = spot_rate_cir(r0,a,b,sigma,T)\n",
    "    y = 0\n",
    "    for m in range(0,M):\n",
    "        y += scaling*(R_fit[m] - R_star[m])**2\n",
    "    return y\n",
    "\n",
    "def fit_cir_no_sigma_obj(param,sigma,R_star,T,scaling = 1):\n",
    "    r0, a, b = param\n",
    "    M = len(T)\n",
    "    R_fit = spot_rate_cir(r0,a,b,sigma,T)\n",
    "    y = 0\n",
    "    for m in range(0,M):\n",
    "        y += scaling*(R_fit[m] - R_star[m])**2\n",
    "    return y"
   ]
  },
  {
   "cell_type": "markdown",
   "metadata": {},
   "source": [
    "#### Simulation of the short rate"
   ]
  },
  {
   "cell_type": "code",
   "execution_count": null,
   "metadata": {},
   "outputs": [],
   "source": [
    "\n",
    "def short_rate_simul(r0,param,M,T,method = \"vasicek\"):\n",
    "    r = np.zeros([M+1])\n",
    "    r[0] = r0\n",
    "    delta = T/M\n",
    "    if method == \"vasicek\":\n",
    "        a, b, sigma = param\n",
    "        delta_sqrt = np.sqrt(delta)\n",
    "        Z = np.random.standard_normal(M)\n",
    "        for m in range(1,M+1):\n",
    "            r[m] = r[m-1] + (b-a*r[m-1])*delta + sigma*delta_sqrt*Z[m-1]\n",
    "    elif method == \"cir\":\n",
    "        a, b, sigma = param\n",
    "        Z = np.random.standard_normal(M)\n",
    "        for m in range(1,M+1):\n",
    "            r[m] = r[m-1] + a*(b-r[m-1])*delta + sigma*np.sqrt(delta*r[m-1])*Z[m-1]\n",
    "    elif method == \"ho_lee_ns\":\n",
    "        f_inf, a, b, sigma = param\n",
    "        Z = np.random.standard_normal(M)\n",
    "        for m in range(1,M+1):\n",
    "            param_theta = (f_inf, a, b, sigma)\n",
    "            theta = theta_ns(param_theta,m*delta)\n",
    "            r[m] = r[m-1] + theta*delta + sigma*np.sqrt(delta*r[m-1])*Z[m-1]\n",
    "    return r"
   ]
  },
  {
   "cell_type": "markdown",
   "metadata": {},
   "source": [
    "#### Spot rate bump"
   ]
  },
  {
   "cell_type": "code",
   "execution_count": null,
   "metadata": {},
   "outputs": [],
   "source": [
    "def spot_rate_bump(T_bump,size_bump,T,R_input,p_input):\n",
    "    R, p = R_input.copy(), p_input.copy()\n",
    "    if type(T_bump) == int or type(T_bump) == float or type(T_bump) == np.float64:\n",
    "        I_bump, idx_bump = value_in_list_returns_I_idx(T_bump,T)\n",
    "        R[idx_bump] = R[idx_bump] + size_bump\n",
    "        p[idx_bump] = np.exp(-R[idx_bump]*T_bump)\n",
    "    elif type(T_bump) == tuple or type(T_bump) == list or type(T_bump) == np.ndarray:\n",
    "        if type(size_bump) == int or type(size_bump) == float or type(size_bump) == np.float64:\n",
    "            for i in range(0,len(T_bump)):\n",
    "                I_bump, idx_bump = value_in_list_returns_I_idx(T_bump[i],T)\n",
    "                R[idx_bump] = R[idx_bump] + size_bump\n",
    "                p[idx_bump] = np.exp(-R[idx_bump]*T_bump[i])\n",
    "        elif type(size_bump) == tuple or type(size_bump) == list or type(size_bump) == np.ndarray:\n",
    "            for i in range(0,len(T_bump)):\n",
    "                I_bump, idx_bump = value_in_list_returns_I_idx(T_bump[i],T)\n",
    "                R[idx_bump] = R[idx_bump] + size_bump[i]\n",
    "                p[idx_bump] = np.exp(-R[idx_bump]*T_bump[i])\n",
    "    return R, p\n",
    "\n",
    "\n"
   ]
  }
 ],
 "metadata": {
  "kernelspec": {
   "display_name": "base",
   "language": "python",
   "name": "python3"
  },
  "language_info": {
   "codemirror_mode": {
    "name": "ipython",
    "version": 3
   },
   "file_extension": ".py",
   "mimetype": "text/x-python",
   "name": "python",
   "nbconvert_exporter": "python",
   "pygments_lexer": "ipython3",
   "version": "3.8.5"
  }
 },
 "nbformat": 4,
 "nbformat_minor": 4
}
