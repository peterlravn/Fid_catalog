{
 "cells": [
  {
   "cell_type": "code",
   "execution_count": 1,
   "metadata": {},
   "outputs": [],
   "source": [
    "import numpy as np\n",
    "from scipy.special import ndtr\n",
    "from scipy.stats import norm, ncx2\n",
    "from scipy.optimize import minimize\n",
    "from numpy.polynomial.hermite import hermfit, hermval, hermder\n",
    "import copy"
   ]
  },
  {
   "cell_type": "markdown",
   "metadata": {},
   "source": [
    "#### Spot rates to ZCB\n"
   ]
  },
  {
   "cell_type": "code",
   "execution_count": 14,
   "metadata": {},
   "outputs": [
    {
     "name": "stdout",
     "output_type": "stream",
     "text": [
      "[0.7 0.8 0.9 1. ]\n"
     ]
    }
   ],
   "source": [
    "def spot_rates_to_zcb(T,spot_rate):\n",
    "    M = len(T)\n",
    "    p = np.zeros([M])\n",
    "    for i in range(0,M):\n",
    "        if T[i] < 1e-8:\n",
    "            p[i] = 1\n",
    "        else:\n",
    "            p[i] = np.exp(-spot_rate[i]*T[i])\n",
    "    return p\n",
    "\n",
    "#Example:\n",
    "T = [1/4, 2/4, 3/4, 4/4]\n",
    "spot_rate = [ 1.42669978,  0.4462871 ,  0.14048069, -0.        ]\n",
    "\n",
    "print(spot_rates_to_zcb(T,spot_rate))"
   ]
  },
  {
   "cell_type": "markdown",
   "metadata": {},
   "source": [
    "Input:\n",
    "\\begin{equation}\n",
    "\\begin{aligned}\n",
    "T &= \\text{time to maturity} \\\\\n",
    "\\text{spot\\_rate}&=\\text{Spot rate}\n",
    "\\end{aligned}\n",
    "\\end{equation}\n",
    "\n",
    "Output:\n",
    "\\begin{equation}\n",
    "\\begin{aligned}\n",
    "p &= \\text{ZCB price} \n",
    "\\end{aligned}\n",
    "\\end{equation}\n",
    "\n",
    "Formula:\n",
    "\\begin{equation}\n",
    "\\begin{aligned}\n",
    "p(t,T)=\\exp(-R(t,T)\\cdot(T-t))\n",
    "\\end{aligned}\n",
    "\\end{equation}\n"
   ]
  },
  {
   "cell_type": "markdown",
   "metadata": {},
   "source": [
    "#### ZCB to spot rates"
   ]
  },
  {
   "cell_type": "code",
   "execution_count": 13,
   "metadata": {},
   "outputs": [
    {
     "name": "stdout",
     "output_type": "stream",
     "text": [
      "[ 1.42669978  0.4462871   0.14048069 -0.        ]\n"
     ]
    }
   ],
   "source": [
    "def zcb_to_spot_rates(T,p):\n",
    "    M = len(T)\n",
    "    R = np.zeros([M])\n",
    "    for i in range(0,M):\n",
    "        if T[i] < 1e-8:\n",
    "            R[i] = 0\n",
    "        else:\n",
    "            R[i] = -np.log(p[i])/T[i]\n",
    "    return R\n",
    "\n",
    "#Example:\n",
    "T = [1/4, 2/4, 3/4, 4/4]\n",
    "p = [0.7, 0.8, 0.9, 1]\n",
    "\n",
    "print(zcb_to_spot_rates(T,p))"
   ]
  },
  {
   "cell_type": "markdown",
   "metadata": {},
   "source": [
    "Input:\n",
    "\\begin{equation}\n",
    "\\begin{aligned}\n",
    "T &= \\text{time to maturity} \\\\\n",
    "p &= \\text{ZCB price} \n",
    "\\end{aligned}\n",
    "\\end{equation}\n",
    "\n",
    "Output:\n",
    "\\begin{equation}\n",
    "\\begin{aligned}\n",
    "R &= \\text{spot rate} \n",
    "\\end{aligned}\n",
    "\\end{equation}\n",
    "\n",
    "Formula:\n",
    "\\begin{equation}\n",
    "\\begin{aligned}\n",
    "R(t,T) &= -\\frac{\\log p(t,T)}{(T-t)}\n",
    "\\end{aligned}\n",
    "\\end{equation}\n"
   ]
  },
  {
   "cell_type": "markdown",
   "metadata": {},
   "source": [
    "#### ZCB to forward rates"
   ]
  },
  {
   "cell_type": "code",
   "execution_count": 22,
   "metadata": {},
   "outputs": [
    {
     "name": "stdout",
     "output_type": "stream",
     "text": [
      "[ 0.         -0.53412557 -0.47113214 -0.42144206]\n",
      "[-0.53412557 -0.50262886 -0.4462871  -0.42144206]\n"
     ]
    }
   ],
   "source": [
    "def zcb_to_forward_rates(T,p,horizon = 1):\n",
    "    # horizon = 0 corresponds to instantaneous forward rates\n",
    "    M = len(T)\n",
    "    f = np.zeros([M])\n",
    "    if horizon == 0:\n",
    "        f[0] = (np.log(p[0])-np.log(p[1]))/(T[1]-T[0])\n",
    "        f[-1] = (np.log(p[-2])-np.log(p[-1]))/(T[-1]-T[-2])\n",
    "        m = 1\n",
    "        while m < M - 1.5: #1.5 is abritrary and might as well be 1.0001, as far as I understand...\n",
    "            f[m] = (np.log(p[m-1])-np.log(p[m+1]))/(T[m+1]-T[m-1])\n",
    "            m += 1\n",
    "    elif 0 < horizon:\n",
    "        m = horizon\n",
    "        while m < M - 0.5:\n",
    "            f[m] = (np.log(p[m-horizon])-np.log(p[m]))/(T[m]-T[m-horizon])\n",
    "            m += 1\n",
    "    return f\n",
    "\n",
    "#Example:\n",
    "T = [1/4, 2/4, 3/4, 4/4]\n",
    "p = [0.7, 0.8, 0.9, 1]\n",
    "\n",
    "print(zcb_to_forward_rates(T,p, horizon=1))\n",
    "print(zcb_to_forward_rates(T,p, horizon=0))"
   ]
  },
  {
   "cell_type": "markdown",
   "metadata": {},
   "source": [
    "Input:\n",
    "\\begin{equation}\n",
    "\\begin{aligned}\n",
    "T &= \\text{time to maturity} \\\\\n",
    "p &= \\text{ZCB price} \\\\\n",
    "horizon&=\\text{start date of loan}\n",
    "\\end{aligned}\n",
    "\\end{equation}\n",
    "\n",
    "Output:\n",
    "\\begin{equation}\n",
    "\\begin{aligned}\n",
    "f=\\text{forward rates of return}\n",
    "\\end{aligned}\n",
    "\\end{equation}\n",
    "\n",
    "Formula:\n",
    "\\begin{equation}\n",
    "\\begin{aligned}\n",
    "R(t;S,T)=-\\frac{\\log p(t,T)-\\log p(t,S)}{(T-S)}\n",
    "\\end{aligned}\n",
    "\\end{equation}\n"
   ]
  },
  {
   "cell_type": "markdown",
   "metadata": {},
   "source": [
    "#### ZCB to forward LIBOR rates"
   ]
  },
  {
   "cell_type": "code",
   "execution_count": 24,
   "metadata": {},
   "outputs": [
    {
     "name": "stdout",
     "output_type": "stream",
     "text": [
      "[ 0.         -0.5        -0.44444444 -0.4       ]\n"
     ]
    }
   ],
   "source": [
    "def zcb_to_forward_LIBOR_rates(T,p,horizon = 1):\n",
    "    M = len(T)\n",
    "    f = np.zeros([M])\n",
    "    i = horizon\n",
    "    #ERROR: Need to include what happens when horizon = 0\n",
    "    while i < M - 0.5:\n",
    "        f[i] = (p[i-horizon]-p[i])/(p[i]*(T[i]-T[i-horizon]))\n",
    "        i += 1\n",
    "    return f\n",
    "\n",
    "#Example:\n",
    "T = [1/4, 2/4, 3/4, 4/4]\n",
    "p = [0.7, 0.8, 0.9, 1]\n",
    "\n",
    "print(zcb_to_forward_LIBOR_rates(T,p, horizon=1))\n"
   ]
  },
  {
   "cell_type": "markdown",
   "metadata": {},
   "source": [
    "Input:\n",
    "\\begin{equation}\n",
    "\\begin{aligned}\n",
    "T &= \\text{time to maturity} \\\\\n",
    "p &= \\text{ZCB price} \\\\\n",
    "horizon&=\\text{start date of loan}\n",
    "\\end{aligned}\n",
    "\\end{equation}\n",
    "\n",
    "Output:\n",
    "\\begin{equation}\n",
    "\\begin{aligned}\n",
    "f=\\text{forward rates of return}\n",
    "\\end{aligned}\n",
    "\\end{equation}\n",
    "\n",
    "Formula (unsure):\n",
    "\\begin{equation}\n",
    "\\begin{aligned}\n",
    "\\text{Forward LIBOR Rate} = \\frac{p(t, S) - p(t, T)}{p(t, T) \\cdot (T - S)}\n",
    "\\end{aligned}\n",
    "\\end{equation}\n"
   ]
  },
  {
   "cell_type": "markdown",
   "metadata": {},
   "source": [
    "#### Utility function used in many of the following functions:"
   ]
  },
  {
   "cell_type": "code",
   "execution_count": 85,
   "metadata": {},
   "outputs": [
    {
     "name": "stdout",
     "output_type": "stream",
     "text": [
      "0.25\n",
      "0.5\n",
      "0.75\n",
      "1.0\n"
     ]
    }
   ],
   "source": [
    "def value_in_list_returns_I_idx(value,list):\n",
    "    output = False, None\n",
    "    for i, item in enumerate(list):\n",
    "        if abs(value-item) < 1e-6:\n",
    "            output = True, i\n",
    "            break\n",
    "    return output\n",
    "\n",
    "#Example:\n",
    "example_list = [1/8, 2/8, 3/8, 4/8, 5/8, 6/8, 7/8, 8/8]\n",
    "example_value = [2/8, 4/8, 6/8, 8/8]\n",
    "\n",
    "for i in range(0,len(example_value)):\n",
    "    I_fix, idx_fix = value_in_list_returns_I_idx(example_value[i], example_list)\n",
    "    if I_fix is True:\n",
    "        print(example_list[idx_fix])"
   ]
  },
  {
   "cell_type": "markdown",
   "metadata": {},
   "source": [
    "In essence, the function only returns values that are in both lists."
   ]
  },
  {
   "cell_type": "markdown",
   "metadata": {},
   "source": [
    "#### ZCB to accrual factor (also known as present value of a basis point)"
   ]
  },
  {
   "cell_type": "code",
   "execution_count": 127,
   "metadata": {},
   "outputs": [
    {
     "name": "stdout",
     "output_type": "stream",
     "text": [
      "0.85\n"
     ]
    }
   ],
   "source": [
    "def zcb_to_accrual_factor(T_n,T_N,fixed_freq,T,p):\n",
    "    if fixed_freq == \"quarterly\":\n",
    "        p_fix = np.zeros([int(T_N-T_n)*4])\n",
    "        T_fix = np.array([T_n + i*0.25 for i in range(1,int(T_N-T_n)*4 + 1)])\n",
    "    elif fixed_freq == \"semiannual\":\n",
    "        p_fix = np.zeros([int(T_N-T_n)*2])\n",
    "        T_fix = np.array([T_n + i*0.5 for i in range(1,int(T_N-T_n)*2 + 1)])\n",
    "    elif fixed_freq == \"annual\":\n",
    "        p_fix = np.zeros([int(T_N-T_n)])\n",
    "        T_fix = np.array([T_n + i*0.25 for i in range(1,int(T_N-T_n) + 1)])\n",
    "    S = 0\n",
    "    for i in range(0,len(T_fix)):\n",
    "        I_fix, idx_fix = value_in_list_returns_I_idx(T_fix[i],T)\n",
    "        if I_fix is True:\n",
    "            T_fix[i] = T[idx_fix]\n",
    "            p_fix[i] = p[idx_fix]\n",
    "            if i == 0:\n",
    "                S += T_fix[i]*p_fix[i]\n",
    "            else:\n",
    "                S += (T_fix[i]-T_fix[i-1])*p_fix[i]\n",
    "\n",
    "\n",
    "    return S\n",
    "\n",
    "#Example:\n",
    "T = [1/4, 2/4, 3/4, 4/4]\n",
    "p = [0.7, 0.8, 0.9, 1]\n",
    "\n",
    "S = zcb_to_accrual_factor(0,1,\"quarterly\",T,p)\n",
    "\n",
    "print(S)\n"
   ]
  },
  {
   "cell_type": "markdown",
   "metadata": {},
   "source": [
    "Input:\n",
    "\\begin{equation}\n",
    "\\begin{aligned}\n",
    "T_n &= \\text{Start time of the accrual period} \\\\\n",
    "T_N &= \\text{End time of the accrual period} \\\\\n",
    "\\text{fixed\\_freq} &= \\text{Frequency of accrual} \\\\\n",
    "T &= \\text{time to maturity} \\\\\n",
    "p &= \\text{ZCB price}\n",
    "\\end{aligned}\n",
    "\\end{equation}\n",
    "\n",
    "Output:\n",
    "\\begin{equation}\n",
    "\\begin{aligned}\n",
    "S=\\text{Accrual factor}\n",
    "\\end{aligned}\n",
    "\\end{equation}\n",
    "\n",
    "Formula:\n",
    "\\begin{equation}\n",
    "\\begin{aligned}\n",
    "S_{n}^{k}(t) &=\\sum_{i=n+1}^{k}\\alpha_{i}p(t,T_{i}) \\\\\n",
    "\\alpha_{i} &=T_{i}-T_{i-1}\n",
    "\\end{aligned}\n",
    "\\end{equation}\n",
    "\n",
    "where $n$ is the start period and $k$ is the end period.\n"
   ]
  },
  {
   "cell_type": "markdown",
   "metadata": {},
   "source": [
    "#### ZCB to par swap rate"
   ]
  },
  {
   "cell_type": "code",
   "execution_count": 129,
   "metadata": {},
   "outputs": [
    {
     "data": {
      "text/plain": [
       "-0.5882352941176471"
      ]
     },
     "execution_count": 129,
     "metadata": {},
     "output_type": "execute_result"
    }
   ],
   "source": [
    "def zcb_to_par_swap_rate(T_n,T_N,fixed_freq,T,p):\n",
    "    I_n, idx_n = value_in_list_returns_I_idx(T_n,T)\n",
    "    I_N, idx_N = value_in_list_returns_I_idx(T_N,T)\n",
    "    D = p[idx_n]-p[idx_N]\n",
    "    S = zcb_to_accrual_factor(T_n,T_N,fixed_freq,T,p)\n",
    "    R = D/S\n",
    "    return R\n",
    "\n",
    "#Example:\n",
    "T = [0, 1/4, 2/4, 3/4, 4/4]\n",
    "p = [0.5, 0.7, 0.8, 0.9, 1]\n",
    "\n",
    "zcb_to_par_swap_rate(0,1,\"quarterly\",T,p)"
   ]
  },
  {
   "cell_type": "markdown",
   "metadata": {},
   "source": [
    "Input:\n",
    "\\begin{equation}\n",
    "\\begin{aligned}\n",
    "T_n &= \\text{Start time of the accrual period} \\\\\n",
    "T_N &= \\text{End time of the accrual period} \\\\\n",
    "\\text{fixed\\_freq} &= \\text{Frequency of accrual} \\\\\n",
    "T &= \\text{time to maturity} \\\\\n",
    "p &= \\text{ZCB price}\n",
    "\\end{aligned}\n",
    "\\end{equation}\n",
    "\n",
    "Output:\n",
    "\\begin{equation}\n",
    "\\begin{aligned}\n",
    "R=\\text{Par swap rate}\n",
    "\\end{aligned}\n",
    "\\end{equation}\n",
    "\n",
    "Formula:\n",
    "\\begin{equation}\n",
    "\\begin{aligned}\n",
    "R_{n}^{N}(t)=\\frac{p_{n}(t)-p_{N}(t)}{\\sum_{i=n+1}^{N}\\alpha_{i}p_{i}(t)}\n",
    "\\end{aligned}\n",
    "\\end{equation}\n",
    "\n",
    "where $n$ is the start period and $N$ is the end period. Note that the denominator is the accrual rate.\n"
   ]
  },
  {
   "cell_type": "markdown",
   "metadata": {},
   "source": [
    "#### ZCB price for vasicek"
   ]
  },
  {
   "cell_type": "code",
   "execution_count": 144,
   "metadata": {},
   "outputs": [
    {
     "name": "stdout",
     "output_type": "stream",
     "text": [
      "[1.         0.99336228 0.98611486 0.97834796 0.97014137 0.96156554\n",
      " 0.9526825  0.94354674 0.93420609 0.9247024  0.91507227 0.90534762\n",
      " 0.89555625 0.88572234 0.87586689 0.86600808 0.85616164 0.84634112\n",
      " 0.83655822 0.82682295 0.81714389 0.80752836 0.79798256 0.78851175\n",
      " 0.77912033 0.76981198 0.76058975 0.75145611 0.74241308 0.73346224\n",
      " 0.72460482 0.71584171 0.70717356 0.69860077 0.69012352 0.68174184\n",
      " 0.67345559 0.6652645  0.6571682  0.64916622 0.64125799]\n"
     ]
    }
   ],
   "source": [
    "def zcb_price_vasicek(r0,a,b,sigma,tau):\n",
    "    if type(tau) == int or type(tau) == float:\n",
    "        B = (1/a)*(1-np.exp(-a*tau))\n",
    "        A = (B-tau)*(a*b-0.5*sigma**2)/(a**2)-(sigma**2*B)/(4*a)\n",
    "        p = np.exp(A-r0*B)\n",
    "    elif type(tau) == tuple or type(tau) == list or type(tau) == np.ndarray:\n",
    "        M = len(tau)\n",
    "        p = np.zeros([M])\n",
    "        for i in range(0,M):\n",
    "            B = (1/a)*(1-np.exp(-a*tau[i]))\n",
    "            A = (B-tau[i])*(a*b-0.5*sigma**2)/(a**2)-(sigma**2*B)/(4*a)\n",
    "            #ERROR: Why is it not B**2????\n",
    "            p[i] = np.exp(A-r0*B)\n",
    "    else:\n",
    "        print(f\"tau not a recognized type\")\n",
    "        p = False\n",
    "    return p\n",
    "\n",
    "#Example:\n",
    "r0, a, b, sigma_vasicek = 0.025, 0.5, 0.025, 0.02\n",
    "alpha = 0.25\n",
    "T_max = 10\n",
    "\n",
    "M = int(round(T_max/alpha))\n",
    "\n",
    "T = np.array([i*alpha for i in range(0,M+1)])\n",
    "\n",
    "print(zcb_price_vasicek(r0, a, b, sigma_vasicek, T))"
   ]
  },
  {
   "cell_type": "markdown",
   "metadata": {},
   "source": [
    "Input:\n",
    "\\begin{equation}\n",
    "\\begin{aligned}\n",
    "r_0 &= \\text{Initial short rate} \\\\\n",
    "a &= \\text{Speed of reversion} \\\\\n",
    "b &= \\text{Long-term mean level} \\\\\n",
    "\\sigma &= \\text{Volatility} \\\\\n",
    "\\tau &= \\text{Time to maturity}\n",
    "\\end{aligned}\n",
    "\\end{equation}\n",
    "\n",
    "Output:\n",
    "\\begin{equation}\n",
    "p = \\text{Price of the ZCB}\n",
    "\\end{equation}\n",
    "\n",
    "Formula:\n",
    "\\begin{equation}\n",
    "p(t, T) = e^{A(t,T)-B(t,T)r(t)}\n",
    "\\end{equation}\n",
    "where\n",
    "\\begin{equation}\n",
    "\\begin{aligned}\n",
    "A(t,T)&=\\frac{\\left[B(t,T)-(T-t)\\right]\\left(ab-\\frac{1}{2}\\sigma^{2}\\right)}{a^{2}}-\\frac{\\sigma^{2}B^{2}(t,T)}{4a}\\\\\n",
    "B(t, T) &= \\frac{1}{a}\\left[1 - e^{-a(T-t)}\\right]\n",
    "\\end{aligned}\n",
    "\\end{equation}"
   ]
  },
  {
   "cell_type": "markdown",
   "metadata": {},
   "source": [
    "#### Spot rate for vasicek"
   ]
  },
  {
   "cell_type": "code",
   "execution_count": 142,
   "metadata": {},
   "outputs": [
    {
     "name": "stdout",
     "output_type": "stream",
     "text": [
      "[0.         0.02663941 0.02796488 0.02918651 0.03031347 0.03135404\n",
      " 0.03231573 0.03320536 0.03402911 0.03479259 0.03550089 0.03615865\n",
      " 0.03677008 0.037339   0.0378689  0.03836294 0.03882402 0.03925477\n",
      " 0.03965759 0.04003467 0.04038802 0.04071945 0.04103064 0.04132313\n",
      " 0.0415983  0.04185744 0.04210172 0.04233222 0.04254992 0.04275575\n",
      " 0.04295051 0.04313499 0.04330989 0.04347586 0.04363349 0.04378334\n",
      " 0.04392591 0.04406168 0.04419108 0.04431451 0.04443234]\n"
     ]
    }
   ],
   "source": [
    "def spot_rate_vasicek(r0,a,b,sigma,tau):\n",
    "    if type(tau) == int or type(tau) == float:\n",
    "        B = (1/a)*(1-np.exp(-a*tau))\n",
    "        A = (B-tau)*(a*b-0.5*sigma**2)/(a**2)-(sigma**2*B)/(4*a)\n",
    "        if tau < 1e-6:\n",
    "            r = 0\n",
    "        elif tau >= 1e-6:\n",
    "            r = (-A+r0*B)/tau\n",
    "    elif type(tau) == tuple or type(tau) == list or type(tau) == np.ndarray:\n",
    "        M = len(tau)\n",
    "        r = np.zeros([M])\n",
    "        for i in range(0,M):\n",
    "            B = (1/a)*(1-np.exp(-a*tau[i]))\n",
    "            A = (B-tau[i])*(a*b-0.5*sigma**2)/(a**2)-(sigma**2*B)/(4*a)\n",
    "            if tau[i] < 1e-6:\n",
    "                r[i] = 0\n",
    "            else:\n",
    "                r[i] = (-A+r0*B)/tau[i]\n",
    "    else:\n",
    "        print(f\"tau not a recognized type\")\n",
    "        r = False\n",
    "    return r\n",
    "\n",
    "#Example:\n",
    "r0, a, b, sigma_vasicek = 0.025, 0.5, 0.025, 0.02\n",
    "alpha = 0.25\n",
    "T_max = 10\n",
    "\n",
    "M = int(round(T_max/alpha))\n",
    "\n",
    "T = np.array([i*alpha for i in range(0,M+1)])\n",
    "\n",
    "print(spot_rate_vasicek(r0, a, b, sigma_vasicek, T))"
   ]
  },
  {
   "cell_type": "markdown",
   "metadata": {},
   "source": [
    "Input: Same as above\n",
    "\n",
    "Output: Spot rate\n",
    "\n",
    "Formula:\n",
    "\n",
    "\\begin{equation}\n",
    "R(t,T)=\\frac{-A(t,T)+rB(t,T)}{T-t}\n",
    "\\end{equation}\n",
    "\n",
    "where $A$ and $B$ are the same as above."
   ]
  },
  {
   "cell_type": "markdown",
   "metadata": {},
   "source": [
    "#### Forward rate vasicek"
   ]
  },
  {
   "cell_type": "code",
   "execution_count": 145,
   "metadata": {},
   "outputs": [
    {
     "name": "stdout",
     "output_type": "stream",
     "text": [
      "[0.         0.02792653 0.03049084 0.03273954 0.03471288 0.03644568\n",
      " 0.03796812 0.03930641 0.04048335 0.04151881 0.04243012 0.04323241\n",
      " 0.04393892 0.04456125 0.04510953 0.04559268 0.0460185  0.04639386\n",
      " 0.04672477 0.04701654 0.04727382 0.04750071 0.04770082 0.04787732\n",
      " 0.048033   0.04817033 0.04829148 0.04839836 0.04849265 0.04857584\n",
      " 0.04864924 0.048714   0.04877115 0.04882157 0.04886605 0.04890531\n",
      " 0.04893995 0.04897052 0.04899749 0.04902129 0.0490423 ]\n"
     ]
    }
   ],
   "source": [
    "def forward_rate_vasicek(r0,a,b,sigma,tau):\n",
    "    if type(tau) == int or type(tau) == float:\n",
    "        B = (1/a)*(1-np.exp(-a*tau))\n",
    "        B_T = np.exp(-a*tau)\n",
    "        if tau < 1e-6:\n",
    "            f = 0\n",
    "        elif tau >= 1e-6:\n",
    "            f = (1-B_T)*(a*b-0.5*sigma**2)/(a**2) + (sigma**2*B*B_T)/(2*a) + r0*B_T\n",
    "    elif type(tau) == tuple or type(tau) == list or type(tau) == np.ndarray:\n",
    "        M = len(tau)\n",
    "        f = np.zeros([M])\n",
    "        for i in range(0,M):\n",
    "            B = (1/a)*(1-np.exp(-a*tau[i]))\n",
    "            B_T = np.exp(-a*tau[i])\n",
    "            if tau[i] < 1e-6:\n",
    "                f[i] = 0\n",
    "            else:\n",
    "                f[i] = (1-B_T)*(a*b-0.5*sigma**2)/(a**2) + (sigma**2*B*B_T)/(2*a) + r0*B_T\n",
    "    else:\n",
    "        print(f\"tau not a recognized type\")\n",
    "        f = False\n",
    "    return f\n",
    "\n",
    "#Example:\n",
    "r0, a, b, sigma_vasicek = 0.025, 0.5, 0.025, 0.02\n",
    "alpha = 0.25\n",
    "T_max = 10\n",
    "\n",
    "M = int(round(T_max/alpha))\n",
    "\n",
    "T = np.array([i*alpha for i in range(0,M+1)])\n",
    "\n",
    "print(forward_rate_vasicek(r0, a, b, sigma_vasicek, T))"
   ]
  },
  {
   "cell_type": "markdown",
   "metadata": {},
   "source": [
    "Input: Same as above\n",
    "\n",
    "Output: Forward rate\n",
    "\n",
    "Formula:\n",
    "\n",
    "\\begin{equation}\n",
    "f(t,T)=\\frac{(1-B_{T})(ab-\\frac{1}{2}\\sigma^{2})}{a^{2}}+\\frac{\\sigma^{2}BB_{T}}{2a}+rB_{t}\n",
    "\\end{equation}\n",
    "\n",
    "where $A$ and $B$ are the same as above and $B_{t}=\\exp(-a\\cdot(T-t))$\n",
    "\n"
   ]
  },
  {
   "cell_type": "markdown",
   "metadata": {},
   "source": [
    "#### Spot rate bump"
   ]
  },
  {
   "cell_type": "code",
   "execution_count": null,
   "metadata": {},
   "outputs": [],
   "source": [
    "def spot_rate_bump(T_bump,size_bump,T,R_input,p_input):\n",
    "    R, p = R_input.copy(), p_input.copy()\n",
    "    if type(T_bump) == int or type(T_bump) == float or type(T_bump) == np.float64:\n",
    "        I_bump, idx_bump = value_in_list_returns_I_idx(T_bump,T)\n",
    "        R[idx_bump] = R[idx_bump] + size_bump\n",
    "        p[idx_bump] = np.exp(-R[idx_bump]*T_bump)\n",
    "    elif type(T_bump) == tuple or type(T_bump) == list or type(T_bump) == np.ndarray:\n",
    "        if type(size_bump) == int or type(size_bump) == float or type(size_bump) == np.float64:\n",
    "            for i in range(0,len(T_bump)):\n",
    "                I_bump, idx_bump = value_in_list_returns_I_idx(T_bump[i],T)\n",
    "                R[idx_bump] = R[idx_bump] + size_bump\n",
    "                p[idx_bump] = np.exp(-R[idx_bump]*T_bump[i])\n",
    "        elif type(size_bump) == tuple or type(size_bump) == list or type(size_bump) == np.ndarray:\n",
    "            for i in range(0,len(T_bump)):\n",
    "                I_bump, idx_bump = value_in_list_returns_I_idx(T_bump[i],T)\n",
    "                R[idx_bump] = R[idx_bump] + size_bump[i]\n",
    "                p[idx_bump] = np.exp(-R[idx_bump]*T_bump[i])\n",
    "    return R, p\n",
    "\n",
    "\n"
   ]
  }
 ],
 "metadata": {
  "kernelspec": {
   "display_name": "base",
   "language": "python",
   "name": "python3"
  },
  "language_info": {
   "codemirror_mode": {
    "name": "ipython",
    "version": 3
   },
   "file_extension": ".py",
   "mimetype": "text/x-python",
   "name": "python",
   "nbconvert_exporter": "python",
   "pygments_lexer": "ipython3",
   "version": "3.8.5"
  }
 },
 "nbformat": 4,
 "nbformat_minor": 4
}
