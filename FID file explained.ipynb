{
 "cells": [
  {
   "cell_type": "code",
   "execution_count": 14,
   "metadata": {},
   "outputs": [],
   "source": [
    "import numpy as np\n",
    "from scipy.special import ndtr\n",
    "from scipy.stats import norm, ncx2\n",
    "from scipy.optimize import minimize\n",
    "from numpy.polynomial.hermite import hermfit, hermval, hermder\n",
    "import copy\n",
    "import fixed_income_derivatives as fid\n",
    "import matplotlib.pyplot as plt"
   ]
  },
  {
   "cell_type": "markdown",
   "metadata": {},
   "source": [
    "#### Spot rates to ZCB\n"
   ]
  },
  {
   "cell_type": "code",
   "execution_count": 14,
   "metadata": {},
   "outputs": [
    {
     "name": "stdout",
     "output_type": "stream",
     "text": [
      "[0.7 0.8 0.9 1. ]\n"
     ]
    }
   ],
   "source": [
    "def spot_rates_to_zcb(T,spot_rate):\n",
    "    M = len(T)\n",
    "    p = np.zeros([M])\n",
    "    for i in range(0,M):\n",
    "        if T[i] < 1e-8:\n",
    "            p[i] = 1\n",
    "        else:\n",
    "            p[i] = np.exp(-spot_rate[i]*T[i])\n",
    "    return p\n",
    "\n",
    "#Example:\n",
    "T = [1/4, 2/4, 3/4, 4/4]\n",
    "spot_rate = [ 1.42669978,  0.4462871 ,  0.14048069, -0.        ]\n",
    "\n",
    "print(spot_rates_to_zcb(T,spot_rate))"
   ]
  },
  {
   "cell_type": "markdown",
   "metadata": {},
   "source": [
    "Input:\n",
    "\\begin{equation*}\n",
    "\\begin{aligned}\n",
    "T &= \\text{time to maturity} \\\\\n",
    "\\text{spot\\_rate}&=\\text{Spot rate}\n",
    "\\end{aligned}\n",
    "\\end{equation*}\n",
    "\n",
    "Output:\n",
    "\\begin{equation*}\n",
    "\\begin{aligned}\n",
    "p &= \\text{ZCB price} \n",
    "\\end{aligned}\n",
    "\\end{equation*}\n",
    "\n",
    "Formula:\n",
    "\\begin{equation*}\n",
    "\\begin{aligned}\n",
    "p(t,T)=\\exp(-R(t,T)\\cdot(T-t))\n",
    "\\end{aligned}\n",
    "\\end{equation*}\n"
   ]
  },
  {
   "cell_type": "markdown",
   "metadata": {},
   "source": [
    "#### ZCB to spot rates"
   ]
  },
  {
   "cell_type": "code",
   "execution_count": 13,
   "metadata": {},
   "outputs": [
    {
     "name": "stdout",
     "output_type": "stream",
     "text": [
      "[ 1.42669978  0.4462871   0.14048069 -0.        ]\n"
     ]
    }
   ],
   "source": [
    "def zcb_to_spot_rates(T,p):\n",
    "    M = len(T)\n",
    "    R = np.zeros([M])\n",
    "    for i in range(0,M):\n",
    "        if T[i] < 1e-8:\n",
    "            R[i] = 0\n",
    "        else:\n",
    "            R[i] = -np.log(p[i])/T[i]\n",
    "    return R\n",
    "\n",
    "#Example:\n",
    "T = [1/4, 2/4, 3/4, 4/4]\n",
    "p = [0.7, 0.8, 0.9, 1]\n",
    "\n",
    "print(zcb_to_spot_rates(T,p))"
   ]
  },
  {
   "cell_type": "markdown",
   "metadata": {},
   "source": [
    "Input:\n",
    "\\begin{equation*}\n",
    "\\begin{aligned}\n",
    "T &= \\text{time to maturity} \\\\\n",
    "p &= \\text{ZCB price} \n",
    "\\end{aligned}\n",
    "\\end{equation*}\n",
    "\n",
    "Output:\n",
    "\\begin{equation*}\n",
    "\\begin{aligned}\n",
    "R &= \\text{spot rate} \n",
    "\\end{aligned}\n",
    "\\end{equation*}\n",
    "\n",
    "Formula:\n",
    "\\begin{equation*}\n",
    "\\begin{aligned}\n",
    "R(t,T) &= -\\frac{\\log p(t,T)}{(T-t)}\n",
    "\\end{aligned}\n",
    "\\end{equation*}\n"
   ]
  },
  {
   "cell_type": "markdown",
   "metadata": {},
   "source": [
    "#### ZCB to forward rates"
   ]
  },
  {
   "cell_type": "code",
   "execution_count": 22,
   "metadata": {},
   "outputs": [
    {
     "name": "stdout",
     "output_type": "stream",
     "text": [
      "[ 0.         -0.53412557 -0.47113214 -0.42144206]\n",
      "[-0.53412557 -0.50262886 -0.4462871  -0.42144206]\n"
     ]
    }
   ],
   "source": [
    "def zcb_to_forward_rates(T,p,horizon = 1):\n",
    "    # horizon = 0 corresponds to instantaneous forward rates\n",
    "    M = len(T)\n",
    "    f = np.zeros([M])\n",
    "    if horizon == 0:\n",
    "        f[0] = (np.log(p[0])-np.log(p[1]))/(T[1]-T[0])\n",
    "        f[-1] = (np.log(p[-2])-np.log(p[-1]))/(T[-1]-T[-2])\n",
    "        m = 1\n",
    "        while m < M - 1.5: #1.5 is abritrary and might as well be 1.0001, as far as I understand...\n",
    "            f[m] = (np.log(p[m-1])-np.log(p[m+1]))/(T[m+1]-T[m-1])\n",
    "            m += 1\n",
    "    elif 0 < horizon:\n",
    "        m = horizon\n",
    "        while m < M - 0.5:\n",
    "            f[m] = (np.log(p[m-horizon])-np.log(p[m]))/(T[m]-T[m-horizon])\n",
    "            m += 1\n",
    "    return f\n",
    "\n",
    "#Example:\n",
    "T = [1/4, 2/4, 3/4, 4/4]\n",
    "p = [0.7, 0.8, 0.9, 1]\n",
    "\n",
    "print(zcb_to_forward_rates(T,p, horizon=1))\n",
    "print(zcb_to_forward_rates(T,p, horizon=0))"
   ]
  },
  {
   "cell_type": "markdown",
   "metadata": {},
   "source": [
    "Input:\n",
    "\\begin{equation*}\n",
    "\\begin{aligned}\n",
    "T &= \\text{time to maturity} \\\\\n",
    "p &= \\text{ZCB price} \\\\\n",
    "horizon&=\\text{start date of loan}\n",
    "\\end{aligned}\n",
    "\\end{equation*}\n",
    "\n",
    "Output:\n",
    "\\begin{equation*}\n",
    "\\begin{aligned}\n",
    "f=\\text{forward rates of return}\n",
    "\\end{aligned}\n",
    "\\end{equation*}\n",
    "\n",
    "Formula:\n",
    "\\begin{equation*}\n",
    "\\begin{aligned}\n",
    "R(t;S,T)=-\\frac{\\log p(t,T)-\\log p(t,S)}{(T-S)}\n",
    "\\end{aligned}\n",
    "\\end{equation*}\n"
   ]
  },
  {
   "cell_type": "markdown",
   "metadata": {},
   "source": [
    "#### ZCB to forward LIBOR rates"
   ]
  },
  {
   "cell_type": "code",
   "execution_count": 24,
   "metadata": {},
   "outputs": [
    {
     "name": "stdout",
     "output_type": "stream",
     "text": [
      "[ 0.         -0.5        -0.44444444 -0.4       ]\n"
     ]
    }
   ],
   "source": [
    "def zcb_to_forward_LIBOR_rates(T,p,horizon = 1):\n",
    "    M = len(T)\n",
    "    f = np.zeros([M])\n",
    "    i = horizon\n",
    "    #ERROR: Need to include what happens when horizon = 0\n",
    "    while i < M - 0.5:\n",
    "        f[i] = (p[i-horizon]-p[i])/(p[i]*(T[i]-T[i-horizon]))\n",
    "        i += 1\n",
    "    return f\n",
    "\n",
    "#Example:\n",
    "T = [1/4, 2/4, 3/4, 4/4]\n",
    "p = [0.7, 0.8, 0.9, 1]\n",
    "\n",
    "print(zcb_to_forward_LIBOR_rates(T,p, horizon=1))\n"
   ]
  },
  {
   "cell_type": "markdown",
   "metadata": {},
   "source": [
    "Input:\n",
    "\\begin{equation*}\n",
    "\\begin{aligned}\n",
    "T &= \\text{time to maturity} \\\\\n",
    "p &= \\text{ZCB price} \\\\\n",
    "horizon&=\\text{start date of loan}\n",
    "\\end{aligned}\n",
    "\\end{equation*}\n",
    "\n",
    "Output:\n",
    "\\begin{equation*}\n",
    "\\begin{aligned}\n",
    "f=\\text{forward rates of return}\n",
    "\\end{aligned}\n",
    "\\end{equation*}\n",
    "\n",
    "Formula (unsure):\n",
    "\\begin{equation*}\n",
    "\\begin{aligned}\n",
    "\\text{Forward LIBOR Rate} = \\frac{p(t, S) - p(t, T)}{p(t, T) \\cdot (T - S)}\n",
    "\\end{aligned}\n",
    "\\end{equation*}\n"
   ]
  },
  {
   "cell_type": "markdown",
   "metadata": {},
   "source": [
    "#### Utility function used in many of the following functions:"
   ]
  },
  {
   "cell_type": "code",
   "execution_count": 85,
   "metadata": {},
   "outputs": [
    {
     "name": "stdout",
     "output_type": "stream",
     "text": [
      "0.25\n",
      "0.5\n",
      "0.75\n",
      "1.0\n"
     ]
    }
   ],
   "source": [
    "def value_in_list_returns_I_idx(value,list):\n",
    "    output = False, None\n",
    "    for i, item in enumerate(list):\n",
    "        if abs(value-item) < 1e-6:\n",
    "            output = True, i\n",
    "            break\n",
    "    return output\n",
    "\n",
    "#Example:\n",
    "example_list = [1/8, 2/8, 3/8, 4/8, 5/8, 6/8, 7/8, 8/8]\n",
    "example_value = [2/8, 4/8, 6/8, 8/8]\n",
    "\n",
    "for i in range(0,len(example_value)):\n",
    "    I_fix, idx_fix = value_in_list_returns_I_idx(example_value[i], example_list)\n",
    "    if I_fix is True:\n",
    "        print(example_list[idx_fix])"
   ]
  },
  {
   "cell_type": "markdown",
   "metadata": {},
   "source": [
    "In essence, the function only returns values that are in both lists."
   ]
  },
  {
   "cell_type": "markdown",
   "metadata": {},
   "source": [
    "#### ZCB to accrual factor (also known as present value of a basis point)"
   ]
  },
  {
   "cell_type": "code",
   "execution_count": 127,
   "metadata": {},
   "outputs": [
    {
     "name": "stdout",
     "output_type": "stream",
     "text": [
      "0.85\n"
     ]
    }
   ],
   "source": [
    "def zcb_to_accrual_factor(T_n,T_N,fixed_freq,T,p):\n",
    "    if fixed_freq == \"quarterly\":\n",
    "        p_fix = np.zeros([int(T_N-T_n)*4])\n",
    "        T_fix = np.array([T_n + i*0.25 for i in range(1,int(T_N-T_n)*4 + 1)])\n",
    "    elif fixed_freq == \"semiannual\":\n",
    "        p_fix = np.zeros([int(T_N-T_n)*2])\n",
    "        T_fix = np.array([T_n + i*0.5 for i in range(1,int(T_N-T_n)*2 + 1)])\n",
    "    elif fixed_freq == \"annual\":\n",
    "        p_fix = np.zeros([int(T_N-T_n)])\n",
    "        T_fix = np.array([T_n + i*0.25 for i in range(1,int(T_N-T_n) + 1)])\n",
    "    S = 0\n",
    "    for i in range(0,len(T_fix)):\n",
    "        I_fix, idx_fix = value_in_list_returns_I_idx(T_fix[i],T)\n",
    "        if I_fix is True:\n",
    "            T_fix[i] = T[idx_fix]\n",
    "            p_fix[i] = p[idx_fix]\n",
    "            if i == 0:\n",
    "                S += T_fix[i]*p_fix[i]\n",
    "            else:\n",
    "                S += (T_fix[i]-T_fix[i-1])*p_fix[i]\n",
    "\n",
    "\n",
    "    return S\n",
    "\n",
    "#Example:\n",
    "T = [1/4, 2/4, 3/4, 4/4]\n",
    "p = [0.7, 0.8, 0.9, 1]\n",
    "\n",
    "S = zcb_to_accrual_factor(0,1,\"quarterly\",T,p)\n",
    "\n",
    "print(S)\n"
   ]
  },
  {
   "cell_type": "markdown",
   "metadata": {},
   "source": [
    "Input:\n",
    "\\begin{equation*}\n",
    "\\begin{aligned}\n",
    "T_n &= \\text{Start time of the accrual period} \\\\\n",
    "T_N &= \\text{End time of the accrual period} \\\\\n",
    "\\text{fixed\\_freq} &= \\text{Frequency of accrual} \\\\\n",
    "T &= \\text{time to maturity} \\\\\n",
    "p &= \\text{ZCB price}\n",
    "\\end{aligned}\n",
    "\\end{equation*}\n",
    "\n",
    "Output:\n",
    "\\begin{equation*}\n",
    "\\begin{aligned}\n",
    "S=\\text{Accrual factor}\n",
    "\\end{aligned}\n",
    "\\end{equation*}\n",
    "\n",
    "Formula:\n",
    "\\begin{equation*}\n",
    "\\begin{aligned}\n",
    "S_{n}^{k}(t) &=\\sum_{i=n+1}^{k}\\alpha_{i}p(t,T_{i}) \\\\\n",
    "\\alpha_{i} &=T_{i}-T_{i-1}\n",
    "\\end{aligned}\n",
    "\\end{equation*}\n",
    "\n",
    "where $n$ is the start period and $k$ is the end period.\n"
   ]
  },
  {
   "cell_type": "markdown",
   "metadata": {},
   "source": [
    "#### ZCB to par swap rate"
   ]
  },
  {
   "cell_type": "code",
   "execution_count": 129,
   "metadata": {},
   "outputs": [
    {
     "data": {
      "text/plain": [
       "-0.5882352941176471"
      ]
     },
     "execution_count": 129,
     "metadata": {},
     "output_type": "execute_result"
    }
   ],
   "source": [
    "def zcb_to_par_swap_rate(T_n,T_N,fixed_freq,T,p):\n",
    "    I_n, idx_n = value_in_list_returns_I_idx(T_n,T)\n",
    "    I_N, idx_N = value_in_list_returns_I_idx(T_N,T)\n",
    "    D = p[idx_n]-p[idx_N]\n",
    "    S = zcb_to_accrual_factor(T_n,T_N,fixed_freq,T,p)\n",
    "    R = D/S\n",
    "    return R\n",
    "\n",
    "#Example:\n",
    "T = [0, 1/4, 2/4, 3/4, 4/4]\n",
    "p = [0.5, 0.7, 0.8, 0.9, 1]\n",
    "\n",
    "zcb_to_par_swap_rate(0,1,\"quarterly\",T,p)"
   ]
  },
  {
   "cell_type": "markdown",
   "metadata": {},
   "source": [
    "Input:\n",
    "\\begin{equation*}\n",
    "\\begin{aligned}\n",
    "T_n &= \\text{Start time of the accrual period} \\\\\n",
    "T_N &= \\text{End time of the accrual period} \\\\\n",
    "\\text{fixed\\_freq} &= \\text{Frequency of accrual} \\\\\n",
    "T &= \\text{time to maturity} \\\\\n",
    "p &= \\text{ZCB price}\n",
    "\\end{aligned}\n",
    "\\end{equation*}\n",
    "\n",
    "Output:\n",
    "\\begin{equation*}\n",
    "\\begin{aligned}\n",
    "R=\\text{Par swap rate}\n",
    "\\end{aligned}\n",
    "\\end{equation*}\n",
    "\n",
    "Formula:\n",
    "\\begin{equation*}\n",
    "\\begin{aligned}\n",
    "R_{n}^{N}(t)=\\frac{p_{n}(t)-p_{N}(t)}{\\sum_{i=n+1}^{N}\\alpha_{i}p_{i}(t)}\n",
    "\\end{aligned}\n",
    "\\end{equation*}\n",
    "\n",
    "where $n$ is the start period and $N$ is the end period. Note that the denominator is the accrual rate.\n"
   ]
  },
  {
   "cell_type": "markdown",
   "metadata": {},
   "source": [
    "#### ZCB price for vasicek"
   ]
  },
  {
   "cell_type": "code",
   "execution_count": 144,
   "metadata": {},
   "outputs": [
    {
     "name": "stdout",
     "output_type": "stream",
     "text": [
      "[1.         0.99336228 0.98611486 0.97834796 0.97014137 0.96156554\n",
      " 0.9526825  0.94354674 0.93420609 0.9247024  0.91507227 0.90534762\n",
      " 0.89555625 0.88572234 0.87586689 0.86600808 0.85616164 0.84634112\n",
      " 0.83655822 0.82682295 0.81714389 0.80752836 0.79798256 0.78851175\n",
      " 0.77912033 0.76981198 0.76058975 0.75145611 0.74241308 0.73346224\n",
      " 0.72460482 0.71584171 0.70717356 0.69860077 0.69012352 0.68174184\n",
      " 0.67345559 0.6652645  0.6571682  0.64916622 0.64125799]\n"
     ]
    }
   ],
   "source": [
    "def zcb_price_vasicek(r0,a,b,sigma,tau):\n",
    "    if type(tau) == int or type(tau) == float:\n",
    "        B = (1/a)*(1-np.exp(-a*tau))\n",
    "        A = (B-tau)*(a*b-0.5*sigma**2)/(a**2)-(sigma**2*B)/(4*a)\n",
    "        p = np.exp(A-r0*B)\n",
    "    elif type(tau) == tuple or type(tau) == list or type(tau) == np.ndarray:\n",
    "        M = len(tau)\n",
    "        p = np.zeros([M])\n",
    "        for i in range(0,M):\n",
    "            B = (1/a)*(1-np.exp(-a*tau[i]))\n",
    "            A = (B-tau[i])*(a*b-0.5*sigma**2)/(a**2)-(sigma**2*B)/(4*a)\n",
    "            #ERROR: Why is it not B**2????\n",
    "            p[i] = np.exp(A-r0*B)\n",
    "    else:\n",
    "        print(f\"tau not a recognized type\")\n",
    "        p = False\n",
    "    return p\n",
    "\n",
    "#Example:\n",
    "r0, a, b, sigma_vasicek = 0.025, 0.5, 0.025, 0.02\n",
    "alpha = 0.25\n",
    "T_max = 10\n",
    "\n",
    "M = int(round(T_max/alpha))\n",
    "\n",
    "T = np.array([i*alpha for i in range(0,M+1)])\n",
    "\n",
    "print(zcb_price_vasicek(r0, a, b, sigma_vasicek, T))"
   ]
  },
  {
   "cell_type": "markdown",
   "metadata": {},
   "source": [
    "Input:\n",
    "\\begin{equation*}\n",
    "\\begin{aligned}\n",
    "r_0 &= \\text{Initial short rate} \\\\\n",
    "a &= \\text{Speed of reversion} \\\\\n",
    "b &= \\text{Long-term mean level} \\\\\n",
    "\\sigma &= \\text{Volatility} \\\\\n",
    "\\tau &= \\text{Time to maturity}\n",
    "\\end{aligned}\n",
    "\\end{equation*}\n",
    "\n",
    "Output:\n",
    "\\begin{equation*}\n",
    "p = \\text{Price of the ZCB}\n",
    "\\end{equation*}\n",
    "\n",
    "Formula:\n",
    "\\begin{equation*}\n",
    "p(t, T) = e^{A(t,T)-B(t,T)r(t)}\n",
    "\\end{equation*}\n",
    "where\n",
    "\\begin{equation*}\n",
    "\\begin{aligned}\n",
    "A(t,T)&=\\frac{\\left[B(t,T)-(T-t)\\right]\\left(ab-\\frac{1}{2}\\sigma^{2}\\right)}{a^{2}}-\\frac{\\sigma^{2}B^{2}(t,T)}{4a}\\\\\n",
    "B(t, T) &= \\frac{1}{a}\\left[1 - e^{-a(T-t)}\\right]\n",
    "\\end{aligned}\n",
    "\\end{equation*}"
   ]
  },
  {
   "cell_type": "markdown",
   "metadata": {},
   "source": [
    "#### Spot rate for vasicek"
   ]
  },
  {
   "cell_type": "code",
   "execution_count": 142,
   "metadata": {},
   "outputs": [
    {
     "name": "stdout",
     "output_type": "stream",
     "text": [
      "[0.         0.02663941 0.02796488 0.02918651 0.03031347 0.03135404\n",
      " 0.03231573 0.03320536 0.03402911 0.03479259 0.03550089 0.03615865\n",
      " 0.03677008 0.037339   0.0378689  0.03836294 0.03882402 0.03925477\n",
      " 0.03965759 0.04003467 0.04038802 0.04071945 0.04103064 0.04132313\n",
      " 0.0415983  0.04185744 0.04210172 0.04233222 0.04254992 0.04275575\n",
      " 0.04295051 0.04313499 0.04330989 0.04347586 0.04363349 0.04378334\n",
      " 0.04392591 0.04406168 0.04419108 0.04431451 0.04443234]\n"
     ]
    }
   ],
   "source": [
    "def spot_rate_vasicek(r0,a,b,sigma,tau):\n",
    "    if type(tau) == int or type(tau) == float:\n",
    "        B = (1/a)*(1-np.exp(-a*tau))\n",
    "        A = (B-tau)*(a*b-0.5*sigma**2)/(a**2)-(sigma**2*B)/(4*a)\n",
    "        if tau < 1e-6:\n",
    "            r = 0\n",
    "        elif tau >= 1e-6:\n",
    "            r = (-A+r0*B)/tau\n",
    "    elif type(tau) == tuple or type(tau) == list or type(tau) == np.ndarray:\n",
    "        M = len(tau)\n",
    "        r = np.zeros([M])\n",
    "        for i in range(0,M):\n",
    "            B = (1/a)*(1-np.exp(-a*tau[i]))\n",
    "            A = (B-tau[i])*(a*b-0.5*sigma**2)/(a**2)-(sigma**2*B)/(4*a)\n",
    "            if tau[i] < 1e-6:\n",
    "                r[i] = 0\n",
    "            else:\n",
    "                r[i] = (-A+r0*B)/tau[i]\n",
    "    else:\n",
    "        print(f\"tau not a recognized type\")\n",
    "        r = False\n",
    "    return r\n",
    "\n",
    "#Example:\n",
    "r0, a, b, sigma_vasicek = 0.025, 0.5, 0.025, 0.02\n",
    "alpha = 0.25\n",
    "T_max = 10\n",
    "\n",
    "M = int(round(T_max/alpha))\n",
    "\n",
    "T = np.array([i*alpha for i in range(0,M+1)])\n",
    "\n",
    "print(spot_rate_vasicek(r0, a, b, sigma_vasicek, T))"
   ]
  },
  {
   "cell_type": "markdown",
   "metadata": {},
   "source": [
    "Input: Same as above\n",
    "\n",
    "Output: Spot rate\n",
    "\n",
    "Formula:\n",
    "\n",
    "\\begin{equation*}\n",
    "R(t,T)=\\frac{-A(t,T)+rB(t,T)}{T-t}\n",
    "\\end{equation*}\n",
    "\n",
    "where $A$ and $B$ are the same as above."
   ]
  },
  {
   "cell_type": "markdown",
   "metadata": {},
   "source": [
    "#### Forward rate vasicek"
   ]
  },
  {
   "cell_type": "code",
   "execution_count": 145,
   "metadata": {},
   "outputs": [
    {
     "name": "stdout",
     "output_type": "stream",
     "text": [
      "[0.         0.02792653 0.03049084 0.03273954 0.03471288 0.03644568\n",
      " 0.03796812 0.03930641 0.04048335 0.04151881 0.04243012 0.04323241\n",
      " 0.04393892 0.04456125 0.04510953 0.04559268 0.0460185  0.04639386\n",
      " 0.04672477 0.04701654 0.04727382 0.04750071 0.04770082 0.04787732\n",
      " 0.048033   0.04817033 0.04829148 0.04839836 0.04849265 0.04857584\n",
      " 0.04864924 0.048714   0.04877115 0.04882157 0.04886605 0.04890531\n",
      " 0.04893995 0.04897052 0.04899749 0.04902129 0.0490423 ]\n"
     ]
    }
   ],
   "source": [
    "def forward_rate_vasicek(r0,a,b,sigma,tau):\n",
    "    if type(tau) == int or type(tau) == float:\n",
    "        B = (1/a)*(1-np.exp(-a*tau))\n",
    "        B_T = np.exp(-a*tau)\n",
    "        if tau < 1e-6:\n",
    "            f = 0\n",
    "        elif tau >= 1e-6:\n",
    "            f = (1-B_T)*(a*b-0.5*sigma**2)/(a**2) + (sigma**2*B*B_T)/(2*a) + r0*B_T\n",
    "    elif type(tau) == tuple or type(tau) == list or type(tau) == np.ndarray:\n",
    "        M = len(tau)\n",
    "        f = np.zeros([M])\n",
    "        for i in range(0,M):\n",
    "            B = (1/a)*(1-np.exp(-a*tau[i]))\n",
    "            B_T = np.exp(-a*tau[i])\n",
    "            if tau[i] < 1e-6:\n",
    "                f[i] = 0\n",
    "            else:\n",
    "                f[i] = (1-B_T)*(a*b-0.5*sigma**2)/(a**2) + (sigma**2*B*B_T)/(2*a) + r0*B_T\n",
    "    else:\n",
    "        print(f\"tau not a recognized type\")\n",
    "        f = False\n",
    "    return f\n",
    "\n",
    "#Example:\n",
    "r0, a, b, sigma_vasicek = 0.025, 0.5, 0.025, 0.02\n",
    "alpha = 0.25\n",
    "T_max = 10\n",
    "\n",
    "M = int(round(T_max/alpha))\n",
    "\n",
    "T = np.array([i*alpha for i in range(0,M+1)])\n",
    "\n",
    "print(forward_rate_vasicek(r0, a, b, sigma_vasicek, T))"
   ]
  },
  {
   "cell_type": "markdown",
   "metadata": {},
   "source": [
    "Input: Same as above\n",
    "\n",
    "Output: Forward rate\n",
    "\n",
    "Formula:\n",
    "\n",
    "\\begin{equation*}\n",
    "f(t,T)=\\frac{(1-B_{T})(ab-\\frac{1}{2}\\sigma^{2})}{a^{2}}+\\frac{\\sigma^{2}BB_{T}}{2a}+rB_{t}\n",
    "\\end{equation*}\n",
    "\n",
    "where $A$ and $B$ are the same as above and $B_{t}=\\exp(-a\\cdot(T-t))$\n",
    "\n"
   ]
  },
  {
   "cell_type": "markdown",
   "metadata": {},
   "source": [
    "#### Confidence intervals for vasicek"
   ]
  },
  {
   "cell_type": "code",
   "execution_count": 35,
   "metadata": {},
   "outputs": [
    {
     "name": "stdout",
     "output_type": "stream",
     "text": [
      "[       nan 0.00950144 0.0059414  0.00434405 0.00367095 0.00350736\n",
      " 0.0036405  0.00394749 0.00435264 0.0048077  0.00528138 0.00575339\n",
      " 0.00621073 0.0066454  0.00705277 0.00743053 0.00777798 0.00809547\n",
      " 0.00838408 0.0086453  0.00888088 0.00909271 0.00928271 0.00945275\n",
      " 0.00960466 0.00974015 0.00986084 0.00996822 0.01006366 0.01014841\n",
      " 0.01022362 0.01029031 0.0103494  0.01040175 0.0104481  0.01048912\n",
      " 0.01052541 0.01055751 0.0105859  0.01061099 0.01063316]\n",
      "[       nan 0.04637371 0.05511857 0.06129149 0.06600252 0.06972956\n",
      " 0.07274117 0.07520941 0.07725339 0.07895968 0.08039338 0.08160464\n",
      " 0.08263276 0.08350901 0.08425854 0.08490172 0.08545526 0.08593288\n",
      " 0.08634596 0.08670398 0.08701487 0.0872853  0.0875209  0.08772645\n",
      " 0.08790599 0.088063   0.08820045 0.08832087 0.08842647 0.08851913\n",
      " 0.08860049 0.08867198 0.08873481 0.08879007 0.08883869 0.08888147\n",
      " 0.08891914 0.0889523  0.08898152 0.08900726 0.08902994]\n"
     ]
    }
   ],
   "source": [
    "def ci_vasicek(r0,a,b,sigma,T,size_ci,method = \"two_sided\"):\n",
    "    if type(T) == int or type(T) == float:\n",
    "        if method == \"lower\":\n",
    "            z = norm.ppf(size_ci,0,1)\n",
    "            if T < 1e-6:\n",
    "                lb, ub = np.nan, np.nan\n",
    "            else:\n",
    "                mean = r0*np.exp(-a*T) + b/a*(1-np.exp(-a*T))\n",
    "                std = np.sqrt(sigma**2/(2*a)*(1-np.exp(-2*a*T)))\n",
    "                lb, ub = mean - z*std, np.inf\n",
    "        elif method == \"upper\":\n",
    "            z = norm.ppf(size_ci,0,1)\n",
    "            if T < 1e-6:\n",
    "                lb, ub = np.nan, np.nan\n",
    "            else:\n",
    "                mean = r0*np.exp(-a*T) + b/a*(1-np.exp(-a*T))\n",
    "                std = np.sqrt(sigma**2/(2*a)*(1-np.exp(-2*a*T)))\n",
    "                lb, ub = -np.inf, mean + z*std\n",
    "        elif method == \"two_sided\":\n",
    "            z = norm.ppf(size_ci + 0.5*(1-size_ci),0,1)\n",
    "            if T < 1e-6:\n",
    "                lb, ub = np.nan, np.nan\n",
    "            else:\n",
    "                mean = r0*np.exp(-a*T) + b/a*(1-np.exp(-a*T))\n",
    "                std = np.sqrt(sigma**2/(2*a)*(1-np.exp(-2*a*T)))\n",
    "                lb, ub = mean - z*std, mean + z*std\n",
    "        print(f\"method: {method}, z: {z}\")\n",
    "    elif type(T) == tuple or type(T) == list or type(T) == np.ndarray:\n",
    "        N = len(T)\n",
    "        lb, ub = np.zeros([N]), np.zeros([N])\n",
    "        if method == \"lower\":\n",
    "            z = norm.ppf(size_ci,0,1)\n",
    "            for i in range(0,N):\n",
    "                if T[i] < 1e-6:\n",
    "                    lb[i], ub[i] = np.nan, np.nan\n",
    "                else:\n",
    "                    mean = r0*np.exp(-a*T[i]) + b/a*(1-np.exp(-a*T[i]))\n",
    "                    std = np.sqrt(sigma**2/(2*a)*(1-np.exp(-2*a*T[i])))\n",
    "                    lb[i], ub[i] = mean - z*std, np.inf\n",
    "        elif method == \"upper\":\n",
    "            z = norm.ppf(size_ci,0,1)\n",
    "            for i in range(0,N):\n",
    "                if T[i] < 1e-6:\n",
    "                    lb[i], ub[i] = np.nan, np.nan\n",
    "                else:\n",
    "                    mean = r0*np.exp(-a*T[i]) + b/a*(1-np.exp(-a*T[i]))\n",
    "                    std = np.sqrt(sigma**2/(2*a)*(1-np.exp(-2*a*T[i])))\n",
    "                    lb[i], ub[i] = -np.inf, mean + z*std\n",
    "        elif method == \"two_sided\":\n",
    "            z = norm.ppf(size_ci + 0.5*(1-size_ci),0,1)\n",
    "            for i in range(0,N):\n",
    "                if T[i] < 1e-6:\n",
    "                    lb[i], ub[i] = np.nan, np.nan\n",
    "                else:\n",
    "                    mean = r0*np.exp(-a*T[i]) + b/a*(1-np.exp(-a*T[i]))\n",
    "                    std = np.sqrt(sigma**2/(2*a)*(1-np.exp(-2*a*T[i])))\n",
    "                    lb[i], ub[i] = mean - z*std, mean + z*std\n",
    "    else:\n",
    "        print(f\"tau not a recognized type\")\n",
    "        lb,ub = False, False\n",
    "    return lb, ub, \n",
    "\n",
    "\n",
    "#Example:\n",
    "r0, a, b, sigma_vasicek = 0.025, 0.5, 0.025, 0.02\n",
    "alpha = 0.25\n",
    "T_max = 10\n",
    "\n",
    "M = int(round(T_max/alpha))\n",
    "\n",
    "T = np.array([i*alpha for i in range(0,M+1)])\n",
    "\n",
    "lb, ub = ci_vasicek(r0, a, b, sigma_vasicek, T, 0.95, method = \"two_sided\")\n",
    "\n",
    "print(lb)\n",
    "print(ub)\n"
   ]
  },
  {
   "cell_type": "markdown",
   "metadata": {},
   "source": [
    "Input: Same as above, except with the following included:\n",
    "\n",
    "\\begin{equation*}\n",
    "\\begin{aligned}\n",
    "\\text{size\\_ci}&=\\text{size of confidenceinterval, i.e. 0.95 as 95\\% confidence interval} \\\\\n",
    "\\text{method}&=\\text{for either one or two-sided confidence interval}\n",
    "\\end{aligned}\n",
    "\\end{equation*}\n",
    "\n",
    "Output: Upper and lower confidence interval of the short rate\n",
    "\n",
    "Formula:\n",
    "\n",
    "\\begin{equation*}\n",
    "\\begin{aligned}\n",
    "\\text{mean}&=r_{0}\\cdot\\exp\\left(-a\\cdot(T-t)\\right)+\\frac{b}{a}\\cdot\\left(1-\\exp\\left[-a\\cdot(T-t)\\right]\\right) \\\\\n",
    "\\text{std.}&=\\sqrt{\\frac{\\sigma^{2}}{2\\cdot a}\\cdot\\left(1-\\exp\\left[-a\\cdot(T-t)\\right]\\right)}\n",
    "\\end{aligned}\n",
    "\\end{equation*}\n",
    "\n",
    "Of course, the confidence intervals are drawn from a normal distribution and calculated as $\\text{mean}=\\text{std.}\\cdot\\text{quantile}(0.95,\\mathcal{N}(0,1))$\n",
    "\n",
    "The code is horrible written and basically repeats itself six times"
   ]
  },
  {
   "cell_type": "markdown",
   "metadata": {},
   "source": [
    "#### Euro option price for vasicek"
   ]
  },
  {
   "cell_type": "code",
   "execution_count": null,
   "metadata": {},
   "outputs": [],
   "source": [
    "def euro_option_price_vasicek(K,T,U,p_T,p_U,a,sigma,type = \"call\"):\n",
    "    sigma_p = (sigma/a)*(1-np.exp(-a*(U-T)))*np.sqrt((1-np.exp(-2*a*T))/(2*a))\n",
    "    d1 = (np.log(p_U/(p_T*K)))/sigma_p + 0.5*sigma_p\n",
    "    d2 = d1 - sigma_p\n",
    "    if type == \"call\":\n",
    "        price = p_U*ndtr(d1) - p_T*K*ndtr(d2)\n",
    "    elif type == \"put\":\n",
    "        price = p_T*K*ndtr(-d2) - p_U*ndtr(-d1)\n",
    "    return price\n",
    "\n",
    "#Example: Not right now"
   ]
  },
  {
   "cell_type": "markdown",
   "metadata": {},
   "source": [
    "Calculate the following (from slides):\n",
    "\"We would like to price a European call optioon with strike $K$ and maturity $T_1$ on an underlying zero coupon bond with maturity $T_2$.\n",
    "\n",
    "In the notation of the previous discussion, we have that $T=T_1$, $S(t)=p(t,T_2)$ and must use $p(t,T_1)$ as numeraire\" \n",
    "\n",
    "Input:\n",
    "\n",
    "\\begin{equation*}\n",
    "\\begin{aligned}\n",
    "K&=\\text{strike price} \\\\\n",
    "U&=T_{1} \\\\\n",
    "T&=T_{2} \\\\\n",
    "p_{T}&=p(0,T_{2}) \\\\\n",
    "p_{U}&=p(0,T_{1})\n",
    "\\end{aligned}\n",
    "\\end{equation*}\n",
    "\n",
    "Output: The price of the European call option\n",
    "\n",
    "Formula: Using the notation from slides and rewriting, we get:\n",
    "\n",
    "\\begin{equation*}\n",
    "\\begin{aligned}\n",
    "\\text{Call: }\\Pi(0;\\chi)&=p(0,T_{2})\\Phi(d_{1})-Kp(0,T_{1})\\Phi(d_{2}) \\\\\n",
    "\n",
    "\\text{Put: }\\Pi(0;\\chi)&=p(0,T_{1})K\\Phi(-d_{2})-p(0,T_{2})\\Phi(-d_{1}) \\\\\n",
    "\n",
    "d_{1} &=\\frac{\\ln\\left(\\frac{p(0,T_{2})}{Kp(0,T_{1})}\\right)+\\frac{1}{2}\\Sigma^{2}}{\\sqrt{\\Sigma^{2}}}=\\frac{\\ln\\left(\\frac{p(0,T_{2})}{Kp(0,T_{1})}\\right)}{\\Sigma}+\\frac{1}{2}\\Sigma\\quad\\text{and}\\quad d_{2}=d_{1}-\\sqrt{\\Sigma^{2}}=d_{1}-\\Sigma \\\\\n",
    "\n",
    "\\Sigma^{2}&=\\frac{\\sigma^{2}}{2a^{3}}\\left[1-e^{2aT_{1}}\\right]\\cdot\\left[1-e^{-a(T_{2}-T_{1})}\\right]^{2}\\Leftrightarrow \\\\\n",
    "\n",
    "\\Sigma &=\\frac{\\sigma}{a}\\cdot\\left[1-e^{-a(T_{2}-T_{1})}\\right]\\sqrt{\\frac{1}{2a}\\left[1-e^{2aT_{1}}\\right]}\n",
    "\\end{aligned}\n",
    "\\end{equation*}\n",
    "\n",
    "Here, $\\Phi$ is the cumulative distribution of the standard normal distribution, and we use the scipy Python function 'ndtr' to calculate this."
   ]
  },
  {
   "cell_type": "markdown",
   "metadata": {},
   "source": [
    "#### Fit vasicek object (calculate squared errors)"
   ]
  },
  {
   "cell_type": "code",
   "execution_count": null,
   "metadata": {},
   "outputs": [],
   "source": [
    "def fit_vasicek_obj(param,R_star,T,scaling = 1):\n",
    "    r0, a, b, sigma = param\n",
    "    M = len(T)\n",
    "    R_fit = spot_rate_vasicek(r0,a,b,sigma,T)\n",
    "    y = 0\n",
    "    for m in range(0,M):\n",
    "        y += scaling*(R_fit[m] - R_star[m])**2\n",
    "    return y"
   ]
  },
  {
   "cell_type": "markdown",
   "metadata": {},
   "source": [
    "The functions simply returns the squared errors of between a fitted model and actual data. It is used to optimize the parameters of our vasicek model so it fits to real data.\n",
    "\n",
    "Input:\n",
    "\n",
    "\\begin{equation*}\n",
    "\\begin{aligned}\n",
    "\\text{param}&=\\text{Parameters that we want to optimize over} \\\\\n",
    "\n",
    "\\text{R\\_star}&=\\text{Actual data we need to fit our model over} \\\\\n",
    "\n",
    "T&=\\text{Time to maturity} \\\\\n",
    "\n",
    "\\text{scaling}&=\\text{We might want to scale our data if errors are too small or too large for the optimizer}\n",
    "\\end{aligned}\n",
    "\\end{equation*}\n",
    "\n",
    "Output: Squared errors (scaled if needed)"
   ]
  },
  {
   "cell_type": "code",
   "execution_count": null,
   "metadata": {},
   "outputs": [],
   "source": [
    "def fit_vasicek_no_sigma_obj(param,sigma,R_star,T,scaling = 1):\n",
    "    r0, a, b = param\n",
    "    M = len(T)\n",
    "    R_fit = spot_rate_vasicek(r0,a,b,sigma,T)\n",
    "    y = 0\n",
    "    for m in range(0,M):\n",
    "        y += scaling*(R_fit[m] - R_star[m])**2\n",
    "    return y"
   ]
  },
  {
   "cell_type": "markdown",
   "metadata": {},
   "source": [
    "Same as above, just without $\\sigma$"
   ]
  },
  {
   "cell_type": "markdown",
   "metadata": {},
   "source": [
    "#### ZCB for Cox-Ingersoll-Ross model\n",
    "The following models are essentially the same as above, and I will therefore only provide the formulas. Remember that the CIR model has the following dynamics:\n",
    "\n",
    "\\begin{equation*}\n",
    "dr_{t}=(b-ar_{t})dt+\\sigma\\sqrt{r_{t}}dB_{t}\n",
    "\\end{equation*}"
   ]
  },
  {
   "cell_type": "code",
   "execution_count": null,
   "metadata": {},
   "outputs": [],
   "source": [
    "def zcb_price_cir(r0,a,b,sigma,tau):\n",
    "    if type(tau) == int or type(tau) == float or type(tau) == np.float64:\n",
    "        gamma = np.sqrt(a**2+2*sigma**2)\n",
    "        D = (gamma+a)*(np.exp(gamma*tau)-1)+2*gamma\n",
    "        A = ((2*gamma*np.exp(0.5*tau*(a+gamma)))/D)**((2*a*b)/(sigma**2))\n",
    "        B = 2*(np.exp(gamma*tau)-1)/D\n",
    "        p = A*np.exp(-r0*B)\n",
    "    elif type(tau) == tuple or type(tau) == list or type(tau) == np.ndarray:\n",
    "        M = len(tau)\n",
    "        p = np.zeros([M])\n",
    "        for i in range(0,M):\n",
    "            gamma = np.sqrt(a**2+2*sigma**2)\n",
    "            D = (gamma+a)*(np.exp(gamma*tau[i])-1)+2*gamma\n",
    "            A = ((2*gamma*np.exp(0.5*tau[i]*(a+gamma)))/D)**((2*a*b)/(sigma**2))\n",
    "            B = 2*(np.exp(gamma*tau[i])-1)/D\n",
    "            p[i] = A*np.exp(-r0*B)\n",
    "    else:\n",
    "        print(f\"tau not a recognized type\")\n",
    "        p = False\n",
    "    return p"
   ]
  },
  {
   "cell_type": "markdown",
   "metadata": {},
   "source": [
    "Formula:\n",
    "\n",
    "\\begin{equation*}\n",
    "\\begin{aligned}\n",
    "p(t,T)&=A_{0}(T-t)e^{-B(T-t)r} \\\\\n",
    "\\end{aligned}\n",
    "\\end{equation*}\n",
    "\n",
    "where\n",
    "\n",
    "\\begin{equation*}\n",
    "\\begin{aligned}\n",
    "A_{0}(T-t)&=\\left[\\frac{2\\gamma\\exp\\left(\\frac{(T-t)(a+\\gamma)}{2}\\right)}{D}\\right]^{\\frac{2ab}{\\sigma^{2}}} \\\\\n",
    "\n",
    "B(T-t)&=\\frac{2\\left(\\exp[\\gamma(T-t)]-1\\right)}{D} \\\\\n",
    "\n",
    "D&=(\\gamma+a)\\left(\\exp[\\gamma(T-t)]-1\\right)+2\\gamma \\\\\n",
    "\\gamma&=\\sqrt{a^{2}+2\\sigma^{2}}\n",
    "\\end{aligned}\n",
    "\\end{equation*}\n"
   ]
  },
  {
   "cell_type": "markdown",
   "metadata": {},
   "source": [
    "#### Spot rate for Cox-Ingersoll-Ross model"
   ]
  },
  {
   "cell_type": "code",
   "execution_count": null,
   "metadata": {},
   "outputs": [],
   "source": [
    "def spot_rate_cir(r0,a,b,sigma,tau):\n",
    "    if type(tau) == int or type(tau) == float:\n",
    "        if tau < 1e-6:\n",
    "            r = 0\n",
    "        else:\n",
    "            gamma = np.sqrt(a**2+2*sigma**2)\n",
    "            D = (gamma+a)*(np.exp(gamma*tau)-1)+2*gamma\n",
    "            A = ((2*gamma*np.exp(0.5*tau*(a+gamma)))/D)**((2*a*b)/(sigma**2))\n",
    "            B = 2*(np.exp(gamma*tau)-1)/D\n",
    "            r = (-np.log(A)+r0*B)/(tau)\n",
    "    elif type(tau) == tuple or type(tau) == list or type(tau) == np.ndarray:\n",
    "        M = len(tau)\n",
    "        r = np.zeros([M])\n",
    "        for i in range(0,M):\n",
    "            if tau[i] < 1e-6:\n",
    "                r[i] = 0\n",
    "            else:\n",
    "                gamma = np.sqrt(a**2+2*sigma**2)\n",
    "                D = (gamma+a)*(np.exp(gamma*tau[i])-1)+2*gamma\n",
    "                A = ((2*gamma*np.exp(0.5*tau[i]*(a+gamma)))/D)**((2*a*b)/(sigma**2))\n",
    "                B = 2*(np.exp(gamma*tau[i])-1)/D\n",
    "                r[i] = (-np.log(A)+r0*B)/(tau[i])\n",
    "    else:\n",
    "        print(f\"tau not a recognized type\")\n",
    "        r = False\n",
    "    return r"
   ]
  },
  {
   "cell_type": "markdown",
   "metadata": {},
   "source": [
    "Formula:\n",
    "\n",
    "\\begin{equation*}\n",
    "R(t,T)=\\frac{-\\log A_{0}+rB}{T-t}\n",
    "\\end{equation*}\n",
    "\n",
    "where $A_{0}$ and $B$ are the same as above."
   ]
  },
  {
   "cell_type": "markdown",
   "metadata": {},
   "source": [
    "#### Forward rate for Cox-Ingersoll-Ross model"
   ]
  },
  {
   "cell_type": "code",
   "execution_count": null,
   "metadata": {},
   "outputs": [],
   "source": [
    "def forward_rate_cir(r0,a,b,sigma,tau):\n",
    "    if type(tau) == int or type(tau) == float:\n",
    "        if tau < 1e-6:\n",
    "            f = 0\n",
    "        else:\n",
    "            c = (2*a*b)/(sigma**2)\n",
    "            gamma = np.sqrt(a**2+2*sigma**2)\n",
    "            N = 2*gamma*np.exp(0.5*tau*(a+gamma))\n",
    "            N_T = gamma*(gamma+a)*np.exp(0.5*tau*(a+gamma))\n",
    "            D = (gamma+a)*(np.exp(gamma*tau)-1)+2*gamma\n",
    "            D_T = gamma*(a+gamma)*np.exp(gamma*tau)\n",
    "            M = 2*(np.exp(gamma*tau)-1)\n",
    "            M_T = 2*gamma*np.exp(gamma*tau)\n",
    "            f = c*(-N_T/N+D_T/D)+r0*(M_T*D-M*D_T)/D**2\n",
    "    elif type(tau) == tuple or type(tau) == list or type(tau) == np.ndarray:\n",
    "        N = len(tau)\n",
    "        f = np.zeros([N])\n",
    "        for i in range(0,N):\n",
    "            if tau[i] < 1e-6:\n",
    "                f[i] = 0\n",
    "            else:\n",
    "                c = (2*a*b)/(sigma**2)\n",
    "                gamma = np.sqrt(a**2+2*sigma**2)\n",
    "                N = 2*gamma*np.exp(0.5*tau[i]*(a+gamma))\n",
    "                N_T = gamma*(gamma+a)*np.exp(0.5*tau[i]*(a+gamma))\n",
    "                D = (gamma+a)*(np.exp(gamma*tau[i])-1)+2*gamma\n",
    "                D_T = gamma*(a+gamma)*np.exp(gamma*tau[i])\n",
    "                M = 2*(np.exp(gamma*tau[i])-1)\n",
    "                M_T = 2*gamma*np.exp(gamma*tau[i])\n",
    "                f[i] = c*(-N_T/N+D_T/D)+r0*(M_T*D-M*D_T)/D**2\n",
    "    else:\n",
    "        print(f\"tau not a recognized type\")\n",
    "        f = False\n",
    "    return f"
   ]
  },
  {
   "cell_type": "markdown",
   "metadata": {},
   "source": [
    "Formula:\n",
    "\n",
    "\\begin{equation*}\n",
    "\\begin{aligned}\n",
    "f(t,T)=c\\left(-\\frac{N_{t}}{N}+\\frac{D_{t}}{D}\\right)+rB_{t}\n",
    "\\end{aligned}\n",
    "\\end{equation*}\n",
    "\n",
    "where\n",
    "\n",
    "\\begin{equation*}\n",
    "\\begin{aligned}\n",
    "N_{t}&=\\gamma(a+\\gamma)\\cdot\\exp\\left(\\frac{(T-t)(a+\\gamma)}{2}\\right) \\\\\n",
    "\n",
    "N&=2\\gamma\\cdot\\exp\\left(\\frac{(T-t)(a+\\gamma)}{2}\\right) \\\\\n",
    "\n",
    "D_{t}&=\\gamma(\\gamma+a)\\cdot\\exp(\\gamma(T-t)) \\\\\n",
    "\n",
    "D&=(\\gamma+a)\\left(\\exp[\\gamma(T-t)]-1\\right)+2\\gamma \\\\\n",
    "\n",
    "B_{T}&=\\frac{M_{T}D-MD_{T}}{D^{2}} \\\\\n",
    "\n",
    "c&=\\frac{2ab}{\\sigma^{2}} \\\\\n",
    "\\end{aligned}\n",
    "\\end{equation*}\n",
    "\n",
    "Niether $c$ or $N$ are defined in the slides."
   ]
  },
  {
   "cell_type": "markdown",
   "metadata": {},
   "source": [
    "#### Confidence intervals for Cox-Ingersoll-Ross"
   ]
  },
  {
   "cell_type": "code",
   "execution_count": null,
   "metadata": {},
   "outputs": [],
   "source": [
    "def ci_cir(r0,a,b,sigma,tau,size_ci,method = \"two_sided\"):\n",
    "    if type(tau) == int or type(tau) == float:\n",
    "        if method == \"lower\":\n",
    "            if tau < 1e-6:\n",
    "                lb, ub = np.nan, np.nan\n",
    "            else:\n",
    "                df = (4*a*b)/sigma**2\n",
    "                nc = (4*a*np.exp(-a*tau)*r0)/(sigma**2*(1-np.exp(-a*tau)))\n",
    "                scaling = (4*a)/(sigma**2*(1-np.exp(-a*tau)))\n",
    "                lb, ub = ncx2.ppf(1-size_ci,df,nc)/scaling, np.inf\n",
    "        elif method == \"upper\":\n",
    "            if tau < 1e-6:\n",
    "                lb, ub = np.nan, np.nan\n",
    "            else:\n",
    "                df = (4*a*b)/sigma**2\n",
    "                nc = (4*a*np.exp(-a*tau)*r0)/(sigma**2*(1-np.exp(-a*tau)))\n",
    "                scaling = (4*a)/(sigma**2*(1-np.exp(-a*tau)))\n",
    "                lb, ub = 0, ncx2.ppf(size_ci,df,nc)/scaling\n",
    "        elif method == \"two_sided\":\n",
    "            if tau < 1e-6:\n",
    "                lb, ub = np.nan, np.nan\n",
    "            else:\n",
    "                df = (4*a*b)/sigma**2\n",
    "                nc = (4*a*np.exp(-a*tau)*r0)/(sigma**2*(1-np.exp(-a*tau)))\n",
    "                scaling = (4*a)/(sigma**2*(1-np.exp(-a*tau)))\n",
    "                lb, ub = ncx2.ppf((1-size_ci)/2,df,nc)/scaling, ncx2.ppf(size_ci+(1-size_ci)/2,df,nc)/scaling\n",
    "    elif type(tau) == tuple or type(tau) == list or type(tau) == np.ndarray:\n",
    "        N = len(tau)\n",
    "        lb, ub = np.zeros([N]), np.zeros([N])\n",
    "        if method == \"lower\":\n",
    "            for i in range(0,N):\n",
    "                if tau[i] < 1e-6:\n",
    "                    lb[i], ub[i] = np.nan, np.nan\n",
    "                else:\n",
    "                    df = (4*a*b)/sigma**2\n",
    "                    nc = (4*a*np.exp(-a*tau[i])*r0)/(sigma**2*(1-np.exp(-a*tau[i])))\n",
    "                    scaling = (4*a)/(sigma**2*(1-np.exp(-a*tau[i])))\n",
    "                    lb[i], ub[i] = ncx2.ppf(1-size_ci,df,nc)/scaling, np.inf\n",
    "        elif method == \"upper\":\n",
    "            for i in range(0,N):\n",
    "                if tau[i] < 1e-6:\n",
    "                    lb[i], ub[i] = np.nan, np.nan\n",
    "                else:\n",
    "                    df = (4*a*b)/sigma**2\n",
    "                    nc = (4*a*np.exp(-a*tau[i])*r0)/(sigma**2*(1-np.exp(-a*tau[i])))\n",
    "                    scaling = (4*a)/(sigma**2*(1-np.exp(-a*tau[i])))\n",
    "                    lb[i], ub[i] = 0, ncx2.ppf(size_ci,df,nc)/scaling\n",
    "        elif method == \"two_sided\":\n",
    "            for i in range(0,N):\n",
    "                if tau[i] < 1e-6:\n",
    "                    lb[i], ub[i] = np.nan, np.nan\n",
    "                else:\n",
    "                    df = (4*a*b)/sigma**2\n",
    "                    nc = (4*a*np.exp(-a*tau[i])*r0)/(sigma**2*(1-np.exp(-a*tau[i])))\n",
    "                    scaling = (4*a)/(sigma**2*(1-np.exp(-a*tau[i])))\n",
    "                    lb[i], ub[i] = ncx2.ppf((1-size_ci)/2,df,nc)/scaling, ncx2.ppf(size_ci+(1-size_ci)/2,df,nc)/scaling\n",
    "                    # (4*b)/(sigma**2*(1-np.exp(-b*tau[i])))*\n",
    "    else:\n",
    "        print(f\"tau not a recognized type\")\n",
    "        lb,ub = False, False\n",
    "    return lb, ub"
   ]
  },
  {
   "cell_type": "markdown",
   "metadata": {},
   "source": [
    "To calculate the confidence intervals for the CIR model, we use a noncentral chi-squared distribution (it's easy to see...). \n",
    "\n",
    "\\begin{equation*}\n",
    "\\begin{aligned}\n",
    "\\text{df}&=\\frac{4ab}{\\sigma^{2}} \\\\\n",
    "\n",
    "\\text{nc}&=\\frac{4a\\exp(-a(T-t)r)}{\\sigma^{2}(1-\\exp[-a(T-t)])} \\\\\n",
    "\n",
    "\\text{scaling}&=\\frac{4a}{\\sigma^{2}(1-\\exp[-a(T-t)])}\n",
    "\\end{aligned}\n",
    "\\end{equation*}\n",
    "\n",
    "Now we can calculate the upper and lower bounds using the Percent point function (inverse of cdf — percentiles):\n",
    "\n",
    "\\begin{equation*}\n",
    "lb=\\frac{Q(\\frac{1-0.95}{2},\\text{df},\\text{nc})}{\\text{scaling}},ub=\\frac{Q(0.95+\\frac{1-0.95}{2},\\text{df},\\text{nc})}{\\text{scaling}}\n",
    "\\end{equation*}"
   ]
  },
  {
   "cell_type": "markdown",
   "metadata": {},
   "source": [
    "#### Fit Cox-Ingersoll-Ross object (calculate squared errors)\n",
    "See the fit for vasicek. The procedure is exactly the same."
   ]
  },
  {
   "cell_type": "code",
   "execution_count": null,
   "metadata": {},
   "outputs": [],
   "source": [
    "def fit_cir_obj(param,R_star,T,scaling = 1):\n",
    "    r0, a, b, sigma = param\n",
    "    M = len(T)\n",
    "    R_fit = spot_rate_cir(r0,a,b,sigma,T)\n",
    "    y = 0\n",
    "    for m in range(0,M):\n",
    "        y += scaling*(R_fit[m] - R_star[m])**2\n",
    "    return y\n",
    "\n",
    "def fit_cir_no_sigma_obj(param,sigma,R_star,T,scaling = 1):\n",
    "    r0, a, b = param\n",
    "    M = len(T)\n",
    "    R_fit = spot_rate_cir(r0,a,b,sigma,T)\n",
    "    y = 0\n",
    "    for m in range(0,M):\n",
    "        y += scaling*(R_fit[m] - R_star[m])**2\n",
    "    return y"
   ]
  },
  {
   "cell_type": "markdown",
   "metadata": {},
   "source": [
    "#### Simulation of the short rate"
   ]
  },
  {
   "cell_type": "code",
   "execution_count": 11,
   "metadata": {},
   "outputs": [
    {
     "data": {
      "text/plain": [
       "[<matplotlib.lines.Line2D at 0x2212c25f970>]"
      ]
     },
     "execution_count": 11,
     "metadata": {},
     "output_type": "execute_result"
    },
    {
     "data": {
      "image/png": "[encoded data removed]",
      "text/plain": [
       "<Figure size 500x300 with 1 Axes>"
      ]
     },
     "metadata": {},
     "output_type": "display_data"
    }
   ],
   "source": [
    "def short_rate_simul(r0,param,M,T,method = \"vasicek\"):\n",
    "    r = np.zeros([M+1])\n",
    "    r[0] = r0\n",
    "    delta = T/M\n",
    "    if method == \"vasicek\":\n",
    "        a, b, sigma = param\n",
    "        delta_sqrt = np.sqrt(delta)\n",
    "        Z = np.random.standard_normal(M)\n",
    "        for m in range(1,M+1):\n",
    "            r[m] = r[m-1] + (b-a*r[m-1])*delta + sigma*delta_sqrt*Z[m-1]\n",
    "    elif method == \"cir\":\n",
    "        a, b, sigma = param\n",
    "        Z = np.random.standard_normal(M)\n",
    "        for m in range(1,M+1):\n",
    "            r[m] = r[m-1] + a*(b-r[m-1])*delta + sigma*np.sqrt(delta*r[m-1])*Z[m-1]\n",
    "    elif method == \"ho_lee_ns\":\n",
    "        f_inf, a, b, sigma = param\n",
    "        Z = np.random.standard_normal(M)\n",
    "        for m in range(1,M+1):\n",
    "            param_theta = (f_inf, a, b, sigma)\n",
    "            theta = fid.theta_ns(param_theta,m*delta)\n",
    "            r[m] = r[m-1] + theta*delta + sigma*np.sqrt(delta*r[m-1])*Z[m-1]\n",
    "    return r\n",
    "\n",
    "#Example:\n",
    "# a, b, sigma = 0.5, 0.025, 0.02\n",
    "param = 0.5, 0.025, 0.02\n",
    "\n",
    "r0 = 0.025\n",
    "\n",
    "T = 10\n",
    "M = 4000\n",
    "\n",
    "simul = short_rate_simul(r0,param,M,T,method=\"cir\")\n",
    "\n",
    "plt.figure(figsize=(5, 3))\n",
    "plt.plot(simul)\n",
    "\n",
    "#NOTE: \"ho_lee_ns\" option does not work since I don't know how the Nelson-Siegel functions work"
   ]
  },
  {
   "cell_type": "markdown",
   "metadata": {},
   "source": [
    "Vasicek:\n",
    "\\begin{equation*}\n",
    "dr_{t} = (b - a r_{t})dt + \\sigma \\sqrt{r_{t}} dB_{t}\n",
    "\\end{equation*}\n",
    "\n",
    "Cox-Ingersoll-Ross (CIR) Model:\n",
    "\\begin{equation*}\n",
    "dr_{t} = a(b - r_{t})dt + \\sigma\\sqrt{r_{t}}dB_{t}\n",
    "\\end{equation*}\n",
    "\n",
    "Hull-White Model with Nelson-Siegel term structure:\n",
    "\\begin{equation*}\n",
    "dr_{t} = \\Theta(t)dt + \\sigma\\sqrt{r_{t}}dB_{t}\n",
    "\\end{equation*}\n",
    "\n",
    "Now the question is, how do we fit $\\Theta$? Currently, I do not understand"
   ]
  },
  {
   "cell_type": "markdown",
   "metadata": {},
   "source": [
    "#### Black's formula to calculate the Black Schole price"
   ]
  },
  {
   "cell_type": "code",
   "execution_count": null,
   "metadata": {},
   "outputs": [],
   "source": [
    "def bs_price(S, K, T, r, sigma, type = \"call\"):\n",
    "    # S: spot price\n",
    "    # K: strike price\n",
    "    # T: time to maturity\n",
    "    # r: interest rate\n",
    "    # sigma: volatility of underlying asset\n",
    "    d1 = (np.log(S/K) + (r + 0.5*sigma**2)*T)/(sigma*np.sqrt(T))\n",
    "    d2 = (np.log(S/K) + (r - 0.5*sigma**2)*T)/(sigma*np.sqrt(T))\n",
    "    if type == 'put':\n",
    "        price = K*np.exp(-r*T)*ndtr(-d2) - S*ndtr(-d1)\n",
    "    else:\n",
    "        price = S*ndtr(d1)-K*np.exp(-r*T)*ndtr(d2)\n",
    "    return price"
   ]
  },
  {
   "cell_type": "markdown",
   "metadata": {},
   "source": [
    "Input:\n",
    "\n",
    "\\begin{equation*}\n",
    "\\begin{aligned}\n",
    "\\text{S}&=\\text{spot price} \\\\\n",
    "\n",
    "\\text{K}&=\\text{strike price}\\\\\n",
    "\n",
    "\\text{T}&=\\text{time to maturity}\\\\\n",
    "\n",
    "\\text{r}&=\\text{interest rate}\\\\\n",
    "\n",
    "\\sigma&=\\text{volatility of underlying asset}\n",
    "\\end{aligned}\n",
    "\\end{equation*}\n",
    "\n",
    "Output: Price\n",
    "\n",
    "Formulas are derived in Linderstrøm (2013):\n",
    "\n",
    "\\begin{equation*}\n",
    "\\begin{aligned}\n",
    "\\text{Put: }p(t,T)&=K\\exp(-r(T-t))\\cdot\\Phi(-d_{2})-S\\cdot\\Phi(-d_{1}) \\\\\n",
    "\n",
    "\\text{Call: }p(t,T)&=S\\Phi(d_{1})-K\\exp(-r(T-t))\\cdot\\Phi(d_{2}) \\\\\n",
    "\n",
    "d_{1}&=\\frac{\\log\\frac{S}{K}+(r+\\frac{1}{2}\\sigma^{2})\\cdot(T-t)}{\\sigma\\sqrt{T-t}} \\\\\n",
    "\n",
    "d_{2}&=\\frac{\\log\\frac{S}{K}+(r-\\frac{1}{2}\\sigma^{2})\\cdot(T-t)}{\\sigma\\sqrt{T-t}}=d_{1}-\\sigma\\sqrt{T-t}\n",
    "\\end{aligned}\n",
    "\\end{equation*}"
   ]
  },
  {
   "cell_type": "markdown",
   "metadata": {},
   "source": [
    "#### Black's vega"
   ]
  },
  {
   "cell_type": "code",
   "execution_count": null,
   "metadata": {},
   "outputs": [],
   "source": [
    "def bs_vega(S, K, T, r, sigma,type = \"call\"):\n",
    "    if type == \"call\":\n",
    "        d1 = (np.log(S / K) + (r + 0.5 * sigma ** 2) * T) / (sigma * np.sqrt(T))\n",
    "        vega = S*norm.pdf(d1) * np.sqrt(T)\n",
    "    return vega"
   ]
  },
  {
   "cell_type": "markdown",
   "metadata": {},
   "source": [
    "Input: Same as above, but we can only use call options for some reason\n",
    "\n",
    "Output: Vega. Per Linderstrøm (2013): \"The sensitivity towards changes in implied volatilty is known as vega.\n",
    "\n",
    "Formula (almost same as 5.19 in Linderstrøm, can't find in slides...):\n",
    "\n",
    "\\begin{equation*}\n",
    "\\text{vega}_{t}^{\\text{black}}=S\\phi(d_{1})\\cdot\\sqrt{T-t}\n",
    "\\end{equation*}\n",
    "\n",
    "where $\\phi$ is the standard normal density."
   ]
  },
  {
   "cell_type": "markdown",
   "metadata": {},
   "source": [
    "#### Black's implied volatility"
   ]
  },
  {
   "cell_type": "code",
   "execution_count": null,
   "metadata": {},
   "outputs": [],
   "source": [
    "def bs_iv(C, S, K, T, r, iv0 = 0.2, max_iter = 200, prec = 1.0e-5):\n",
    "    # Impleid Black-Scholes volatility from call otion prices\n",
    "    iv = iv0\n",
    "    for i in range(0,max_iter):\n",
    "        price = bs_price(S, K, T, r, iv, type)\n",
    "        vega = bs_vega(S, K, T, r, iv)\n",
    "        diff = C - price\n",
    "        if abs(diff) < prec:\n",
    "            return iv\n",
    "        iv += diff/vega  # f(x) / f'(x)\n",
    "    return iv"
   ]
  },
  {
   "cell_type": "markdown",
   "metadata": {},
   "source": [
    "The idea is to calculate the volatility when we have the price of an option, instead of calculating the price when we have the volatility as above. We use the two functions above to iteratively find the implied volatility.\n",
    "\n",
    "Input: \n",
    "\n",
    "\\begin{equation*}\n",
    "\\begin{aligned}\n",
    "\\text{C}&=\\text{Call option price} \\\\\n",
    "\n",
    "\\text{S}&=\\text{spot price} \\\\\n",
    "\n",
    "\\text{K}&=\\text{strike price} \\\\\n",
    "\n",
    "\\text{T}&=\\text{time to maturity, in this case, the time to strike} \\\\\n",
    "\n",
    "\\text{r}&=\\text{interest rate} \\\\\n",
    "\n",
    "\\text{max\\_iter}&=\\text{Maximum number of iterations of the algorithm} \\\\\n",
    "\n",
    "\\text{prec}&=\\text{Tolerance}\n",
    "\\end{aligned}\n",
    "\\end{equation*}\n",
    "\n",
    "Output: Implied volatility."
   ]
  },
  {
   "cell_type": "markdown",
   "metadata": {},
   "source": [
    "#### Black caplet price"
   ]
  },
  {
   "cell_type": "code",
   "execution_count": null,
   "metadata": {},
   "outputs": [],
   "source": [
    "def black_caplet_price(sigma,T,R,alpha,p,L,type = \"call\"):\n",
    "    d1 = (np.log(L/R) + 0.5*sigma**2*(T-alpha))/(sigma*np.sqrt(T-alpha))\n",
    "    d2 = (np.log(L/R) - 0.5*sigma**2*(T-alpha))/(sigma*np.sqrt(T-alpha))\n",
    "    if type == 'put':\n",
    "        price = alpha*p*(R*ndtr(-d2) - L*ndtr(-d1))\n",
    "    else:\n",
    "        price = alpha*p*(L*ndtr(d1) - R*ndtr(d2))\n",
    "    return price"
   ]
  },
  {
   "cell_type": "markdown",
   "metadata": {},
   "source": []
  },
  {
   "cell_type": "markdown",
   "metadata": {},
   "source": [
    "Input:\n",
    "\n",
    "\\begin{equation*}\n",
    "\\begin{aligned}\n",
    "\\sigma&=\\text{volatility of underlying asset} \\\\\n",
    "\n",
    "\\text{T}&=\\text{time to maturity, in this case, the time to strike} \\\\\n",
    "\n",
    "\\text{R}&=\\text{Cap rate} \\\\\n",
    "\n",
    "\\alpha&=\\text{Time between two maturities} \\\\\n",
    "\n",
    "\\text{p}&=\\text{ZCB price} \\\\\n",
    "\n",
    "\\text{L}&=\\text{The forward rate} \\\\\n",
    "\\end{aligned}\n",
    "\\end{equation*}\n",
    "\n",
    "Output: Caplet price\n",
    "\n",
    "Formula (slide VII, 6/36):\n",
    "\n",
    "\\begin{equation*}\n",
    "\\begin{aligned}\n",
    "\\text{Capl}_{i}^{\\text{Black}}(t)&=\\alpha_{i}\\cdot p_{i}(t)\\left[L_{i}(t)\\Phi(d_{1})-R\\Phi(d_{2})\\right] \\\\\n",
    "\n",
    "d_{1}&=\\frac{1}{\\sigma_{i}\\sqrt{T-t}}\\left[\\ln\\left(\\frac{L_{i}(t)}{R}\\right)+\\frac{1}{2}\\sigma_{i}^{2}(T-t)\\right] \\\\\n",
    "\n",
    "d_{2}&=d_{1}-\\sigma_{i}\\sqrt{T-t} \\\\\n",
    "\\end{aligned}\n",
    "\\end{equation*}\n",
    "\n",
    "Again, $\\Phi$ is the standard nomral distribution function"
   ]
  },
  {
   "cell_type": "markdown",
   "metadata": {},
   "source": [
    "#### Caplet delta"
   ]
  },
  {
   "cell_type": "code",
   "execution_count": null,
   "metadata": {},
   "outputs": [],
   "source": [
    "def black_caplet_delta(sigma,T,R,alpha,p,L,type = \"call\"):\n",
    "    d1 = (np.log(L/R) + 0.5*sigma**2*T)/(sigma*np.sqrt(T))\n",
    "    d2 = (np.log(L/R) - 0.5*sigma**2*(T-alpha))/(sigma*np.sqrt(T-alpha))\n",
    "    if type == \"call\":\n",
    "        # p_prev = p*(1+alpha*L)\n",
    "        price = alpha*p*(L*ndtr(d1) - R*ndtr(d2))\n",
    "        delta = alpha*p*ndtr(d1) - alpha/(1+alpha*L)*price\n",
    "    return delta"
   ]
  },
  {
   "cell_type": "markdown",
   "metadata": {},
   "source": [
    "Same as above, but now we include the following formula for the caplet delta (slide XI, 9/48):\n",
    "\n",
    "\\begin{equation*}\n",
    "\\Delta=\\alpha_{i}p_{i}(t)\\left[\\Phi(d_{1})-\\frac{\\alpha_{i}}{1+\\alpha_{i}L_{i}(t)}\\text{Capl}_{i}^{\\text{Black}}\\right]\n",
    "\\end{equation*}"
   ]
  },
  {
   "cell_type": "markdown",
   "metadata": {},
   "source": [
    "#### Caplet gamma"
   ]
  },
  {
   "cell_type": "code",
   "execution_count": null,
   "metadata": {},
   "outputs": [],
   "source": [
    "def black_caplet_gamma(sigma,T,R,alpha,p,L,type = \"call\"):\n",
    "    d1 = (np.log(L/R) + 0.5*sigma**2*T)/(sigma*np.sqrt(T))\n",
    "    d2 = (np.log(L/R) - 0.5*sigma**2*(T-alpha))/(sigma*np.sqrt(T-alpha))\n",
    "    if type == \"call\":\n",
    "        gamma = alpha*p*(norm.pdf(d1)/(L*sigma*np.sqrt(T-alpha))-(2*alpha)/((1+alpha*L)**2)*(alpha*R*ndtr(d2) + ndtr(d1)))\n",
    "    return gamma"
   ]
  },
  {
   "cell_type": "markdown",
   "metadata": {},
   "source": [
    "Same as above, we just include the caplet gamma (slide XI, 11/48):\n",
    "\n",
    "\\begin{equation*}\n",
    "\\Gamma=\\alpha_{i}p_{i}(t)\\left[\\frac{\\phi(d_{1})}{L_{i}(t)\\sigma_{i}\\sqrt{T_{i-1}-t}}-\\frac{2\\alpha_{i}}{(1+\\alpha_{i}L_{i}(t))^{2}}\\left(\\alpha_{i}R\\Phi(d_{2})+\\Phi(d_{1})\\right)\\right]\n",
    "\\end{equation*}"
   ]
  },
  {
   "cell_type": "markdown",
   "metadata": {},
   "source": [
    "#### Caplet vega"
   ]
  },
  {
   "cell_type": "code",
   "execution_count": null,
   "metadata": {},
   "outputs": [],
   "source": [
    "def black_caplet_vega(sigma,T,R,alpha,p,L,type = \"call\"):\n",
    "    if type == \"call\":\n",
    "        d1 = (np.log(L/R) + 0.5*sigma**2*T)/(sigma*np.sqrt(T))\n",
    "        vega = alpha*p*L*norm.pdf(d1) * np.sqrt(T)\n",
    "    return vega"
   ]
  },
  {
   "cell_type": "markdown",
   "metadata": {},
   "source": [
    "Input same as above. Same as black vega, just using a slightly different function (slide XI, 13/48):\n",
    "\n",
    "\\begin{equation*}\n",
    "\\nu=\\frac{\\partial\\text{Capl}_{i}^{\\text{Black}}}{\\partial\\sigma_{i}}=\\alpha_{i}p_{i}(t)L_{i}(t)\\sqrt{T_{i-1}-t}\\phi(d_{2})\n",
    "\\end{equation*}"
   ]
  },
  {
   "cell_type": "markdown",
   "metadata": {},
   "source": [
    "#### Caplet theta:"
   ]
  },
  {
   "cell_type": "code",
   "execution_count": null,
   "metadata": {},
   "outputs": [],
   "source": [
    "def black_caplet_theta(sigma,T,r,R,alpha,p,L,type = \"call\"):\n",
    "    d1 = (np.log(L/R) + 0.5*sigma**2*T)/(sigma*np.sqrt(T))\n",
    "    d2 = (np.log(L/R) - 0.5*sigma**2*(T-alpha))/(sigma*np.sqrt(T-alpha))\n",
    "    price = alpha*p*(L*ndtr(d1) - R*ndtr(d2))\n",
    "    if type == \"call\":\n",
    "        # p_prev = p*(1+alpha*L)\n",
    "        price = alpha*p*(L*ndtr(d1) - R*ndtr(d2))\n",
    "        theta = r*price - alpha*p*(sigma*L*norm.pdf(d1))/(2*np.sqrt(T))\n",
    "    return theta"
   ]
  },
  {
   "cell_type": "markdown",
   "metadata": {},
   "source": [
    "Input: Same as above, however $r$ is also included. This I don't understand, since it's not included in the formula given in slide XI 15/48.\n",
    "\n",
    "Formula:\n",
    "\n",
    "\\begin{equation*}\n",
    "\\Theta=\\frac{\\partial\\text{Capl}_{i}^{\\text{Black}}}{\\partial t}=\\alpha_{i}\\left[L_{i}(t)\\Phi(d_{1})-R\\Phi(d_{2})\\right]\\frac{\\partial}{\\partial t}p_{i}(t)-\\alpha_{i}p_{i}(t)\\frac{\\sigma_{i}\\phi(d_{1})L_{i}(t)}{2\\sqrt{T_{i-1}-t}}\n",
    "\\end{equation*}\n",
    "\n",
    "I simply don't understand why we multiply the price with $r$. Help."
   ]
  },
  {
   "cell_type": "markdown",
   "metadata": {},
   "source": [
    "#### Implied volatility for a black caplet"
   ]
  },
  {
   "cell_type": "code",
   "execution_count": 12,
   "metadata": {},
   "outputs": [],
   "source": [
    "def black_caplet_iv(C,T,R,alpha,p,L, iv0 = 0.2, max_iter = 200, prec = 1.0e-5):\n",
    "    iv = iv0\n",
    "    for i in range(0,max_iter):\n",
    "        price = black_caplet_price(iv,T,R,alpha,p,L,type = \"call\")\n",
    "        vega = black_caplet_vega(iv,T,R,alpha,p,L,type = \"call\")\n",
    "        diff = C - price\n",
    "        if abs(diff) < prec:\n",
    "            return iv\n",
    "        iv += diff/vega\n",
    "    return iv\n"
   ]
  },
  {
   "cell_type": "markdown",
   "metadata": {},
   "source": [
    "Discussed earlier in \"Black's implied volatility\". \n",
    "\n",
    "Inpiit: Again, we just have the price, $C$, instead of the volatility, $\\sigma$."
   ]
  },
  {
   "cell_type": "markdown",
   "metadata": {},
   "source": [
    "#### Black swaption price"
   ]
  },
  {
   "cell_type": "code",
   "execution_count": 13,
   "metadata": {},
   "outputs": [],
   "source": [
    "def black_swaption_price(sigma,T,K,S,R,type = \"call\"):\n",
    "    d1 = (np.log(R/K) + 0.5*sigma**2*T)/(sigma*np.sqrt(T))\n",
    "    d2 = (np.log(R/K) - 0.5*sigma**2*T)/(sigma*np.sqrt(T))\n",
    "    if type == 'put':\n",
    "        price = S*(K*ndtr(-d2) - R*ndtr(d1)) #ERROR: I believe it should be -d1\n",
    "    else:\n",
    "        price = S*(R*ndtr(d1) - K*ndtr(d2))\n",
    "    return price"
   ]
  },
  {
   "cell_type": "markdown",
   "metadata": {},
   "source": [
    "Pretty much nothing new here, so I just write up the formulas that are used:\n",
    "\n",
    "\\begin{equation*}\n",
    "\\begin{aligned}\n",
    "\\text{Put: }\\text{PSN}(t;K)&=S_{n}^{N}(t)\\left[K\\Phi(-d_{2})-R_{n}^{N}(t)\\Phi(d_{1})\\right] \\\\\n",
    "\n",
    "\\text{Call: }\\text{PSN}(t;K)&=S_{n}^{N}(t)\\left[R_{n}^{N}(t)\\Phi(d_{1})-K\\Phi(d_{2})\\right] \\\\\n",
    "\n",
    "d_{1}&=\\frac{1}{\\sigma_{n,N}\\sqrt{T_{n}-t}}\\left[\\ln\\left(\\frac{R_{n}^{N}(t)}{K}\\right)+\\frac{1}{2}\\sigma_{n,N}^{2}(T_{n}-t)\\right] \\\\\n",
    "\n",
    "d_{2}&=d_{1}-\\sigma_{n,N}\\sqrt{T_{n}-t}\n",
    "\\end{aligned}\n",
    "\\end{equation*}\n",
    "\n",
    "The 'Put' swaption price is not given in the slides, so I cannot check if the code is correct."
   ]
  },
  {
   "cell_type": "markdown",
   "metadata": {},
   "source": [
    "#### Black swaption delta"
   ]
  },
  {
   "cell_type": "code",
   "execution_count": null,
   "metadata": {},
   "outputs": [],
   "source": [
    "def black_swaption_delta(sigma,T,K,S,R,type = \"call\"):\n",
    "    d1 = (np.log(R/K) + 0.5*sigma**2*T)/(sigma*np.sqrt(T))\n",
    "    d2 = (np.log(R/K) - 0.5*sigma**2*T)/(sigma*np.sqrt(T))\n",
    "    if type == 'call':\n",
    "        price = S*(R*ndtr(d1) - K*ndtr(d2))\n",
    "        delta = (S/R)*ndtr(d1) - price/R\n",
    "    return delta"
   ]
  },
  {
   "cell_type": "markdown",
   "metadata": {},
   "source": [
    "Formula (not in slides):\n",
    "\n",
    "\\begin{equation*}\n",
    "\\Delta=\\frac{S_{n}^{N}(t)}{R_{n}^{N}}\\Phi(d_{1})-\\frac{1}{R_{n}^{N}}\\text{PSN}(t;K)\n",
    "\\end{equation*}"
   ]
  },
  {
   "cell_type": "markdown",
   "metadata": {},
   "source": [
    "#### Black swaption gamma"
   ]
  },
  {
   "cell_type": "code",
   "execution_count": null,
   "metadata": {},
   "outputs": [],
   "source": [
    "def black_swaption_gamma(sigma,T,K,S,R,type = \"call\"):\n",
    "    d1 = (np.log(R/K) + 0.5*sigma**2*T)/(sigma*np.sqrt(T))\n",
    "    d2 = (np.log(R/K) - 0.5*sigma**2*T)/(sigma*np.sqrt(T))\n",
    "    if type == 'call':\n",
    "        price = S*(R*ndtr(d1) - K*ndtr(d2))\n",
    "        gamma = (2/R**2)*price + (S/R)*(norm.pdf(d1)/(sigma*np.sqrt(T)) - 2*ndtr(d1))\n",
    "    return gamma"
   ]
  },
  {
   "cell_type": "markdown",
   "metadata": {},
   "source": [
    "Formula (not in slides):\n",
    "\n",
    "\\begin{equation*}\n",
    "\\Gamma=\\frac{2}{R^{2}}\\text{PSN}(t;K)+\\frac{S}{R}\\left(\\frac{\\phi(d_{1})}{\\sigma\\sqrt{T-t}}-2\\Phi(d_{1})\\right)\n",
    "\\end{equation*}"
   ]
  },
  {
   "cell_type": "markdown",
   "metadata": {},
   "source": [
    "#### Black swaption vega"
   ]
  },
  {
   "cell_type": "code",
   "execution_count": null,
   "metadata": {},
   "outputs": [],
   "source": [
    "def black_swaption_vega(sigma,T,K,S,R,type = \"call\"):\n",
    "    d1 = (np.log(R/K) + 0.5*sigma**2*T)/(sigma*np.sqrt(T))\n",
    "    if type == 'call':\n",
    "        vega = S*R*norm.pdf(d1) * np.sqrt(T)\n",
    "    return vega"
   ]
  },
  {
   "cell_type": "markdown",
   "metadata": {},
   "source": [
    "Formula (not in slides):\n",
    "\n",
    "\\begin{equation*}\n",
    "\\nu=S\\cdot R\\cdot\\phi(d_{1})\\cdot\\sqrt{T-t}\n",
    "\\end{equation*}\n"
   ]
  },
  {
   "cell_type": "markdown",
   "metadata": {},
   "source": [
    "#### Black swaption implied volatility"
   ]
  },
  {
   "cell_type": "code",
   "execution_count": null,
   "metadata": {},
   "outputs": [],
   "source": [
    "def black_swaption_iv(C,T,K,S,R,type = \"call\", iv0 = 0.2, max_iter = 1000, prec = 1.0e-10):\n",
    "    iv = iv0\n",
    "    for i in range(0,max_iter):\n",
    "        price = black_swaption_price(iv,T,K,S,R,type = \"call\")\n",
    "        vega = black_swaption_vega(iv,T,K,S,R,type = \"call\")\n",
    "        diff = C - price\n",
    "        if abs(diff) < prec:\n",
    "            return iv\n",
    "        iv += diff/vega\n",
    "    return iv"
   ]
  },
  {
   "cell_type": "markdown",
   "metadata": {},
   "source": [
    "#### Simplified black swaption price"
   ]
  },
  {
   "cell_type": "code",
   "execution_count": 14,
   "metadata": {},
   "outputs": [],
   "source": [
    "def black_swaption_smm_price(sigma,K,S,R,type = \"call\"):\n",
    "    # This function computes the black price of a swaption in the SWAP market model\n",
    "    d1 = (np.log(R/K) + 0.5*sigma**2)/sigma\n",
    "    d2 = (np.log(R/K) - 0.5*sigma**2)/sigma\n",
    "    if type == 'put':\n",
    "        price = S*(K*ndtr(-d2) - R*ndtr(d1)) #ERROR: Also -d1 here\n",
    "    else:\n",
    "        price = S*(R*ndtr(d1) - K*ndtr(d2))\n",
    "    return price"
   ]
  },
  {
   "cell_type": "markdown",
   "metadata": {},
   "source": [
    "This function is the same as the black swaption price, except we have set $T = 1$ for simplification. Don't know why"
   ]
  },
  {
   "cell_type": "markdown",
   "metadata": {},
   "source": [
    "#### SABR sigma calculation"
   ]
  },
  {
   "cell_type": "code",
   "execution_count": null,
   "metadata": {},
   "outputs": [],
   "source": [
    "def sigma_sabr(K,T,F_0,sigma_0,beta,upsilon,rho,type = \"call\"):\n",
    "    if abs(F_0-K) < 1e-8:    # SABR ATM formula\n",
    "        sigma = sigma_0*F_0**(beta-1)*(1+(((1-beta)**2/24)*(sigma_0**2*(F_0)**(2*beta-2)) + (rho*beta*upsilon*sigma_0/4)*(F_0)**(beta-1) + (2-3*rho**2)/24*upsilon**2)*T)\n",
    "    else:\n",
    "        z = (upsilon/sigma_0)*(F_0*K)**((1-beta)/2)*np.log(F_0/K)\n",
    "        x = np.log((np.sqrt(1-2*rho*z+z**2) + z - rho)/(1-rho))\n",
    "        D = (F_0*K)**((1-beta)/(2))*(1 + ((1-beta)**2/24)*np.log2(F_0/K) + ((1-beta)**4/1920)*np.emath.logn(4,F_0/K))\n",
    "        # print(z,x,D)\n",
    "        A = 1 + (((1-beta)**2/24)*sigma_0**2*(F_0*K)**(beta-1) + (rho*beta*upsilon*sigma_0/4)*(F_0*K)**((beta-1)/2) + ((2-3*rho**2)/24)*upsilon**2)*T\n",
    "        sigma = (sigma_0/D)*(z/x)*A\n",
    "    return sigma"
   ]
  },
  {
   "cell_type": "markdown",
   "metadata": {},
   "source": [
    "Recall the dynamics of the SABR model:\n",
    "\n",
    "\\begin{equation*}\n",
    "\\begin{aligned}\n",
    "dF_{t}&=\\sigma_{t}^{\\beta}F_{t}dW_{t}^{(1)},\\quad F(0)=F_{0} \\\\\n",
    "\n",
    "d\\sigma_{t}&=\\upsilon\\sigma_{t}dW_{t}^{(2)},\\quad\\sigma(0)=\\sigma_{0} \\\\\n",
    "\n",
    "dW_{t}^{(1)}dW_{t}^{(2)}&=\\rho\n",
    "\\end{aligned}\n",
    "\\end{equation*}\n",
    "\n",
    "where $0\\leq\\beta\\leq1$, $0<\\upsilon$ and $-1<\\rho<1$. Therefore, the SABR model is based on five values: initial values of $F$ and $\\sigma$, $\\beta$, $upsilon$ and $\\rho$. The idea is then to optimize the model by setting $\\beta$, $upsilon$ and $\\rho$ giving the strike price, $K$ and time to maturity $T$ (or so I believe)."
   ]
  },
  {
   "cell_type": "markdown",
   "metadata": {},
   "source": [
    "Input:\n",
    "\n",
    "\\begin{equation*}\n",
    "\\begin{aligned}\n",
    "\\text{K}&=\\text{Strike price} \\\\\n",
    "\n",
    "\\text{T}&=\\text{Time to maturity} \\\\\n",
    "\n",
    "F_{0}&=\\text{Initial forward rate at }t=0 \\\\\n",
    "\n",
    "\\sigma_{0}&=\\text{Intial volatility at time }t=0 \\\\\n",
    "\n",
    "\\beta, \\upsilon, \\rho &= \\text{As stated above}\n",
    "\\end{aligned}\n",
    "\\end{equation*}\n",
    "\n",
    "Output: $\\sigma$ (duh)\n",
    "\n",
    "Formula (slide XI, 39/48):"
   ]
  },
  {
   "cell_type": "markdown",
   "metadata": {},
   "source": [
    "\\begin{equation*}\n",
    "\\begin{aligned}\n",
    "z &= \\frac{\\upsilon}{\\sigma_0} (F_0 K)^{\\frac{1-\\beta}{2}} \\log\\left(\\frac{F_0}{K}\\right) \\\\\n",
    "\n",
    "x &= \\log\\left(\\frac{\\sqrt{1-2\\rho z + z^2} + z - \\rho}{1-\\rho}\\right) \\\\\n",
    "\n",
    "D &= (F_0 K)^{\\frac{1-\\beta}{2}} \\left(1 + \\frac{(1-\\beta)^2}{24} \\log_2\\left(\\frac{F_0}{K}\\right) + \\frac{(1-\\beta)^4}{1920} \\log_{4}\\left(\\frac{F_0}{K}\\right)\\right) \\\\\n",
    "\n",
    "A &= 1 + \\left(\\frac{(1-\\beta)^2}{24} \\sigma_0^2 (F_0 K)^{\\beta-1} + \\frac{\\rho \\beta \\upsilon \\sigma_0}{4} (F_0 K)^{\\frac{\\beta-1}{2}} + \\frac{(2-3\\rho^2)}{24} \\upsilon^2\\right) T \\\\\n",
    "\n",
    "\\sigma &= \\frac{\\sigma_0}{D} \\left(\\frac{z}{x}\\right) A \\\\\n",
    "\n",
    "\\end{aligned}\n",
    "\\end{equation*}\n"
   ]
  },
  {
   "cell_type": "markdown",
   "metadata": {},
   "source": [
    "#### Simulating the SABR model"
   ]
  },
  {
   "cell_type": "code",
   "execution_count": null,
   "metadata": {},
   "outputs": [],
   "source": [
    "def sabr_simul(F_0,sigma_0,beta,upsilon,rho,M,T):\n",
    "    sigma, F = np.zeros([M+1]), np.zeros([M+1])\n",
    "    sigma[0], F[0] = sigma_0, F_0\n",
    "    delta = T/M\n",
    "    Z = np.random.standard_normal([2,M])\n",
    "    # print(np.average(Z[1,:]),np.var(Z[1,:]))\n",
    "    delta_sqrt = np.sqrt(delta)\n",
    "    rho_sqrt = np.sqrt(1-rho**2)\n",
    "    for m in range(1,M+1):\n",
    "        F[m] = F[m-1] + sigma[m-1]*F[m-1]**beta*delta_sqrt*Z[0,m-1]\n",
    "        if F[m] < 0:\n",
    "            F[m] = F[m-1]\n",
    "        sigma[m] = sigma[m-1] + upsilon*sigma[m-1]*delta_sqrt*(rho*Z[0,m-1] + rho_sqrt*Z[1,m-1])\n",
    "        if sigma[m] < 0:\n",
    "            sigma[m] = sigma[m-1]\n",
    "    return F, sigma"
   ]
  },
  {
   "cell_type": "markdown",
   "metadata": {},
   "source": [
    "Input: Same as above:\n",
    "\n",
    "Output: Forward rate, $F$, and the $\\sigma$\n",
    "\n",
    "Formula (not in slides, don't know where they are derived from):\n",
    "\n",
    "Discretization of $dF_t$:\n",
    "\n",
    "\\begin{equation*}\n",
    "F_{t} = F_{t-1} + \\sigma_{t-1} F_{t-1}^\\beta \\sqrt{\\Delta t} Z_{0,t-1}\n",
    "\\end{equation*}\n",
    "\n",
    "Here, $\\Delta t = \\frac{T}{M}$ is the time step, $Z_{0,t-1}$ is a normally distributed random variable representing $dW_t^{(1)}$, and $M$ is the number of steps.\n",
    "\n",
    "Discretization of $d\\sigma_t$:\n",
    "\n",
    "\\begin{equation*}\n",
    "\\sigma_{t} = \\sigma_{t-1} + \\upsilon \\sigma_{t-1} \\sqrt{\\Delta t} (\\rho Z_{0,t-1} + \\sqrt{1 - \\rho^2} Z_{1,t-1})\n",
    "\\end{equation*}\n",
    "\n",
    "Here, $Z_{1,t-1}$ is another normally distributed random variable representing $dW_t^{(2)}$, and the term $\\sqrt{1 - \\rho^2}$ accounts for the correlation between the two Brownian motions.\n"
   ]
  },
  {
   "cell_type": "markdown",
   "metadata": {},
   "source": [
    "#### Calculate the sum of squared errors from a model fit"
   ]
  },
  {
   "cell_type": "code",
   "execution_count": null,
   "metadata": {},
   "outputs": [],
   "source": [
    "def fit_sabr_obj(param,sigma_market,K,T,R):\n",
    "    sigma_0, beta, upsilon, rho = param\n",
    "    N = len(sigma_market)\n",
    "    sse = 0\n",
    "    for n in range(0,N):\n",
    "        sigma_model = sigma_sabr(K[n],T,R,sigma_0,beta,upsilon,rho,type = \"call\")\n",
    "        sse += (sigma_market[n]-sigma_model)**2\n",
    "    return sse"
   ]
  },
  {
   "cell_type": "markdown",
   "metadata": {},
   "source": [
    "Input:\n",
    "\n",
    "\\begin{equation*}\n",
    "\\begin{aligned}\n",
    "\\text{param}&=\\sigma_{0},\\beta,\\upsilon,\\rho:\\text{Parameters that we need to optimize over} \\\\\n",
    "\n",
    "\\text{sigma\\_market}&=\\text{Observed }\\sigma\\text{ values} \\\\\n",
    "\n",
    "\\text{K}&=\\text{Strike price} \\\\\n",
    "\n",
    "\\text{T}&=\\text{Time to maturity}  \\\\\n",
    "\n",
    "\\text{R}&=\\text{Forward rate or }F_{0}  \n",
    "\\end{aligned}\n",
    "\\end{equation*}\n",
    "\n",
    "Output: Squared standard errors"
   ]
  },
  {
   "cell_type": "markdown",
   "metadata": {},
   "source": [
    "#### ZCB curvefitting\n",
    "\n",
    "This code is very long, so I'll comment what each step does"
   ]
  },
  {
   "cell_type": "code",
   "execution_count": null,
   "metadata": {},
   "outputs": [],
   "source": [
    "# ZCB curvefitting\n",
    "def zcb_curve_fit(data_input,interpolation_options = {\"method\": \"linear\"},scaling = 1):\n",
    "    data = copy.deepcopy(data_input)\n",
    "    data_known = []\n",
    "    libor_data, fra_data, swap_data = [], [], []\n",
    "    # Separateing the data and constructing data_known from fixings\n",
    "    for item in data:\n",
    "        if item[\"instrument\"] == \"libor\":\n",
    "            libor_data.append(item)\n",
    "            data_known.append({\"maturity\":item[\"maturity\"],\"rate\":np.log(1+item[\"rate\"]*item[\"maturity\"])/item[\"maturity\"]})\n",
    "        elif item[\"instrument\"] == \"fra\":\n",
    "            fra_data.append(item)\n",
    "        elif item[\"instrument\"] == \"swap\":\n",
    "            swap_data.append(item)"
   ]
  },
  {
   "cell_type": "markdown",
   "metadata": {},
   "source": [
    "The first part separates the data into different lists. The structure of the dataset is supposed to be loaded usiung the following example:\n"
   ]
  },
  {
   "cell_type": "code",
   "execution_count": 6,
   "metadata": {},
   "outputs": [],
   "source": [
    "# EURIBOR_fixing = [{\"id\": 0,\"instrument\": \"libor\",\"maturity\": 1/2, \"rate\":0.03478}]\n",
    "# fra_market = [{\"id\": 1,\"instrument\": \"fra\",\"exercise\": 1/12,\"maturity\": 7/12,\"rate\": 0.03743}, ...]\n",
    "# swap_market = [{\"id\": 10,\"instrument\": \"swap\",\"maturity\": 2, \"rate\": 0.04377,\n",
    "#                 \"float_freq\": \"semiannual\", \"fixed_freq\": \"semiannual\",\"indices\": []}, ...]\n",
    "# data = EURIBOR_fixing + fra_market + swap_market"
   ]
  },
  {
   "cell_type": "markdown",
   "metadata": {},
   "source": [
    "If we have the Libor rate, also add the following (unsure of notation here):\n",
    "\n",
    "\\begin{equation*}\n",
    "    r(T)=\\frac{\\log(1+L(T)\\cdot T)}{T}\n",
    "\\end{equation*}\n",
    "\n",
    "where $T$ is the maturity and $L(T)$ is the Libor rate."
   ]
  },
  {
   "cell_type": "code",
   "execution_count": null,
   "metadata": {},
   "outputs": [],
   "source": [
    "# Adding elements to data_knwon based on FRAs\n",
    "I_done = False\n",
    "while I_done == False:\n",
    "    for fra in fra_data:\n",
    "        I_exer, known_exer = value_in_list_of_dict_returns_I_idx(fra[\"exercise\"],data_known,\"maturity\")\n",
    "        I_mat, known_mat = value_in_list_of_dict_returns_I_idx(fra[\"maturity\"],data_known,\"maturity\")\n",
    "        # FIX the last few instances!!!!\n",
    "        if I_exer == True and I_mat == False:\n",
    "            data_known.append({\"maturity\":fra[\"maturity\"],\"rate\":(known_exer[\"rate\"]*known_exer[\"maturity\"]+np.log(1+(fra[\"maturity\"]-fra[\"exercise\"])*fra[\"rate\"]))/fra[\"maturity\"]})\n",
    "            I_done = False\n",
    "            break\n",
    "        if I_exer == False and I_mat == True:\n",
    "            pass\n",
    "        if I_exer == True and I_mat == True:\n",
    "            pass\n",
    "        else:\n",
    "            I_done = True"
   ]
  },
  {
   "cell_type": "markdown",
   "metadata": {},
   "source": [
    "For the forward rate, we calculate what we know. We check if either the exercise or the maturity corresponds to the maturity of the Libor rate. If the exercise price of the FRA corresponds to the Libor maturity, we calculate the following: \n",
    "\n",
    "\\begin{equation*}\n",
    "r(T,R)=FRA(T,R)\\cdot T+\\frac{\\log1+(T-R)\\cdot FRA(T,R)}{T}\n",
    "\\end{equation*}\n",
    "\n",
    "where $FRA$ is the forward rate, $T$ is the maturity and $R$ the exercise date.\n",
    "\n",
    "Notice that 'value_in_list_of_dict_returns_I_idx' is the same function as 'value_in_list_returns_I_idx', just for dictionaries instead of lists."
   ]
  },
  {
   "cell_type": "code",
   "execution_count": null,
   "metadata": {},
   "outputs": [],
   "source": [
    "T_known, T_swap, T_knot = [], [], []\n",
    "R_known = []\n",
    "# Finding T's and corresponding R's where there is some known data\n",
    "for known in data_known:\n",
    "    T_known.append(known[\"maturity\"])\n",
    "    R_known.append(known[\"rate\"])\n",
    "for swap in swap_data:\n",
    "    T_knot.append(swap[\"maturity\"])\n",
    "    if swap[\"float_freq\"] == \"quarterly\":\n",
    "        if value_in_list_returns_I_idx(0.25,T_known)[0] == False and value_in_list_returns_I_idx(0.25,T_swap)[0] == False:\n",
    "            T_swap.append(0.25)\n",
    "    elif swap[\"float_freq\"] == \"semiannual\":\n",
    "        if value_in_list_returns_I_idx(0.5,T_known)[0] == False and value_in_list_returns_I_idx(0.5,T_swap)[0] == False:\n",
    "            T_swap.append(0.5)\n",
    "    elif swap[\"float_freq\"] == \"annual\":\n",
    "        if value_in_list_returns_I_idx(1,T_known)[0] == False and value_in_list_returns_I_idx(1,T_swap)[0] == False:\n",
    "            T_swap.append(1)\n",
    "    if swap[\"fixed_freq\"] == \"quarterly\":\n",
    "        for i in range(1,4*swap[\"maturity\"]):\n",
    "            if value_in_list_returns_I_idx(i*0.25,T_known)[0] == False and value_in_list_returns_I_idx(i*0.25,T_knot)[0] == False and value_in_list_returns_I_idx(i*0.25,T_swap)[0] == False:\n",
    "                T_swap.append(i*0.25)\n",
    "    elif swap[\"fixed_freq\"] == \"semiannual\":\n",
    "        for i in range(1,2*swap[\"maturity\"]):\n",
    "            if value_in_list_returns_I_idx(i*0.5,T_known)[0] == False and value_in_list_returns_I_idx(i*0.5,T_knot)[0] == False and value_in_list_returns_I_idx(i*0.5,T_swap)[0] == False:\n",
    "                T_swap.append(i*0.5)\n",
    "    elif swap[\"fixed_freq\"] == \"annual\":\n",
    "        for i in range(1,swap[\"maturity\"]):\n",
    "            if value_in_list_returns_I_idx(i,T_known)[0] == False and value_in_list_returns_I_idx(i*1,T_knot)[0] == False and value_in_list_returns_I_idx(i,T_swap)[0] == False:\n",
    "                T_swap.append(i)"
   ]
  },
  {
   "cell_type": "markdown",
   "metadata": {},
   "source": [
    "The idea behind this code snippet is to create a list of swap maturities, T_swap, that does not include maturities already known. For example if we have a annual frequency for both fixed and floating leg and know maturity 3, 4, 5, 10 and 30, we would get the following list:\n",
    "\n",
    "T_swap = [1, 2, 6, 7, 8, 9, 11, 12, ..., 29]"
   ]
  },
  {
   "cell_type": "code",
   "execution_count": null,
   "metadata": {},
   "outputs": [],
   "source": [
    "# Finding T_fra and T_endo\n",
    "T_endo, T_fra = [], []\n",
    "fra_data.reverse()\n",
    "for fra in fra_data:\n",
    "    if value_in_list_returns_I_idx(fra[\"maturity\"],T_known)[0] == False:\n",
    "        I_fra_mat, idx_fra_mat = value_in_list_returns_I_idx(fra[\"maturity\"],T_fra)\n",
    "        I_endo_mat, idx_endo_mat = value_in_list_returns_I_idx(fra[\"maturity\"],T_endo)\n",
    "        if I_fra_mat is False and I_endo_mat is False:\n",
    "            T_fra.append(fra[\"maturity\"])\n",
    "        elif I_fra_mat is True and I_endo_mat is False:\n",
    "            pass\n",
    "        elif I_fra_mat is False and I_endo_mat is True:\n",
    "            pass\n",
    "        elif I_fra_mat is True and I_endo_mat is True:\n",
    "            T_fra.pop(idx_fra_mat)\n",
    "    if value_in_list_returns_I_idx(fra[\"exercise\"],T_known)[0] == False:\n",
    "        I_fra_exer, idx_fra_exer = value_in_list_returns_I_idx(fra[\"exercise\"],T_fra)\n",
    "        I_endo_exer, idx_endo_exer = value_in_list_returns_I_idx(fra[\"exercise\"],T_endo)\n",
    "        if I_fra_exer is False and I_endo_exer is False:\n",
    "            T_endo.append(fra[\"exercise\"])\n",
    "        elif I_fra_exer is True and I_endo_exer is False:\n",
    "            T_fra.pop(idx_fra_exer)\n",
    "            T_endo.append(fra[\"exercise\"])\n",
    "        elif I_fra_exer is False and I_endo_exer is True:\n",
    "            pass\n",
    "        elif I_fra_exer is True and I_endo_exer is True:\n",
    "            T_fra.pop(idx_fra_exer)\n",
    "fra_data.reverse()"
   ]
  },
  {
   "cell_type": "markdown",
   "metadata": {},
   "source": [
    "The idea behind this is to check if the maturity or exercise of the forward rate is already known. If it isn't, it basically gets added to the dataset unless it's already there. It makes additional checks to see if the date is not already present. If it is, it gets removed."
   ]
  },
  {
   "cell_type": "code",
   "execution_count": null,
   "metadata": {},
   "outputs": [],
   "source": [
    "# Fitting the swap portino of the curve\n",
    "T_swap_fit = T_known + T_swap + T_knot\n",
    "T_swap_fit.sort(), T_fra.sort(), T_endo.sort()\n",
    "R_knot_init = [None]*len(swap_data)\n",
    "for i, swap in enumerate(swap_data):\n",
    "    indices = []\n",
    "    if swap[\"fixed_freq\"] == \"quarterly\":\n",
    "        for j in range(1,4*swap[\"maturity\"]+1):\n",
    "            indices.append(value_in_list_returns_I_idx(j*0.25,T_swap_fit)[1])\n",
    "    elif swap[\"fixed_freq\"] == \"semiannual\":\n",
    "        for j in range(1,2*swap[\"maturity\"]+1):\n",
    "            indices.append(value_in_list_returns_I_idx(j*0.5,T_swap_fit)[1])\n",
    "    elif swap[\"fixed_freq\"] == \"annual\":\n",
    "        for j in range(1,swap[\"maturity\"]+1):\n",
    "            indices.append(value_in_list_returns_I_idx(j,T_swap_fit)[1])\n",
    "    swap[\"indices\"] = indices\n",
    "    R_knot_init[i] = swap[\"rate\"]\n",
    "    i += 1"
   ]
  },
  {
   "cell_type": "markdown",
   "metadata": {},
   "source": [
    "This snippet creates a new list of maturities given if they are quarterly, seminannual or annual."
   ]
  },
  {
   "cell_type": "code",
   "execution_count": null,
   "metadata": {},
   "outputs": [],
   "source": [
    "args = (T_known,T_knot,T_swap_fit,R_known,swap_data,interpolation_options,1)\n",
    "result = minimize(zcb_curve_swap_fit_obj,R_knot_init,args = args,options={'disp': False})"
   ]
  },
  {
   "cell_type": "markdown",
   "metadata": {},
   "source": [
    "Finally, we have everything we need to know. We optimize 'zcb_curve_swap_fit_obj' with regards to the data we just found. We optimize over 'R_knot':"
   ]
  },
  {
   "cell_type": "code",
   "execution_count": null,
   "metadata": {},
   "outputs": [],
   "source": [
    "def zcb_curve_swap_fit_obj(R_knot,T_known,T_knot,T_all,R_known,swap_data,interpolation_options,scaling = 1):\n",
    "    sse = 0\n",
    "    R_knot = list(R_knot)\n",
    "    R_all = interpolate(T_known + T_knot,R_known + R_knot,T_all,interpolation_options)\n",
    "    p = spot_rates_to_zcb(T_all,R_all)\n",
    "    for n, swap in enumerate(swap_data):\n",
    "        if swap[\"fixed_freq\"] == \"quarterly\":\n",
    "            alpha = 0.25\n",
    "        if swap[\"fixed_freq\"] == \"semiannual\":\n",
    "            alpha = 0.5\n",
    "        if swap[\"fixed_freq\"] == \"annual\":\n",
    "            alpha = 1\n",
    "        S_swap = 0\n",
    "        for idx in swap[\"indices\"]:\n",
    "            S_swap += alpha*p[idx]\n",
    "        R_swap = (1 - p[swap[\"indices\"][-1]])/S_swap\n",
    "        sse += (R_swap - swap[\"rate\"])**2\n",
    "    sse *= scaling\n",
    "    return sse\n"
   ]
  },
  {
   "cell_type": "markdown",
   "metadata": {},
   "source": [
    "Here, we have that 'T_all' equals 'T_swap_fit'. We interprete 'R_known' and 'R_knot' over 'T_all' (or 'T_swap_fit'). We extract the 'R_knot' that minimizes the SSE."
   ]
  },
  {
   "cell_type": "code",
   "execution_count": null,
   "metadata": {},
   "outputs": [],
   "source": [
    "T_swap_curve, R_swap_curve = T_known + T_knot, R_known + list(result.x)\n",
    "    T_fra_fit = T_swap_curve + T_fra + T_endo\n",
    "    T_fra_fit.sort()\n",
    "    R_fra_fit = interpolate(T_swap_curve,R_swap_curve,T_fra_fit,interpolation_options)\n",
    "    R_fra_init = [None]*len(T_fra)\n",
    "    for i in range(0,len(T_fra)):\n",
    "        R_fra_init[i] = R_fra_fit[value_in_list_returns_I_idx(T_fra[i],T_fra_fit)[1]]\n",
    "    args = (T_fra,T_known,T_endo,T_fra_fit,R_fra_fit,fra_data,interpolation_options,scaling)\n",
    "    result = minimize(zcb_curve_fra_fit_obj,R_fra_init,args = args,options={'disp': False})\n"
   ]
  },
  {
   "cell_type": "markdown",
   "metadata": {},
   "source": [
    "We do the same as above, but instead of calculating the swap rate, we now calculate the forward rate, 'R_fra'. The idea is the same."
   ]
  },
  {
   "cell_type": "code",
   "execution_count": null,
   "metadata": {},
   "outputs": [],
   "source": [
    "R_fra = list(result.x)\n",
    "R_endo = R_T_endo_from_R_T_fra(R_fra,T_fra,T_endo,fra_data)\n",
    "for i in range(0,len(T_fra_fit)):\n",
    "    I_fra, idx_fra = value_in_list_returns_I_idx(T_fra_fit[i],T_fra)\n",
    "    if I_fra is True:\n",
    "        R_fra_fit[i] = R_fra[idx_fra]\n",
    "    elif I_fra is False:\n",
    "        I_endo, idx_endo = value_in_list_returns_I_idx(T_fra_fit[i],T_endo)\n",
    "        if I_endo is True:\n",
    "            R_fra_fit[i] = R_endo[idx_endo]\n",
    "return np.array(T_fra_fit), np.array(R_fra_fit)"
   ]
  },
  {
   "cell_type": "markdown",
   "metadata": {},
   "source": [
    "Now, we have 'R_fra' too. 'R_T_endo_from_R_T_fra' is complicated, but it in essentially transforms FRA rates to a different set of rates at specified target times, using given FRA data and times. Then, we either extract the endogenous forward rates or the known forward rates. The code for 'R_T_endo_from_R_T_fra' can be seen here:"
   ]
  },
  {
   "cell_type": "code",
   "execution_count": null,
   "metadata": {},
   "outputs": [],
   "source": [
    "def R_T_endo_from_R_T_fra(R_fra,T_fra,T_endo,fra_data):\n",
    "    R_fra.reverse(), T_fra.reverse()\n",
    "    R_endo = [None]*len(T_endo)\n",
    "    for i in range(0,len(T_fra)):\n",
    "        I_fra, dict_fra = value_in_list_of_dict_returns_I_idx(T_fra[i],fra_data,\"maturity\")\n",
    "        if I_fra is True:\n",
    "            idx_endo = value_in_list_returns_I_idx(dict_fra[\"exercise\"],T_endo)[1]\n",
    "            R_endo[idx_endo] = (R_fra[i]*T_fra[i] - np.log(1+(dict_fra[\"maturity\"]-dict_fra[\"exercise\"])*dict_fra[\"rate\"]))/T_endo[idx_endo]\n",
    "    R_fra.reverse(), T_fra.reverse()\n",
    "    R_endo.reverse(), T_endo.reverse()\n",
    "    for i in range(0,len(T_endo)):\n",
    "        I_fra, dict_fra = value_in_list_of_dict_returns_I_idx(T_endo[i],fra_data,\"maturity\")\n",
    "        if I_fra is True:\n",
    "            idx_endo = value_in_list_returns_I_idx(dict_fra[\"exercise\"],T_endo)[1]\n",
    "            R_endo[idx_endo] = (R_endo[i]*T_endo[i] - np.log(1+(dict_fra[\"maturity\"]-dict_fra[\"exercise\"])*dict_fra[\"rate\"]))/T_endo[idx_endo]\n",
    "    R_endo.reverse(), T_endo.reverse()\n",
    "    return R_endo"
   ]
  },
  {
   "cell_type": "markdown",
   "metadata": {},
   "source": [
    "#### Spot rate bump"
   ]
  },
  {
   "cell_type": "code",
   "execution_count": null,
   "metadata": {},
   "outputs": [],
   "source": [
    "def spot_rate_bump(T_bump,size_bump,T,R_input,p_input):\n",
    "    R, p = R_input.copy(), p_input.copy()\n",
    "    if type(T_bump) == int or type(T_bump) == float or type(T_bump) == np.float64:\n",
    "        I_bump, idx_bump = value_in_list_returns_I_idx(T_bump,T)\n",
    "        R[idx_bump] = R[idx_bump] + size_bump\n",
    "        p[idx_bump] = np.exp(-R[idx_bump]*T_bump)\n",
    "    elif type(T_bump) == tuple or type(T_bump) == list or type(T_bump) == np.ndarray:\n",
    "        if type(size_bump) == int or type(size_bump) == float or type(size_bump) == np.float64:\n",
    "            for i in range(0,len(T_bump)):\n",
    "                I_bump, idx_bump = value_in_list_returns_I_idx(T_bump[i],T)\n",
    "                R[idx_bump] = R[idx_bump] + size_bump\n",
    "                p[idx_bump] = np.exp(-R[idx_bump]*T_bump[i])\n",
    "        elif type(size_bump) == tuple or type(size_bump) == list or type(size_bump) == np.ndarray:\n",
    "            for i in range(0,len(T_bump)):\n",
    "                I_bump, idx_bump = value_in_list_returns_I_idx(T_bump[i],T)\n",
    "                R[idx_bump] = R[idx_bump] + size_bump[i]\n",
    "                p[idx_bump] = np.exp(-R[idx_bump]*T_bump[i])\n",
    "    return R, p"
   ]
  },
  {
   "cell_type": "markdown",
   "metadata": {},
   "source": [
    "This code looks complicated but it really is not. It just bumps the spot and ZCB at known times 'T_bump'.\n",
    "\n",
    "Input:\n",
    "\n",
    "\\begin{equation*}\n",
    "\\begin{aligned}\n",
    "\n",
    "\\text{T\\_bump}&=\\text{The times that we want to bump the price} \\\\\n",
    "\n",
    "\\text{size\\_bump}&=\\text{size of bump} \\\\\n",
    "\n",
    "\\text{T}&=\\text{Time to maturity} \\\\\n",
    "\n",
    "\\text{R\\_input}&=\\text{List of known spot rates} \\\\\n",
    "\n",
    "\\text{p\\_input}&=\\text{List of known ZCB prices}\n",
    "\n",
    "\\end{aligned}\n",
    "\\end{equation*}\n",
    "\n",
    "\n",
    "Output: List of bumped spot rates, R, and ZCB prices, p.\n",
    "\n",
    "Formula: \n",
    "\n",
    "\\begin{equation*}\n",
    "\\begin{aligned}\n",
    "\n",
    "R_{bumped}&=R_{original}+\\text{bump size} \\\\\n",
    "\n",
    "p_{bumped}&=\\exp(-R_{bumped}\\cdot(T-t))\n",
    "\n",
    "\\end{aligned}\n",
    "\\end{equation*}\n"
   ]
  },
  {
   "cell_type": "markdown",
   "metadata": {},
   "source": [
    "#### Market rate bump"
   ]
  },
  {
   "cell_type": "code",
   "execution_count": null,
   "metadata": {},
   "outputs": [],
   "source": [
    "def market_rate_bump(idx_bump,size_bump,data,interpolation_options = {\"method\": \"linear\"},resolution = 1):\n",
    "    data_bump = copy.deepcopy(data)\n",
    "    if type(idx_bump) == int or type(idx_bump) == float or type(idx_bump) == np.float64:\n",
    "        data_bump[idx_bump][\"rate\"] += size_bump\n",
    "        T_fit_bump, R_fit_bump = zcb_curve_fit(data_bump,interpolation_options = interpolation_options)\n",
    "        p_inter_bump, R_inter_bump, f_inter_bump, T_inter_bump = zcb_curve_interpolate(T_fit_bump,R_fit_bump,interpolation_options = interpolation_options,resolution = resolution)\n",
    "    elif type(idx_bump) == tuple or type(idx_bump) == list or type(idx_bump) == np.ndarray:\n",
    "        if type(size_bump) == int or type(size_bump) == float or type(size_bump) == np.float64:\n",
    "            for i in range(0,len(idx_bump)):\n",
    "                data_bump[idx_bump[i]][\"rate\"] += size_bump\n",
    "            T_fit_bump, R_fit_bump = zcb_curve_fit(data_bump,interpolation_options = interpolation_options)\n",
    "            p_inter_bump, R_inter_bump, f_inter_bump, T_inter_bump = zcb_curve_interpolate(T_fit_bump,R_fit_bump,interpolation_options = interpolation_options,resolution = resolution)\n",
    "        elif type(size_bump) == tuple or type(size_bump) == list or type(size_bump) == np.ndarray:\n",
    "            for i in range(0,len(idx_bump)):\n",
    "                data_bump[idx_bump[i]][\"rate\"] += size_bump[i]\n",
    "            T_fit_bump, R_fit_bump = zcb_curve_fit(data_bump,interpolation_options = interpolation_options)\n",
    "            p_inter_bump, R_inter_bump, f_inter_bump, T_inter_bump = zcb_curve_interpolate(T_fit_bump,R_fit_bump,interpolation_options = interpolation_options,resolution = resolution)\n",
    "    return p_inter_bump, R_inter_bump, f_inter_bump, T_inter_bump, data_bump"
   ]
  },
  {
   "cell_type": "markdown",
   "metadata": {},
   "source": [
    "This code combines basically everything. There are three parts to it:\n",
    "\n",
    "First, it bumps the data given.\n",
    "\n",
    "Second, it fits the spot rate, R, and time to maturity, T, using the bumped data.\n",
    "\n",
    "Thrid, using the fitted curve, it interpolates ZCB over given 'T_fit_bump' and 'R_fit_bump' to find interior bumped points.\n",
    "\n",
    "The code for the ZCB curve interpolation can be seen below:"
   ]
  },
  {
   "cell_type": "code",
   "execution_count": null,
   "metadata": {},
   "outputs": [],
   "source": [
    "def zcb_curve_interpolate(T,R,interpolation_options = {\"method\":\"linear\"},resolution = 1):\n",
    "    T_inter = np.array([i*(1/(resolution*12)) for i in range(0,int(T[-1])*12*resolution + 1)])\n",
    "    # T_inter = np.array([i*(1/(res*12)) for i in range(0,2*12*res + 1)])\n",
    "    N = len(T_inter)\n",
    "    p_inter = np.ones([N])\n",
    "    R_inter = np.zeros([N])\n",
    "    f_inter = np.zeros([N])\n",
    "    if interpolation_options[\"method\"] == \"linear\":\n",
    "        for n in range(1,N):\n",
    "            I_known, idx = value_in_list_returns_I_idx(T_inter[n],T)\n",
    "            if I_known == True:\n",
    "                R_inter[n] = R[idx]\n",
    "            else:\n",
    "                idx_before_x, idx_after_x = idx_before_after_in_list(T_inter[n],T)\n",
    "                R_inter[n] = ((T[idx_after_x]-T_inter[n])/(T[idx_after_x]-T[idx_before_x]))*R[idx_before_x] + ((T_inter[n]-T[idx_before_x])/(T[idx_after_x]-T[idx_before_x]))*R[idx_after_x]\n",
    "            p_inter[n] = np.exp(-R_inter[n]*T_inter[n])\n",
    "        for n in range(1,N):\n",
    "            if n < N-1:\n",
    "                f_inter[n] = (np.log(p_inter[n-1])-np.log(p_inter[n+1]))/(T_inter[n+1]-T_inter[n-1])\n",
    "            elif n == N - 1:\n",
    "                f_inter[n] = (np.log(p_inter[n-1])-np.log(p_inter[n]))/(T_inter[n]-T_inter[n-1])\n",
    "    elif interpolation_options[\"method\"] == \"hermite\":\n",
    "        indices = []\n",
    "        for item in T:\n",
    "            I_idx, idx = value_in_list_returns_I_idx(item,T_inter)\n",
    "            if I_idx is True:\n",
    "                indices.append(value_in_list_returns_I_idx(item,T_inter)[1])\n",
    "        l, r = -int((interpolation_options[\"degree\"]+1)/2),int(interpolation_options[\"degree\"]/2)\n",
    "        for i in range(-l,-r+len(T)):\n",
    "            coef = hermfit(T[i+l:i+r+1],R[i+l:i+r+1],interpolation_options[\"degree\"])\n",
    "            coef_der = hermder(coef)\n",
    "            for idx in range(indices[i+l],indices[i+r]+1):\n",
    "                R_inter[idx] = hermval(T_inter[idx],coef)\n",
    "                f_inter[idx] = hermval(T_inter[idx],coef_der)*T_inter[idx] + R_inter[idx]\n",
    "                p_inter[idx] = np.exp(-R_inter[idx]*T_inter[idx])\n",
    "    return p_inter, R_inter, f_inter, T_inter"
   ]
  }
 ],
 "metadata": {
  "kernelspec": {
   "display_name": "base",
   "language": "python",
   "name": "python3"
  },
  "language_info": {
   "codemirror_mode": {
    "name": "ipython",
    "version": 3
   },
   "file_extension": ".py",
   "mimetype": "text/x-python",
   "name": "python",
   "nbconvert_exporter": "python",
   "pygments_lexer": "ipython3",
   "version": "3.8.5"
  }
 },
 "nbformat": 4,
 "nbformat_minor": 4
}
